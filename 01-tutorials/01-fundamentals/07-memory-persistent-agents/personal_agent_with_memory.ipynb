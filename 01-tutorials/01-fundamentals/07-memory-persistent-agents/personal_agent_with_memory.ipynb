{
 "cells": [
  {
   "cell_type": "markdown",
   "id": "8797de2a",
   "metadata": {},
   "source": [
    "# Persisting memory across Strands Agents sessions\n",
    "\n",
    "In this example you will learn how to persist memory across different sessions in your Strands Agents. \n",
    "\n",
    "We will use the use case of an agent that does web search using a `duckduckgo` search API.\n",
    "\n",
    "In this notebook, we will:\n",
    "- Explore the capabilities of a memory-powered Strands agent.\n",
    "- Learn how to store, retrieve, and list memories.\n",
    "- Understand how to perform web searches via the agent.\n",
    "- Interact with the agent in an interactive loop.\n",
    "\n",
    "\n",
    "### Usage Examples\n",
    "\n",
    "Storing memories:\n",
    "```\n",
    "Remember that I prefer tea over coffee\n",
    "```\n",
    "\n",
    "Retrieving memories:\n",
    "```\n",
    "What do I prefer to drink?\n",
    "```\n",
    "\n",
    "Listing all memories:\n",
    "```\n",
    "Show me everything you remember about me\n",
    "```\n",
    "\n",
    "### Tips for Memory Usage\n",
    "\n",
    "- Be explicit when asking the agent to remember information\n",
    "- Use specific queries to retrieve relevant memories\n",
    "- Memory persistence enables more natural and contextual conversations"
   ]
  },
  {
   "cell_type": "markdown",
   "id": "c468364c",
   "metadata": {},
   "source": [
    "## Setup and prerequisites\n",
    "\n",
    "### Prerequisites\n",
    "* Python 3.10+\n",
    "* AWS account and AWS credentials configured in the environment\n",
    "* Anthropic Claude 3.7 enabled on Amazon Bedrock\n",
    "* IAM role with permissions to create Amazon Bedrock Knowledge Base, Amazon S3 bucket and Amazon DynamoDB\n",
    "\n",
    "Let's now install the requirement packages for our Strands Agent"
   ]
  },
  {
   "cell_type": "code",
   "execution_count": 1,
   "id": "ae029383",
   "metadata": {},
   "outputs": [
    {
     "name": "stdout",
     "output_type": "stream",
     "text": [
      "Requirement already satisfied: strands-agents in /usr/local/python/3.11.13/lib/python3.11/site-packages (from -r requirements.txt (line 1)) (1.0.0)\n",
      "Requirement already satisfied: strands-agents-tools in /usr/local/python/3.11.13/lib/python3.11/site-packages (from -r requirements.txt (line 2)) (0.2.0)\n",
      "Collecting mem0ai (from -r requirements.txt (line 3))\n",
      "  Downloading mem0ai-0.1.114-py3-none-any.whl.metadata (8.9 kB)\n",
      "Requirement already satisfied: boto3 in /usr/local/python/3.11.13/lib/python3.11/site-packages (from -r requirements.txt (line 4)) (1.39.6)\n",
      "Requirement already satisfied: opensearch-py in /usr/local/python/3.11.13/lib/python3.11/site-packages (from -r requirements.txt (line 5)) (3.0.0)\n",
      "Requirement already satisfied: duckduckgo-search in /usr/local/python/3.11.13/lib/python3.11/site-packages (from -r requirements.txt (line 6)) (8.1.1)\n",
      "Requirement already satisfied: python-dotenv in /usr/local/python/3.11.13/lib/python3.11/site-packages (from -r requirements.txt (line 7)) (1.1.1)\n",
      "Requirement already satisfied: botocore<2.0.0,>=1.29.0 in /usr/local/python/3.11.13/lib/python3.11/site-packages (from strands-agents->-r requirements.txt (line 1)) (1.39.6)\n",
      "Requirement already satisfied: docstring-parser<1.0,>=0.15 in /usr/local/python/3.11.13/lib/python3.11/site-packages (from strands-agents->-r requirements.txt (line 1)) (0.16)\n",
      "Requirement already satisfied: mcp<2.0.0,>=1.8.0 in /usr/local/python/3.11.13/lib/python3.11/site-packages (from strands-agents->-r requirements.txt (line 1)) (1.11.0)\n",
      "Requirement already satisfied: opentelemetry-api<2.0.0,>=1.30.0 in /usr/local/python/3.11.13/lib/python3.11/site-packages (from strands-agents->-r requirements.txt (line 1)) (1.35.0)\n",
      "Requirement already satisfied: opentelemetry-instrumentation-threading<1.00b0,>=0.51b0 in /usr/local/python/3.11.13/lib/python3.11/site-packages (from strands-agents->-r requirements.txt (line 1)) (0.56b0)\n",
      "Requirement already satisfied: opentelemetry-sdk<2.0.0,>=1.30.0 in /usr/local/python/3.11.13/lib/python3.11/site-packages (from strands-agents->-r requirements.txt (line 1)) (1.35.0)\n",
      "Requirement already satisfied: pydantic<3.0.0,>=2.0.0 in /usr/local/python/3.11.13/lib/python3.11/site-packages (from strands-agents->-r requirements.txt (line 1)) (2.11.7)\n",
      "Requirement already satisfied: typing-extensions<5.0.0,>=4.13.2 in /usr/local/python/3.11.13/lib/python3.11/site-packages (from strands-agents->-r requirements.txt (line 1)) (4.14.1)\n",
      "Requirement already satisfied: watchdog<7.0.0,>=6.0.0 in /usr/local/python/3.11.13/lib/python3.11/site-packages (from strands-agents->-r requirements.txt (line 1)) (6.0.0)\n",
      "Requirement already satisfied: jmespath<2.0.0,>=0.7.1 in /usr/local/python/3.11.13/lib/python3.11/site-packages (from boto3->-r requirements.txt (line 4)) (1.0.1)\n",
      "Requirement already satisfied: s3transfer<0.14.0,>=0.13.0 in /usr/local/python/3.11.13/lib/python3.11/site-packages (from boto3->-r requirements.txt (line 4)) (0.13.0)\n",
      "Requirement already satisfied: python-dateutil<3.0.0,>=2.1 in /usr/local/python/3.11.13/lib/python3.11/site-packages (from botocore<2.0.0,>=1.29.0->strands-agents->-r requirements.txt (line 1)) (2.9.0.post0)\n",
      "Requirement already satisfied: urllib3!=2.2.0,<3,>=1.25.4 in /usr/local/python/3.11.13/lib/python3.11/site-packages (from botocore<2.0.0,>=1.29.0->strands-agents->-r requirements.txt (line 1)) (2.5.0)\n",
      "Requirement already satisfied: anyio>=4.5 in /usr/local/python/3.11.13/lib/python3.11/site-packages (from mcp<2.0.0,>=1.8.0->strands-agents->-r requirements.txt (line 1)) (4.9.0)\n",
      "Requirement already satisfied: httpx-sse>=0.4 in /usr/local/python/3.11.13/lib/python3.11/site-packages (from mcp<2.0.0,>=1.8.0->strands-agents->-r requirements.txt (line 1)) (0.4.1)\n",
      "Requirement already satisfied: httpx>=0.27 in /usr/local/python/3.11.13/lib/python3.11/site-packages (from mcp<2.0.0,>=1.8.0->strands-agents->-r requirements.txt (line 1)) (0.28.1)\n",
      "Requirement already satisfied: jsonschema>=4.20.0 in /usr/local/python/3.11.13/lib/python3.11/site-packages (from mcp<2.0.0,>=1.8.0->strands-agents->-r requirements.txt (line 1)) (4.24.0)\n",
      "Requirement already satisfied: pydantic-settings>=2.5.2 in /usr/local/python/3.11.13/lib/python3.11/site-packages (from mcp<2.0.0,>=1.8.0->strands-agents->-r requirements.txt (line 1)) (2.10.1)\n",
      "Requirement already satisfied: python-multipart>=0.0.9 in /usr/local/python/3.11.13/lib/python3.11/site-packages (from mcp<2.0.0,>=1.8.0->strands-agents->-r requirements.txt (line 1)) (0.0.20)\n",
      "Requirement already satisfied: sse-starlette>=1.6.1 in /usr/local/python/3.11.13/lib/python3.11/site-packages (from mcp<2.0.0,>=1.8.0->strands-agents->-r requirements.txt (line 1)) (2.4.1)\n",
      "Requirement already satisfied: starlette>=0.27 in /usr/local/python/3.11.13/lib/python3.11/site-packages (from mcp<2.0.0,>=1.8.0->strands-agents->-r requirements.txt (line 1)) (0.47.1)\n",
      "Requirement already satisfied: uvicorn>=0.23.1 in /usr/local/python/3.11.13/lib/python3.11/site-packages (from mcp<2.0.0,>=1.8.0->strands-agents->-r requirements.txt (line 1)) (0.35.0)\n",
      "Requirement already satisfied: importlib-metadata<8.8.0,>=6.0 in /usr/local/python/3.11.13/lib/python3.11/site-packages (from opentelemetry-api<2.0.0,>=1.30.0->strands-agents->-r requirements.txt (line 1)) (8.7.0)\n",
      "Requirement already satisfied: zipp>=3.20 in /usr/local/python/3.11.13/lib/python3.11/site-packages (from importlib-metadata<8.8.0,>=6.0->opentelemetry-api<2.0.0,>=1.30.0->strands-agents->-r requirements.txt (line 1)) (3.23.0)\n",
      "Requirement already satisfied: opentelemetry-instrumentation==0.56b0 in /usr/local/python/3.11.13/lib/python3.11/site-packages (from opentelemetry-instrumentation-threading<1.00b0,>=0.51b0->strands-agents->-r requirements.txt (line 1)) (0.56b0)\n",
      "Requirement already satisfied: wrapt<2.0.0,>=1.0.0 in /usr/local/python/3.11.13/lib/python3.11/site-packages (from opentelemetry-instrumentation-threading<1.00b0,>=0.51b0->strands-agents->-r requirements.txt (line 1)) (1.17.2)\n",
      "Requirement already satisfied: opentelemetry-semantic-conventions==0.56b0 in /usr/local/python/3.11.13/lib/python3.11/site-packages (from opentelemetry-instrumentation==0.56b0->opentelemetry-instrumentation-threading<1.00b0,>=0.51b0->strands-agents->-r requirements.txt (line 1)) (0.56b0)\n",
      "Requirement already satisfied: packaging>=18.0 in /usr/local/python/3.11.13/lib/python3.11/site-packages (from opentelemetry-instrumentation==0.56b0->opentelemetry-instrumentation-threading<1.00b0,>=0.51b0->strands-agents->-r requirements.txt (line 1)) (24.2)\n",
      "Requirement already satisfied: annotated-types>=0.6.0 in /usr/local/python/3.11.13/lib/python3.11/site-packages (from pydantic<3.0.0,>=2.0.0->strands-agents->-r requirements.txt (line 1)) (0.7.0)\n",
      "Requirement already satisfied: pydantic-core==2.33.2 in /usr/local/python/3.11.13/lib/python3.11/site-packages (from pydantic<3.0.0,>=2.0.0->strands-agents->-r requirements.txt (line 1)) (2.33.2)\n",
      "Requirement already satisfied: typing-inspection>=0.4.0 in /usr/local/python/3.11.13/lib/python3.11/site-packages (from pydantic<3.0.0,>=2.0.0->strands-agents->-r requirements.txt (line 1)) (0.4.1)\n",
      "Requirement already satisfied: six>=1.5 in /usr/local/python/3.11.13/lib/python3.11/site-packages (from python-dateutil<3.0.0,>=2.1->botocore<2.0.0,>=1.29.0->strands-agents->-r requirements.txt (line 1)) (1.17.0)\n",
      "Requirement already satisfied: aws-requests-auth<0.5.0,>=0.4.3 in /usr/local/python/3.11.13/lib/python3.11/site-packages (from strands-agents-tools->-r requirements.txt (line 2)) (0.4.3)\n",
      "Requirement already satisfied: dill<0.5.0,>=0.4.0 in /usr/local/python/3.11.13/lib/python3.11/site-packages (from strands-agents-tools->-r requirements.txt (line 2)) (0.4.0)\n",
      "Requirement already satisfied: markdownify<2.0.0,>=1.0.0 in /usr/local/python/3.11.13/lib/python3.11/site-packages (from strands-agents-tools->-r requirements.txt (line 2)) (1.1.0)\n",
      "Requirement already satisfied: pillow<12.0.0,>=11.2.1 in /usr/local/python/3.11.13/lib/python3.11/site-packages (from strands-agents-tools->-r requirements.txt (line 2)) (11.3.0)\n",
      "Requirement already satisfied: prompt-toolkit<4.0.0,>=3.0.51 in /usr/local/python/3.11.13/lib/python3.11/site-packages (from strands-agents-tools->-r requirements.txt (line 2)) (3.0.51)\n",
      "Requirement already satisfied: pyjwt<3.0.0,>=2.10.1 in /usr/local/python/3.11.13/lib/python3.11/site-packages (from strands-agents-tools->-r requirements.txt (line 2)) (2.10.1)\n",
      "Requirement already satisfied: readabilipy<1.0.0,>=0.2.0 in /usr/local/python/3.11.13/lib/python3.11/site-packages (from strands-agents-tools->-r requirements.txt (line 2)) (0.3.0)\n",
      "Requirement already satisfied: rich<15.0.0,>=14.0.0 in /usr/local/python/3.11.13/lib/python3.11/site-packages (from strands-agents-tools->-r requirements.txt (line 2)) (14.0.0)\n",
      "Requirement already satisfied: slack-bolt<2.0.0,>=1.23.0 in /usr/local/python/3.11.13/lib/python3.11/site-packages (from strands-agents-tools->-r requirements.txt (line 2)) (1.23.0)\n",
      "Requirement already satisfied: sympy<2.0.0,>=1.12.0 in /usr/local/python/3.11.13/lib/python3.11/site-packages (from strands-agents-tools->-r requirements.txt (line 2)) (1.14.0)\n",
      "Requirement already satisfied: tenacity<10.0.0,>=9.1.2 in /usr/local/python/3.11.13/lib/python3.11/site-packages (from strands-agents-tools->-r requirements.txt (line 2)) (9.1.2)\n",
      "Requirement already satisfied: requests>=0.14.0 in /usr/local/python/3.11.13/lib/python3.11/site-packages (from aws-requests-auth<0.5.0,>=0.4.3->strands-agents-tools->-r requirements.txt (line 2)) (2.32.4)\n",
      "Requirement already satisfied: beautifulsoup4<5,>=4.9 in /usr/local/python/3.11.13/lib/python3.11/site-packages (from markdownify<2.0.0,>=1.0.0->strands-agents-tools->-r requirements.txt (line 2)) (4.13.4)\n",
      "Requirement already satisfied: soupsieve>1.2 in /usr/local/python/3.11.13/lib/python3.11/site-packages (from beautifulsoup4<5,>=4.9->markdownify<2.0.0,>=1.0.0->strands-agents-tools->-r requirements.txt (line 2)) (2.7)\n",
      "Requirement already satisfied: wcwidth in /usr/local/python/3.11.13/lib/python3.11/site-packages (from prompt-toolkit<4.0.0,>=3.0.51->strands-agents-tools->-r requirements.txt (line 2)) (0.2.13)\n",
      "Requirement already satisfied: html5lib in /usr/local/python/3.11.13/lib/python3.11/site-packages (from readabilipy<1.0.0,>=0.2.0->strands-agents-tools->-r requirements.txt (line 2)) (1.1)\n",
      "Requirement already satisfied: lxml in /usr/local/python/3.11.13/lib/python3.11/site-packages (from readabilipy<1.0.0,>=0.2.0->strands-agents-tools->-r requirements.txt (line 2)) (6.0.0)\n",
      "Requirement already satisfied: regex in /usr/local/python/3.11.13/lib/python3.11/site-packages (from readabilipy<1.0.0,>=0.2.0->strands-agents-tools->-r requirements.txt (line 2)) (2024.11.6)\n",
      "Requirement already satisfied: markdown-it-py>=2.2.0 in /usr/local/python/3.11.13/lib/python3.11/site-packages (from rich<15.0.0,>=14.0.0->strands-agents-tools->-r requirements.txt (line 2)) (3.0.0)\n",
      "Requirement already satisfied: pygments<3.0.0,>=2.13.0 in /usr/local/python/3.11.13/lib/python3.11/site-packages (from rich<15.0.0,>=14.0.0->strands-agents-tools->-r requirements.txt (line 2)) (2.19.2)\n",
      "Requirement already satisfied: slack_sdk<4,>=3.35.0 in /usr/local/python/3.11.13/lib/python3.11/site-packages (from slack-bolt<2.0.0,>=1.23.0->strands-agents-tools->-r requirements.txt (line 2)) (3.36.0)\n",
      "Requirement already satisfied: mpmath<1.4,>=1.1.0 in /usr/local/python/3.11.13/lib/python3.11/site-packages (from sympy<2.0.0,>=1.12.0->strands-agents-tools->-r requirements.txt (line 2)) (1.3.0)\n",
      "Requirement already satisfied: openai>=1.33.0 in /usr/local/python/3.11.13/lib/python3.11/site-packages (from mem0ai->-r requirements.txt (line 3)) (1.96.1)\n",
      "Collecting posthog>=3.5.0 (from mem0ai->-r requirements.txt (line 3))\n",
      "  Downloading posthog-6.1.0-py3-none-any.whl.metadata (6.0 kB)\n",
      "Requirement already satisfied: pytz>=2024.1 in /usr/local/python/3.11.13/lib/python3.11/site-packages (from mem0ai->-r requirements.txt (line 3)) (2025.2)\n",
      "Collecting qdrant-client>=1.9.1 (from mem0ai->-r requirements.txt (line 3))\n",
      "  Downloading qdrant_client-1.14.3-py3-none-any.whl.metadata (10 kB)\n",
      "Requirement already satisfied: sqlalchemy>=2.0.31 in /usr/local/python/3.11.13/lib/python3.11/site-packages (from mem0ai->-r requirements.txt (line 3)) (2.0.41)\n",
      "Requirement already satisfied: certifi>=2024.07.04 in /usr/local/python/3.11.13/lib/python3.11/site-packages (from opensearch-py->-r requirements.txt (line 5)) (2025.7.14)\n",
      "Requirement already satisfied: Events in /usr/local/python/3.11.13/lib/python3.11/site-packages (from opensearch-py->-r requirements.txt (line 5)) (0.5)\n",
      "Requirement already satisfied: charset_normalizer<4,>=2 in /usr/local/python/3.11.13/lib/python3.11/site-packages (from requests>=0.14.0->aws-requests-auth<0.5.0,>=0.4.3->strands-agents-tools->-r requirements.txt (line 2)) (3.4.2)\n",
      "Requirement already satisfied: idna<4,>=2.5 in /usr/local/python/3.11.13/lib/python3.11/site-packages (from requests>=0.14.0->aws-requests-auth<0.5.0,>=0.4.3->strands-agents-tools->-r requirements.txt (line 2)) (3.10)\n",
      "Requirement already satisfied: click>=8.1.8 in /usr/local/python/3.11.13/lib/python3.11/site-packages (from duckduckgo-search->-r requirements.txt (line 6)) (8.2.1)\n",
      "Requirement already satisfied: primp>=0.15.0 in /usr/local/python/3.11.13/lib/python3.11/site-packages (from duckduckgo-search->-r requirements.txt (line 6)) (0.15.0)\n",
      "Requirement already satisfied: sniffio>=1.1 in /usr/local/python/3.11.13/lib/python3.11/site-packages (from anyio>=4.5->mcp<2.0.0,>=1.8.0->strands-agents->-r requirements.txt (line 1)) (1.3.1)\n",
      "Requirement already satisfied: httpcore==1.* in /usr/local/python/3.11.13/lib/python3.11/site-packages (from httpx>=0.27->mcp<2.0.0,>=1.8.0->strands-agents->-r requirements.txt (line 1)) (1.0.9)\n",
      "Requirement already satisfied: h11>=0.16 in /usr/local/python/3.11.13/lib/python3.11/site-packages (from httpcore==1.*->httpx>=0.27->mcp<2.0.0,>=1.8.0->strands-agents->-r requirements.txt (line 1)) (0.16.0)\n",
      "Requirement already satisfied: attrs>=22.2.0 in /usr/local/python/3.11.13/lib/python3.11/site-packages (from jsonschema>=4.20.0->mcp<2.0.0,>=1.8.0->strands-agents->-r requirements.txt (line 1)) (25.3.0)\n",
      "Requirement already satisfied: jsonschema-specifications>=2023.03.6 in /usr/local/python/3.11.13/lib/python3.11/site-packages (from jsonschema>=4.20.0->mcp<2.0.0,>=1.8.0->strands-agents->-r requirements.txt (line 1)) (2025.4.1)\n",
      "Requirement already satisfied: referencing>=0.28.4 in /usr/local/python/3.11.13/lib/python3.11/site-packages (from jsonschema>=4.20.0->mcp<2.0.0,>=1.8.0->strands-agents->-r requirements.txt (line 1)) (0.36.2)\n",
      "Requirement already satisfied: rpds-py>=0.7.1 in /usr/local/python/3.11.13/lib/python3.11/site-packages (from jsonschema>=4.20.0->mcp<2.0.0,>=1.8.0->strands-agents->-r requirements.txt (line 1)) (0.26.0)\n",
      "Requirement already satisfied: mdurl~=0.1 in /usr/local/python/3.11.13/lib/python3.11/site-packages (from markdown-it-py>=2.2.0->rich<15.0.0,>=14.0.0->strands-agents-tools->-r requirements.txt (line 2)) (0.1.2)\n",
      "Requirement already satisfied: distro<2,>=1.7.0 in /usr/local/python/3.11.13/lib/python3.11/site-packages (from openai>=1.33.0->mem0ai->-r requirements.txt (line 3)) (1.9.0)\n",
      "Requirement already satisfied: jiter<1,>=0.4.0 in /usr/local/python/3.11.13/lib/python3.11/site-packages (from openai>=1.33.0->mem0ai->-r requirements.txt (line 3)) (0.10.0)\n",
      "Requirement already satisfied: tqdm>4 in /usr/local/python/3.11.13/lib/python3.11/site-packages (from openai>=1.33.0->mem0ai->-r requirements.txt (line 3)) (4.67.1)\n",
      "Requirement already satisfied: backoff>=1.10.0 in /usr/local/python/3.11.13/lib/python3.11/site-packages (from posthog>=3.5.0->mem0ai->-r requirements.txt (line 3)) (2.2.1)\n",
      "Requirement already satisfied: grpcio>=1.41.0 in /usr/local/python/3.11.13/lib/python3.11/site-packages (from qdrant-client>=1.9.1->mem0ai->-r requirements.txt (line 3)) (1.73.1)\n",
      "Requirement already satisfied: numpy>=1.21 in /usr/local/python/3.11.13/lib/python3.11/site-packages (from qdrant-client>=1.9.1->mem0ai->-r requirements.txt (line 3)) (1.26.4)\n",
      "Collecting portalocker<3.0.0,>=2.7.0 (from qdrant-client>=1.9.1->mem0ai->-r requirements.txt (line 3))\n",
      "  Downloading portalocker-2.10.1-py3-none-any.whl.metadata (8.5 kB)\n",
      "Requirement already satisfied: protobuf>=3.20.0 in /usr/local/python/3.11.13/lib/python3.11/site-packages (from qdrant-client>=1.9.1->mem0ai->-r requirements.txt (line 3)) (6.31.1)\n",
      "Collecting h2<5,>=3 (from httpx[http2]>=0.20.0->qdrant-client>=1.9.1->mem0ai->-r requirements.txt (line 3))\n",
      "  Downloading h2-4.2.0-py3-none-any.whl.metadata (5.1 kB)\n",
      "Collecting hyperframe<7,>=6.1 (from h2<5,>=3->httpx[http2]>=0.20.0->qdrant-client>=1.9.1->mem0ai->-r requirements.txt (line 3))\n",
      "  Downloading hyperframe-6.1.0-py3-none-any.whl.metadata (4.3 kB)\n",
      "Collecting hpack<5,>=4.1 (from h2<5,>=3->httpx[http2]>=0.20.0->qdrant-client>=1.9.1->mem0ai->-r requirements.txt (line 3))\n",
      "  Downloading hpack-4.1.0-py3-none-any.whl.metadata (4.6 kB)\n",
      "Requirement already satisfied: greenlet>=1 in /usr/local/python/3.11.13/lib/python3.11/site-packages (from sqlalchemy>=2.0.31->mem0ai->-r requirements.txt (line 3)) (3.2.3)\n",
      "Requirement already satisfied: webencodings in /usr/local/python/3.11.13/lib/python3.11/site-packages (from html5lib->readabilipy<1.0.0,>=0.2.0->strands-agents-tools->-r requirements.txt (line 2)) (0.5.1)\n",
      "Downloading mem0ai-0.1.114-py3-none-any.whl (174 kB)\n",
      "Downloading posthog-6.1.0-py3-none-any.whl (109 kB)\n",
      "Downloading qdrant_client-1.14.3-py3-none-any.whl (328 kB)\n",
      "Downloading portalocker-2.10.1-py3-none-any.whl (18 kB)\n",
      "Downloading h2-4.2.0-py3-none-any.whl (60 kB)\n",
      "Downloading hpack-4.1.0-py3-none-any.whl (34 kB)\n",
      "Downloading hyperframe-6.1.0-py3-none-any.whl (13 kB)\n",
      "Installing collected packages: portalocker, hyperframe, hpack, posthog, h2, qdrant-client, mem0ai\n",
      "\u001b[2K   \u001b[38;2;114;156;31m━━━━━━━━━━━━━━━━━━━━━━━━━━━━━━━━━━━━━━━━\u001b[0m \u001b[32m7/7\u001b[0m [mem0ai]━━━━\u001b[0m \u001b[32m6/7\u001b[0m [mem0ai]qdrant-client]\n",
      "\u001b[1A\u001b[2KSuccessfully installed h2-4.2.0 hpack-4.1.0 hyperframe-6.1.0 mem0ai-0.1.114 portalocker-2.10.1 posthog-6.1.0 qdrant-client-1.14.3\n",
      "\u001b[33mWARNING: Running pip as the 'root' user can result in broken permissions and conflicting behaviour with the system package manager, possibly rendering your system unusable. It is recommended to use a virtual environment instead: https://pip.pypa.io/warnings/venv. Use the --root-user-action option if you know what you are doing and want to suppress this warning.\u001b[0m\u001b[33m\n",
      "\u001b[0m"
     ]
    }
   ],
   "source": [
    "# Install the required packages\n",
    "!pip install -r requirements.txt"
   ]
  },
  {
   "cell_type": "code",
   "execution_count": 2,
   "id": "11c92217",
   "metadata": {},
   "outputs": [],
   "source": [
    "# Import Required Libraries\n",
    "import os\n",
    "from strands import Agent, tool\n",
    "from strands_tools import mem0_memory\n",
    "from duckduckgo_search import DDGS\n",
    "from duckduckgo_search.exceptions import DuckDuckGoSearchException, RatelimitException"
   ]
  },
  {
   "cell_type": "markdown",
   "id": "265d4267",
   "metadata": {},
   "source": [
    "## Mem0 Configuration\n",
    "\n",
    "### Memory Backend Options\n",
    "\n",
    "The Mem0 Memory Tool supports three different backend configurations:\n",
    "\n",
    "1. **[OpenSearch](https://aws.amazon.com/opensearch-service/features/serverless/)** (Recommended for AWS environments):\n",
    "   - Requires AWS credentials and OpenSearch configuration\n",
    "   - Set `OPENSEARCH_HOST` and optionally `AWS_REGION` (defaults to us-west-2)\n",
    "\n",
    "2. **[FAISS]((https://faiss.ai/index.html))** (Default for local development):\n",
    "   - Uses FAISS as the local vector store backend\n",
    "   - Requires faiss-cpu package for local vector storage\n",
    "   - No additional configuration needed\n",
    "\n",
    "3. **Mem0 Platform**:\n",
    "   - Uses the [Mem0 Platform API](https://docs.mem0.ai/platform/quickstart) for memory management\n",
    "   - Requires a Mem0 API key : `MEM0_API_KEY` in the environment variables\n",
    "\n",
    "\n",
    "### Environment Configuration\n",
    "\n",
    "| Environment Variable | Description | Default | Required For |\n",
    "|---------------------|-------------|----------|--------------|\n",
    "| OPENSEARCH_HOST | OpenSearch Serverless Host URL | None | OpenSearch |\n",
    "| AWS_REGION | AWS Region for OpenSearch | us-west-2 | OpenSearch |\n",
    "| MEM0_API_KEY | Mem0 Platform API key | None | Mem0 Platform |\n",
    "| DEV | Enable development mode | false | All modes |\n",
    "\n",
    "\n",
    "For the scope of this lab, we can use 2 options as a backend for memory management:\n",
    "### Option 1. [Opensearch Serverless](https://aws.amazon.com/opensearch-service/features/serverless/) \n",
    "\n",
    "This will be our setup architecture for AOSS: \n",
    "\n",
    "<div style=\"text-align:left\">\n",
    "    <img src=\"images/arch_AOSS.png\" width=\"65%\" />\n",
    "</div>\n",
    "\n"
   ]
  },
  {
   "cell_type": "code",
   "execution_count": null,
   "id": "0468a998-ebe9-4277-913f-6ea69de8e6e1",
   "metadata": {},
   "outputs": [],
   "source": [
    "# You can manually define your Opensearch Host \n",
    "#os.environ[\"OPENSEARCH_HOST\"] = \"<your-opensearch-host>.<region>.aoss.amazonaws.com\""
   ]
  },
  {
   "cell_type": "code",
   "execution_count": 3,
   "id": "1cc2bbe4-0a89-4b15-93f3-4baa9fc804c0",
   "metadata": {},
   "outputs": [
    {
     "name": "stdout",
     "output_type": "stream",
     "text": [
      "deploying opensearch Serverless ...\n",
      "Configuration loaded: {'opensearch_collection_name': 'memory-store', 'opensearch_description': 'Memory vector store'}\n",
      "Creating OpenSearch Serverless collection: memory-store\n",
      "Waiting for policies to propagate...\n",
      "Creating collection...\n",
      "\n",
      "Collection successfully created:\n",
      "[{'id': 'wu0d64utqlsq9l6v3t14', 'name': 'memory-store', 'status': 'ACTIVE', 'type': 'VECTORSEARCH', 'description': 'Memory vector store', 'arn': 'arn:aws:aoss:us-west-2:210283880577:collection/wu0d64utqlsq9l6v3t14', 'kmsKeyArn': 'auto', 'standbyReplicas': 'ENABLED', 'createdDate': 1752641223932, 'lastModifiedDate': 1752641247022, 'collectionEndpoint': 'https://wu0d64utqlsq9l6v3t14.us-west-2.aoss.amazonaws.com', 'dashboardEndpoint': 'https://wu0d64utqlsq9l6v3t14.us-west-2.aoss.amazonaws.com/_dashboards'}]\n",
      "Environment variables saved to /workspaces/strands/strands_samples/01-tutorials/01-fundamentals/07-memory-persistent-agents/.env\n",
      "OpenSearch Serverless collection setup completed!\n",
      "\n",
      "OPENSEARCH_HOST: wu0d64utqlsq9l6v3t14.us-west-2.aoss.amazonaws.com\n",
      "OPENSEARCH_COLLECTION_ID: wu0d64utqlsq9l6v3t14\n",
      "\n",
      "Environment variables saved to /workspaces/strands/strands_samples/01-tutorials/01-fundamentals/07-memory-persistent-agents/.env\n"
     ]
    }
   ],
   "source": [
    "# OR - Run the script to Create Opensearch Serverless resource in your AWS Account\n",
    "!bash prereqs/deploy_OSS.sh"
   ]
  },
  {
   "cell_type": "code",
   "execution_count": 4,
   "id": "075b3163-cd88-4054-969c-0075dfc1dd84",
   "metadata": {},
   "outputs": [
    {
     "data": {
      "text/plain": [
       "True"
      ]
     },
     "execution_count": 4,
     "metadata": {},
     "output_type": "execute_result"
    }
   ],
   "source": [
    "# Option 1: Opensearch Serverless\n",
    "from dotenv import load_dotenv\n",
    "load_dotenv() # take Opensearch environment variables"
   ]
  },
  {
   "cell_type": "markdown",
   "id": "7dc00d27-4a5b-44fb-9bfc-3b2e906c21f5",
   "metadata": {},
   "source": [
    "\n",
    "### Option 2 [Mem0 Platform](https://docs.mem0.ai/platform):\n",
    "\n",
    "#### [NOTE]: This is not Needed if you have already deployed the Opensearch Serverless option.\n",
    "\n",
    "As an alternative, you can create Mem0 API keys by following the steps [here](https://docs.mem0.ai/platform/quickstart#2-api-key-setup) and add it as an environment variable **MEM0_API_KEY**.\n",
    "This would be the architecture of the setup for Mem0 Platform:\n",
    "\n",
    "<div style=\"text-align:left\">\n",
    "    <img src=\"images/arch_mem0.png\" width=\"65%\" />\n",
    "</div>\n",
    "\n",
    "\n",
    "To enable the agent's functionality, we need to configure environment variables for AWS credentials and OpenSearch / Mem0 Platform. These variables are used for memory storage and retrieval."
   ]
  },
  {
   "cell_type": "code",
   "execution_count": null,
   "id": "c99dae50-ed8b-4474-b5d6-9cc16981b436",
   "metadata": {},
   "outputs": [],
   "source": [
    "# Option 2: Mem0 API key\n",
    "\n",
    "#os.environ[\"MEM0_API_KEY\"] = \"<your-mem0-api-key>\""
   ]
  },
  {
   "cell_type": "markdown",
   "id": "5679ce42",
   "metadata": {},
   "source": [
    "## Define System Prompt\n",
    "\n",
    "The `SYSTEM_PROMPT` variable defines the behavior and capabilities of the memory agent. This prompt guides the agent to provide personalized responses based on stored memories and perform web searches when necessary."
   ]
  },
  {
   "cell_type": "code",
   "execution_count": 5,
   "id": "01951bc0",
   "metadata": {},
   "outputs": [],
   "source": [
    "# Define a focused system prompt for memory operations\n",
    "SYSTEM_PROMPT = \"\"\"You are a helpful personal assistant for a user. Your task is to assist the user by providing personalized responses based on their history. \n",
    "\n",
    "Capabilities:\n",
    "- You can store information using the mem0_memory tool (action=\"store\").\n",
    "- You can retrieve relevant memories using the mem0_memory tool (action=\"retrieve\").\n",
    "- You can use duckduckgo_search to find information on the web.\n",
    "\n",
    "Key Rules:\n",
    "- Be conversational and natural in your responses.\n",
    "- Always retrieve memories before responding to the user and use them to inform your response.\n",
    "- Store any new user information and user preferences in mem0_memory.\n",
    "- Only share relevant information.\n",
    "- Politely indicate when you don't have the information.\n",
    "\"\"\""
   ]
  },
  {
   "cell_type": "markdown",
   "id": "334a7192",
   "metadata": {},
   "source": [
    "## Define Web Search Tool\n",
    "\n",
    "The `websearch` tool using [Duckduckgo Search API](https://github.com/deedy5/duckduckgo_search) function allows the agent to perform web searches. This function handles exceptions and returns search results or appropriate error messages."
   ]
  },
  {
   "cell_type": "code",
   "execution_count": 6,
   "id": "8bbe681b",
   "metadata": {},
   "outputs": [],
   "source": [
    "@tool\n",
    "def websearch(\n",
    "    keywords: str,\n",
    "    region: str = \"us-en\",\n",
    "    max_results: int | None = None,\n",
    ") -> str:\n",
    "    \"\"\"Search the web to get updated information.\n",
    "    Args:\n",
    "        keywords (str): The search query keywords.\n",
    "        region (str): The search region: wt-wt, us-en, uk-en, ru-ru, etc..\n",
    "        max_results (int | None): The maximum number of results to return.\n",
    "    Returns:\n",
    "        List of dictionaries with search results.\n",
    "    \"\"\"\n",
    "    try:\n",
    "        results = DDGS().text(keywords, region=region, max_results=max_results)\n",
    "        return results if results else \"No results found.\"\n",
    "    except RatelimitException:\n",
    "        return \"RatelimitException: Please try again after a short delay.\"\n",
    "    except DuckDuckGoSearchException as d:\n",
    "        return f\"DuckDuckGoSearchException: {d}\"\n",
    "    except Exception as e:\n",
    "        return f\"Exception: {e}\""
   ]
  },
  {
   "cell_type": "markdown",
   "id": "3bd7828a",
   "metadata": {},
   "source": [
    "## Create Memory Agent\n",
    "\n",
    "We will now initialize the memory-focused agent using the defined tools and system prompt. The Strands agent is capable of:\n",
    "1. Storing and retrieving memories based on context. It uses memory to create more personalized and contextual AI interactions.\n",
    "2. Performing web searches using DuckDuckGo to give updated information."
   ]
  },
  {
   "cell_type": "code",
   "execution_count": 14,
   "id": "e860d7f3",
   "metadata": {},
   "outputs": [],
   "source": [
    "# Create an agent with memory, websearch tool\n",
    "USER_ID = \"new_user\" # Replace with actual user ID\n",
    "\n",
    "memory_agent = Agent(\n",
    "    system_prompt=SYSTEM_PROMPT,\n",
    "    tools=[mem0_memory, websearch],\n",
    ")"
   ]
  },
  {
   "cell_type": "markdown",
   "id": "8ea93f03",
   "metadata": {},
   "source": [
    "## Demonstrate Memory Operations\n",
    "\n",
    "The following examples demonstrate how to store, retrieve, and list memories using the memory agent.\n",
    "\n",
    "- **store**: Save important information for later retrieval\n",
    "  - Store user preferences\n",
    "  - Remember important facts\n",
    "  - Maintain conversation context\n",
    "\n",
    "- **retrieve**: Access relevant memories based on queries\n",
    "  - Find previously stored information\n",
    "  - Provide personalized responses based on user history\n",
    "\n",
    "- **list**: View all stored memories\n",
    "  - See what information has been retained\n",
    "  - Audit stored memories"
   ]
  },
  {
   "cell_type": "code",
   "execution_count": 16,
   "id": "825910bf",
   "metadata": {},
   "outputs": [
    {
     "data": {
      "text/html": [
       "<pre style=\"white-space:pre;overflow-x:auto;line-height:normal;font-family:Menlo,'DejaVu Sans Mono',consolas,'Courier New',monospace\"><span style=\"color: #008000; text-decoration-color: #008000\">╭─────────────────────────────────────────── </span><span style=\"color: #008000; text-decoration-color: #008000; font-weight: bold\">Memory for user new_user</span><span style=\"color: #008000; text-decoration-color: #008000\"> ────────────────────────────────────────────╮</span>\n",
       "<span style=\"color: #008000; text-decoration-color: #008000\">│</span> The user's name is new_user.                                                                                    <span style=\"color: #008000; text-decoration-color: #008000\">│</span>\n",
       "<span style=\"color: #008000; text-decoration-color: #008000\">╰─────────────────────────────────────────────────────────────────────────────────────────────────────────────────╯</span>\n",
       "</pre>\n"
      ],
      "text/plain": [
       "\u001b[32m╭─\u001b[0m\u001b[32m──────────────────────────────────────────\u001b[0m\u001b[32m \u001b[0m\u001b[1;32mMemory for user new_user\u001b[0m\u001b[32m \u001b[0m\u001b[32m───────────────────────────────────────────\u001b[0m\u001b[32m─╮\u001b[0m\n",
       "\u001b[32m│\u001b[0m The user's name is new_user.                                                                                    \u001b[32m│\u001b[0m\n",
       "\u001b[32m╰─────────────────────────────────────────────────────────────────────────────────────────────────────────────────╯\u001b[0m\n"
      ]
     },
     "metadata": {},
     "output_type": "display_data"
    },
    {
     "data": {
      "text/html": [
       "<pre style=\"white-space:pre;overflow-x:auto;line-height:normal;font-family:Menlo,'DejaVu Sans Mono',consolas,'Courier New',monospace\"><span style=\"color: #008000; text-decoration-color: #008000\">╭─────────────────────────────────────────── </span><span style=\"color: #008000; text-decoration-color: #008000; font-weight: bold\">Memory for user new_user</span><span style=\"color: #008000; text-decoration-color: #008000\"> ────────────────────────────────────────────╮</span>\n",
       "<span style=\"color: #008000; text-decoration-color: #008000\">│</span> I like to drink tea more than coffee.                                                                           <span style=\"color: #008000; text-decoration-color: #008000\">│</span>\n",
       "<span style=\"color: #008000; text-decoration-color: #008000\">╰─────────────────────────────────────────────────────────────────────────────────────────────────────────────────╯</span>\n",
       "</pre>\n"
      ],
      "text/plain": [
       "\u001b[32m╭─\u001b[0m\u001b[32m──────────────────────────────────────────\u001b[0m\u001b[32m \u001b[0m\u001b[1;32mMemory for user new_user\u001b[0m\u001b[32m \u001b[0m\u001b[32m───────────────────────────────────────────\u001b[0m\u001b[32m─╮\u001b[0m\n",
       "\u001b[32m│\u001b[0m I like to drink tea more than coffee.                                                                           \u001b[32m│\u001b[0m\n",
       "\u001b[32m╰─────────────────────────────────────────────────────────────────────────────────────────────────────────────────╯\u001b[0m\n"
      ]
     },
     "metadata": {},
     "output_type": "display_data"
    },
    {
     "data": {
      "text/plain": [
       "{'toolUseId': 'tooluse_mem0_memory_591696000',\n",
       " 'status': 'success',\n",
       " 'content': [{'text': '[]'}]}"
      ]
     },
     "execution_count": 16,
     "metadata": {},
     "output_type": "execute_result"
    }
   ],
   "source": [
    "# Store initial memories to demonstrate retrieval\n",
    "memory_agent.tool.mem0_memory(\n",
    "    action=\"store\", content=f\"The user's name is {USER_ID}.\", user_id=USER_ID\n",
    ")\n",
    "memory_agent.tool.mem0_memory(\n",
    "    action=\"store\", \n",
    "    content=\"I like to drink tea more than coffee.\", \n",
    "    user_id=USER_ID\n",
    ")"
   ]
  },
  {
   "cell_type": "code",
   "execution_count": 17,
   "id": "f92c7f95",
   "metadata": {},
   "outputs": [
    {
     "data": {
      "text/html": [
       "<pre style=\"white-space:pre;overflow-x:auto;line-height:normal;font-family:Menlo,'DejaVu Sans Mono',consolas,'Courier New',monospace\"><span style=\"color: #008000; text-decoration-color: #008000\">╭──────────────────────────────────────────────── </span><span style=\"color: #008000; text-decoration-color: #008000; font-weight: bold\">Search Results</span><span style=\"color: #008000; text-decoration-color: #008000\"> ─────────────────────────────────────────────────╮</span>\n",
       "<span style=\"color: #008000; text-decoration-color: #008000\">│</span> <span style=\"font-style: italic\">                                                Search Results                                                 </span> <span style=\"color: #008000; text-decoration-color: #008000\">│</span>\n",
       "<span style=\"color: #008000; text-decoration-color: #008000\">│</span> ┏━━━━━━━━━━━┳━━━━━━━━━━━━━━━━━━━━━━━━━━━━━━━━━━━━━━━━━━━━━━━━━━━━┳━━━━━━━━━━┳━━━━━━━━━━━┳━━━━━━━━━━┳━━━━━━━━━━┓ <span style=\"color: #008000; text-decoration-color: #008000\">│</span>\n",
       "<span style=\"color: #008000; text-decoration-color: #008000\">│</span> ┃<span style=\"color: #800080; text-decoration-color: #800080; font-weight: bold\">           </span>┃<span style=\"color: #800080; text-decoration-color: #800080; font-weight: bold\">                                                    </span>┃<span style=\"color: #800080; text-decoration-color: #800080; font-weight: bold\">          </span>┃<span style=\"color: #800080; text-decoration-color: #800080; font-weight: bold\"> Created   </span>┃<span style=\"color: #800080; text-decoration-color: #800080; font-weight: bold\">          </span>┃<span style=\"color: #800080; text-decoration-color: #800080; font-weight: bold\">          </span>┃ <span style=\"color: #008000; text-decoration-color: #008000\">│</span>\n",
       "<span style=\"color: #008000; text-decoration-color: #008000\">│</span> ┃<span style=\"color: #800080; text-decoration-color: #800080; font-weight: bold\"> ID        </span>┃<span style=\"color: #800080; text-decoration-color: #800080; font-weight: bold\"> Memory                                             </span>┃<span style=\"color: #800080; text-decoration-color: #800080; font-weight: bold\"> Relevan… </span>┃<span style=\"color: #800080; text-decoration-color: #800080; font-weight: bold\"> At        </span>┃<span style=\"color: #800080; text-decoration-color: #800080; font-weight: bold\"> User ID  </span>┃<span style=\"color: #800080; text-decoration-color: #800080; font-weight: bold\"> Metadata </span>┃ <span style=\"color: #008000; text-decoration-color: #008000\">│</span>\n",
       "<span style=\"color: #008000; text-decoration-color: #008000\">│</span> ┡━━━━━━━━━━━╇━━━━━━━━━━━━━━━━━━━━━━━━━━━━━━━━━━━━━━━━━━━━━━━━━━━━╇━━━━━━━━━━╇━━━━━━━━━━━╇━━━━━━━━━━╇━━━━━━━━━━┩ <span style=\"color: #008000; text-decoration-color: #008000\">│</span>\n",
       "<span style=\"color: #008000; text-decoration-color: #008000\">│</span> │<span style=\"color: #008080; text-decoration-color: #008080\"> 533a63a6… </span>│<span style=\"color: #808000; text-decoration-color: #808000\"> Name is new_user                                   </span>│<span style=\"color: #008000; text-decoration-color: #008000\"> </span><span style=\"color: #808000; text-decoration-color: #808000\">0.67664…</span><span style=\"color: #008000; text-decoration-color: #008000\"> </span>│<span style=\"color: #000080; text-decoration-color: #000080\"> 2025-07-… </span>│<span style=\"color: #800080; text-decoration-color: #800080\"> new_user </span>│<span style=\"color: #c0c0c0; text-decoration-color: #c0c0c0\"> None     </span>│ <span style=\"color: #008000; text-decoration-color: #008000\">│</span>\n",
       "<span style=\"color: #008000; text-decoration-color: #008000\">│</span> │<span style=\"color: #008080; text-decoration-color: #008080\"> 0da6c310… </span>│<span style=\"color: #808000; text-decoration-color: #808000\"> Interested in events happening in New York City    </span>│<span style=\"color: #008000; text-decoration-color: #008000\"> </span><span style=\"color: #808000; text-decoration-color: #808000\">0.55103…</span><span style=\"color: #008000; text-decoration-color: #008000\"> </span>│<span style=\"color: #000080; text-decoration-color: #000080\"> 2025-07-… </span>│<span style=\"color: #800080; text-decoration-color: #800080\"> new_user </span>│<span style=\"color: #c0c0c0; text-decoration-color: #c0c0c0\"> None     </span>│ <span style=\"color: #008000; text-decoration-color: #008000\">│</span>\n",
       "<span style=\"color: #008000; text-decoration-color: #008000\">│</span> │<span style=\"color: #008080; text-decoration-color: #008080\"> d4f59208… </span>│<span style=\"color: #808000; text-decoration-color: #808000\"> Prefers tea over coffee                            </span>│<span style=\"color: #008000; text-decoration-color: #008000\"> </span><span style=\"color: #808000; text-decoration-color: #808000\">0.54533…</span><span style=\"color: #008000; text-decoration-color: #008000\"> </span>│<span style=\"color: #000080; text-decoration-color: #000080\"> 2025-07-… </span>│<span style=\"color: #800080; text-decoration-color: #800080\"> new_user </span>│<span style=\"color: #c0c0c0; text-decoration-color: #c0c0c0\"> None     </span>│ <span style=\"color: #008000; text-decoration-color: #008000\">│</span>\n",
       "<span style=\"color: #008000; text-decoration-color: #008000\">│</span> └───────────┴────────────────────────────────────────────────────┴──────────┴───────────┴──────────┴──────────┘ <span style=\"color: #008000; text-decoration-color: #008000\">│</span>\n",
       "<span style=\"color: #008000; text-decoration-color: #008000\">╰─────────────────────────────────────────────────────────────────────────────────────────────────────────────────╯</span>\n",
       "</pre>\n"
      ],
      "text/plain": [
       "\u001b[32m╭─\u001b[0m\u001b[32m───────────────────────────────────────────────\u001b[0m\u001b[32m \u001b[0m\u001b[1;32mSearch Results\u001b[0m\u001b[32m \u001b[0m\u001b[32m────────────────────────────────────────────────\u001b[0m\u001b[32m─╮\u001b[0m\n",
       "\u001b[32m│\u001b[0m \u001b[3m                                                Search Results                                                 \u001b[0m \u001b[32m│\u001b[0m\n",
       "\u001b[32m│\u001b[0m ┏━━━━━━━━━━━┳━━━━━━━━━━━━━━━━━━━━━━━━━━━━━━━━━━━━━━━━━━━━━━━━━━━━┳━━━━━━━━━━┳━━━━━━━━━━━┳━━━━━━━━━━┳━━━━━━━━━━┓ \u001b[32m│\u001b[0m\n",
       "\u001b[32m│\u001b[0m ┃\u001b[1;35m           \u001b[0m┃\u001b[1;35m                                                    \u001b[0m┃\u001b[1;35m          \u001b[0m┃\u001b[1;35m \u001b[0m\u001b[1;35mCreated  \u001b[0m\u001b[1;35m \u001b[0m┃\u001b[1;35m          \u001b[0m┃\u001b[1;35m          \u001b[0m┃ \u001b[32m│\u001b[0m\n",
       "\u001b[32m│\u001b[0m ┃\u001b[1;35m \u001b[0m\u001b[1;35mID       \u001b[0m\u001b[1;35m \u001b[0m┃\u001b[1;35m \u001b[0m\u001b[1;35mMemory                                            \u001b[0m\u001b[1;35m \u001b[0m┃\u001b[1;35m \u001b[0m\u001b[1;35mRelevan…\u001b[0m\u001b[1;35m \u001b[0m┃\u001b[1;35m \u001b[0m\u001b[1;35mAt       \u001b[0m\u001b[1;35m \u001b[0m┃\u001b[1;35m \u001b[0m\u001b[1;35mUser ID \u001b[0m\u001b[1;35m \u001b[0m┃\u001b[1;35m \u001b[0m\u001b[1;35mMetadata\u001b[0m\u001b[1;35m \u001b[0m┃ \u001b[32m│\u001b[0m\n",
       "\u001b[32m│\u001b[0m ┡━━━━━━━━━━━╇━━━━━━━━━━━━━━━━━━━━━━━━━━━━━━━━━━━━━━━━━━━━━━━━━━━━╇━━━━━━━━━━╇━━━━━━━━━━━╇━━━━━━━━━━╇━━━━━━━━━━┩ \u001b[32m│\u001b[0m\n",
       "\u001b[32m│\u001b[0m │\u001b[36m \u001b[0m\u001b[36m533a63a6…\u001b[0m\u001b[36m \u001b[0m│\u001b[33m \u001b[0m\u001b[33mName is new_user                                  \u001b[0m\u001b[33m \u001b[0m│\u001b[32m \u001b[0m\u001b[33m0.67664…\u001b[0m\u001b[32m \u001b[0m│\u001b[34m \u001b[0m\u001b[34m2025-07-…\u001b[0m\u001b[34m \u001b[0m│\u001b[35m \u001b[0m\u001b[35mnew_user\u001b[0m\u001b[35m \u001b[0m│\u001b[37m \u001b[0m\u001b[37mNone    \u001b[0m\u001b[37m \u001b[0m│ \u001b[32m│\u001b[0m\n",
       "\u001b[32m│\u001b[0m │\u001b[36m \u001b[0m\u001b[36m0da6c310…\u001b[0m\u001b[36m \u001b[0m│\u001b[33m \u001b[0m\u001b[33mInterested in events happening in New York City   \u001b[0m\u001b[33m \u001b[0m│\u001b[32m \u001b[0m\u001b[33m0.55103…\u001b[0m\u001b[32m \u001b[0m│\u001b[34m \u001b[0m\u001b[34m2025-07-…\u001b[0m\u001b[34m \u001b[0m│\u001b[35m \u001b[0m\u001b[35mnew_user\u001b[0m\u001b[35m \u001b[0m│\u001b[37m \u001b[0m\u001b[37mNone    \u001b[0m\u001b[37m \u001b[0m│ \u001b[32m│\u001b[0m\n",
       "\u001b[32m│\u001b[0m │\u001b[36m \u001b[0m\u001b[36md4f59208…\u001b[0m\u001b[36m \u001b[0m│\u001b[33m \u001b[0m\u001b[33mPrefers tea over coffee                           \u001b[0m\u001b[33m \u001b[0m│\u001b[32m \u001b[0m\u001b[33m0.54533…\u001b[0m\u001b[32m \u001b[0m│\u001b[34m \u001b[0m\u001b[34m2025-07-…\u001b[0m\u001b[34m \u001b[0m│\u001b[35m \u001b[0m\u001b[35mnew_user\u001b[0m\u001b[35m \u001b[0m│\u001b[37m \u001b[0m\u001b[37mNone    \u001b[0m\u001b[37m \u001b[0m│ \u001b[32m│\u001b[0m\n",
       "\u001b[32m│\u001b[0m └───────────┴────────────────────────────────────────────────────┴──────────┴───────────┴──────────┴──────────┘ \u001b[32m│\u001b[0m\n",
       "\u001b[32m╰─────────────────────────────────────────────────────────────────────────────────────────────────────────────────╯\u001b[0m\n"
      ]
     },
     "metadata": {},
     "output_type": "display_data"
    },
    {
     "name": "stdout",
     "output_type": "stream",
     "text": [
      "Retrieved Memories: {'toolUseId': 'tooluse_mem0_memory_253128646', 'status': 'success', 'content': [{'text': '[\\n  {\\n    \"id\": \"533a63a6-389b-43c4-8ad8-1bbfa69af493\",\\n    \"memory\": \"Name is new_user\",\\n    \"hash\": \"8fe736239b1e08f5db6bdb05dd4aa9c3\",\\n    \"metadata\": null,\\n    \"score\": 0.67664516,\\n    \"created_at\": \"2025-07-15T21:49:59.663804-07:00\",\\n    \"updated_at\": null,\\n    \"user_id\": \"new_user\"\\n  },\\n  {\\n    \"id\": \"0da6c310-dd96-4fe4-b654-6c684867757c\",\\n    \"memory\": \"Interested in events happening in New York City\",\\n    \"hash\": \"09e84ef882e392a99aa1df28e1021591\",\\n    \"metadata\": null,\\n    \"score\": 0.5510382,\\n    \"created_at\": \"2025-07-15T21:52:33.173157-07:00\",\\n    \"updated_at\": null,\\n    \"user_id\": \"new_user\"\\n  },\\n  {\\n    \"id\": \"d4f59208-9d8d-461f-8d85-cecdbf842839\",\\n    \"memory\": \"Prefers tea over coffee\",\\n    \"hash\": \"5b1df6e791a3f297da049affce574059\",\\n    \"metadata\": null,\\n    \"score\": 0.5453303,\\n    \"created_at\": \"2025-07-15T21:50:10.907485-07:00\",\\n    \"updated_at\": null,\\n    \"user_id\": \"new_user\"\\n  }\\n]'}]}\n"
     ]
    }
   ],
   "source": [
    "# Retrieve memories\n",
    "retrieved_memories = memory_agent.tool.mem0_memory(\n",
    "    action=\"retrieve\", query=\"What is the user's name?\", user_id=USER_ID\n",
    ")\n",
    "print(\"Retrieved Memories:\", retrieved_memories)"
   ]
  },
  {
   "cell_type": "code",
   "execution_count": 18,
   "id": "c7047852",
   "metadata": {},
   "outputs": [
    {
     "data": {
      "text/html": [
       "<pre style=\"white-space:pre;overflow-x:auto;line-height:normal;font-family:Menlo,'DejaVu Sans Mono',consolas,'Courier New',monospace\"><span style=\"color: #008000; text-decoration-color: #008000\">╭──────────────────────────────────────────────── </span><span style=\"color: #008000; text-decoration-color: #008000; font-weight: bold\">Search Results</span><span style=\"color: #008000; text-decoration-color: #008000\"> ─────────────────────────────────────────────────╮</span>\n",
       "<span style=\"color: #008000; text-decoration-color: #008000\">│</span> <span style=\"font-style: italic\">                                                Search Results                                                 </span> <span style=\"color: #008000; text-decoration-color: #008000\">│</span>\n",
       "<span style=\"color: #008000; text-decoration-color: #008000\">│</span> ┏━━━━━━━━━━━┳━━━━━━━━━━━━━━━━━━━━━━━━━━━━━━━━━━━━━━━━━━━━━━━━━━━━┳━━━━━━━━━━┳━━━━━━━━━━━┳━━━━━━━━━━┳━━━━━━━━━━┓ <span style=\"color: #008000; text-decoration-color: #008000\">│</span>\n",
       "<span style=\"color: #008000; text-decoration-color: #008000\">│</span> ┃<span style=\"color: #800080; text-decoration-color: #800080; font-weight: bold\">           </span>┃<span style=\"color: #800080; text-decoration-color: #800080; font-weight: bold\">                                                    </span>┃<span style=\"color: #800080; text-decoration-color: #800080; font-weight: bold\">          </span>┃<span style=\"color: #800080; text-decoration-color: #800080; font-weight: bold\"> Created   </span>┃<span style=\"color: #800080; text-decoration-color: #800080; font-weight: bold\">          </span>┃<span style=\"color: #800080; text-decoration-color: #800080; font-weight: bold\">          </span>┃ <span style=\"color: #008000; text-decoration-color: #008000\">│</span>\n",
       "<span style=\"color: #008000; text-decoration-color: #008000\">│</span> ┃<span style=\"color: #800080; text-decoration-color: #800080; font-weight: bold\"> ID        </span>┃<span style=\"color: #800080; text-decoration-color: #800080; font-weight: bold\"> Memory                                             </span>┃<span style=\"color: #800080; text-decoration-color: #800080; font-weight: bold\"> Relevan… </span>┃<span style=\"color: #800080; text-decoration-color: #800080; font-weight: bold\"> At        </span>┃<span style=\"color: #800080; text-decoration-color: #800080; font-weight: bold\"> User ID  </span>┃<span style=\"color: #800080; text-decoration-color: #800080; font-weight: bold\"> Metadata </span>┃ <span style=\"color: #008000; text-decoration-color: #008000\">│</span>\n",
       "<span style=\"color: #008000; text-decoration-color: #008000\">│</span> ┡━━━━━━━━━━━╇━━━━━━━━━━━━━━━━━━━━━━━━━━━━━━━━━━━━━━━━━━━━━━━━━━━━╇━━━━━━━━━━╇━━━━━━━━━━━╇━━━━━━━━━━╇━━━━━━━━━━┩ <span style=\"color: #008000; text-decoration-color: #008000\">│</span>\n",
       "<span style=\"color: #008000; text-decoration-color: #008000\">│</span> │<span style=\"color: #008080; text-decoration-color: #008080\"> d4f59208… </span>│<span style=\"color: #808000; text-decoration-color: #808000\"> Prefers tea over coffee                            </span>│<span style=\"color: #008000; text-decoration-color: #008000\"> </span><span style=\"color: #808000; text-decoration-color: #808000\">0.65325…</span><span style=\"color: #008000; text-decoration-color: #008000\"> </span>│<span style=\"color: #000080; text-decoration-color: #000080\"> 2025-07-… </span>│<span style=\"color: #800080; text-decoration-color: #800080\"> new_user </span>│<span style=\"color: #c0c0c0; text-decoration-color: #c0c0c0\"> None     </span>│ <span style=\"color: #008000; text-decoration-color: #008000\">│</span>\n",
       "<span style=\"color: #008000; text-decoration-color: #008000\">│</span> │<span style=\"color: #008080; text-decoration-color: #008080\"> 0da6c310… </span>│<span style=\"color: #808000; text-decoration-color: #808000\"> Interested in events happening in New York City    </span>│<span style=\"color: #008000; text-decoration-color: #008000\"> </span><span style=\"color: #808000; text-decoration-color: #808000\">0.54864…</span><span style=\"color: #008000; text-decoration-color: #008000\"> </span>│<span style=\"color: #000080; text-decoration-color: #000080\"> 2025-07-… </span>│<span style=\"color: #800080; text-decoration-color: #800080\"> new_user </span>│<span style=\"color: #c0c0c0; text-decoration-color: #c0c0c0\"> None     </span>│ <span style=\"color: #008000; text-decoration-color: #008000\">│</span>\n",
       "<span style=\"color: #008000; text-decoration-color: #008000\">│</span> │<span style=\"color: #008080; text-decoration-color: #008080\"> 533a63a6… </span>│<span style=\"color: #808000; text-decoration-color: #808000\"> Name is new_user                                   </span>│<span style=\"color: #008000; text-decoration-color: #008000\"> </span><span style=\"color: #808000; text-decoration-color: #808000\">0.53423…</span><span style=\"color: #008000; text-decoration-color: #008000\"> </span>│<span style=\"color: #000080; text-decoration-color: #000080\"> 2025-07-… </span>│<span style=\"color: #800080; text-decoration-color: #800080\"> new_user </span>│<span style=\"color: #c0c0c0; text-decoration-color: #c0c0c0\"> None     </span>│ <span style=\"color: #008000; text-decoration-color: #008000\">│</span>\n",
       "<span style=\"color: #008000; text-decoration-color: #008000\">│</span> └───────────┴────────────────────────────────────────────────────┴──────────┴───────────┴──────────┴──────────┘ <span style=\"color: #008000; text-decoration-color: #008000\">│</span>\n",
       "<span style=\"color: #008000; text-decoration-color: #008000\">╰─────────────────────────────────────────────────────────────────────────────────────────────────────────────────╯</span>\n",
       "</pre>\n"
      ],
      "text/plain": [
       "\u001b[32m╭─\u001b[0m\u001b[32m───────────────────────────────────────────────\u001b[0m\u001b[32m \u001b[0m\u001b[1;32mSearch Results\u001b[0m\u001b[32m \u001b[0m\u001b[32m────────────────────────────────────────────────\u001b[0m\u001b[32m─╮\u001b[0m\n",
       "\u001b[32m│\u001b[0m \u001b[3m                                                Search Results                                                 \u001b[0m \u001b[32m│\u001b[0m\n",
       "\u001b[32m│\u001b[0m ┏━━━━━━━━━━━┳━━━━━━━━━━━━━━━━━━━━━━━━━━━━━━━━━━━━━━━━━━━━━━━━━━━━┳━━━━━━━━━━┳━━━━━━━━━━━┳━━━━━━━━━━┳━━━━━━━━━━┓ \u001b[32m│\u001b[0m\n",
       "\u001b[32m│\u001b[0m ┃\u001b[1;35m           \u001b[0m┃\u001b[1;35m                                                    \u001b[0m┃\u001b[1;35m          \u001b[0m┃\u001b[1;35m \u001b[0m\u001b[1;35mCreated  \u001b[0m\u001b[1;35m \u001b[0m┃\u001b[1;35m          \u001b[0m┃\u001b[1;35m          \u001b[0m┃ \u001b[32m│\u001b[0m\n",
       "\u001b[32m│\u001b[0m ┃\u001b[1;35m \u001b[0m\u001b[1;35mID       \u001b[0m\u001b[1;35m \u001b[0m┃\u001b[1;35m \u001b[0m\u001b[1;35mMemory                                            \u001b[0m\u001b[1;35m \u001b[0m┃\u001b[1;35m \u001b[0m\u001b[1;35mRelevan…\u001b[0m\u001b[1;35m \u001b[0m┃\u001b[1;35m \u001b[0m\u001b[1;35mAt       \u001b[0m\u001b[1;35m \u001b[0m┃\u001b[1;35m \u001b[0m\u001b[1;35mUser ID \u001b[0m\u001b[1;35m \u001b[0m┃\u001b[1;35m \u001b[0m\u001b[1;35mMetadata\u001b[0m\u001b[1;35m \u001b[0m┃ \u001b[32m│\u001b[0m\n",
       "\u001b[32m│\u001b[0m ┡━━━━━━━━━━━╇━━━━━━━━━━━━━━━━━━━━━━━━━━━━━━━━━━━━━━━━━━━━━━━━━━━━╇━━━━━━━━━━╇━━━━━━━━━━━╇━━━━━━━━━━╇━━━━━━━━━━┩ \u001b[32m│\u001b[0m\n",
       "\u001b[32m│\u001b[0m │\u001b[36m \u001b[0m\u001b[36md4f59208…\u001b[0m\u001b[36m \u001b[0m│\u001b[33m \u001b[0m\u001b[33mPrefers tea over coffee                           \u001b[0m\u001b[33m \u001b[0m│\u001b[32m \u001b[0m\u001b[33m0.65325…\u001b[0m\u001b[32m \u001b[0m│\u001b[34m \u001b[0m\u001b[34m2025-07-…\u001b[0m\u001b[34m \u001b[0m│\u001b[35m \u001b[0m\u001b[35mnew_user\u001b[0m\u001b[35m \u001b[0m│\u001b[37m \u001b[0m\u001b[37mNone    \u001b[0m\u001b[37m \u001b[0m│ \u001b[32m│\u001b[0m\n",
       "\u001b[32m│\u001b[0m │\u001b[36m \u001b[0m\u001b[36m0da6c310…\u001b[0m\u001b[36m \u001b[0m│\u001b[33m \u001b[0m\u001b[33mInterested in events happening in New York City   \u001b[0m\u001b[33m \u001b[0m│\u001b[32m \u001b[0m\u001b[33m0.54864…\u001b[0m\u001b[32m \u001b[0m│\u001b[34m \u001b[0m\u001b[34m2025-07-…\u001b[0m\u001b[34m \u001b[0m│\u001b[35m \u001b[0m\u001b[35mnew_user\u001b[0m\u001b[35m \u001b[0m│\u001b[37m \u001b[0m\u001b[37mNone    \u001b[0m\u001b[37m \u001b[0m│ \u001b[32m│\u001b[0m\n",
       "\u001b[32m│\u001b[0m │\u001b[36m \u001b[0m\u001b[36m533a63a6…\u001b[0m\u001b[36m \u001b[0m│\u001b[33m \u001b[0m\u001b[33mName is new_user                                  \u001b[0m\u001b[33m \u001b[0m│\u001b[32m \u001b[0m\u001b[33m0.53423…\u001b[0m\u001b[32m \u001b[0m│\u001b[34m \u001b[0m\u001b[34m2025-07-…\u001b[0m\u001b[34m \u001b[0m│\u001b[35m \u001b[0m\u001b[35mnew_user\u001b[0m\u001b[35m \u001b[0m│\u001b[37m \u001b[0m\u001b[37mNone    \u001b[0m\u001b[37m \u001b[0m│ \u001b[32m│\u001b[0m\n",
       "\u001b[32m│\u001b[0m └───────────┴────────────────────────────────────────────────────┴──────────┴───────────┴──────────┴──────────┘ \u001b[32m│\u001b[0m\n",
       "\u001b[32m╰─────────────────────────────────────────────────────────────────────────────────────────────────────────────────╯\u001b[0m\n"
      ]
     },
     "metadata": {},
     "output_type": "display_data"
    },
    {
     "data": {
      "text/plain": [
       "{'toolUseId': 'tooluse_mem0_memory_340238631',\n",
       " 'status': 'success',\n",
       " 'content': [{'text': '[\\n  {\\n    \"id\": \"d4f59208-9d8d-461f-8d85-cecdbf842839\",\\n    \"memory\": \"Prefers tea over coffee\",\\n    \"hash\": \"5b1df6e791a3f297da049affce574059\",\\n    \"metadata\": null,\\n    \"score\": 0.6532587,\\n    \"created_at\": \"2025-07-15T21:50:10.907485-07:00\",\\n    \"updated_at\": null,\\n    \"user_id\": \"new_user\"\\n  },\\n  {\\n    \"id\": \"0da6c310-dd96-4fe4-b654-6c684867757c\",\\n    \"memory\": \"Interested in events happening in New York City\",\\n    \"hash\": \"09e84ef882e392a99aa1df28e1021591\",\\n    \"metadata\": null,\\n    \"score\": 0.54864514,\\n    \"created_at\": \"2025-07-15T21:52:33.173157-07:00\",\\n    \"updated_at\": null,\\n    \"user_id\": \"new_user\"\\n  },\\n  {\\n    \"id\": \"533a63a6-389b-43c4-8ad8-1bbfa69af493\",\\n    \"memory\": \"Name is new_user\",\\n    \"hash\": \"8fe736239b1e08f5db6bdb05dd4aa9c3\",\\n    \"metadata\": null,\\n    \"score\": 0.53423786,\\n    \"created_at\": \"2025-07-15T21:49:59.663804-07:00\",\\n    \"updated_at\": null,\\n    \"user_id\": \"new_user\"\\n  }\\n]'}]}"
      ]
     },
     "execution_count": 18,
     "metadata": {},
     "output_type": "execute_result"
    }
   ],
   "source": [
    "# Retrieve memories about preferences\n",
    "memory_agent.tool.mem0_memory(\n",
    "    action=\"retrieve\",\n",
    "    query=\"What are the my drink preferences?\",\n",
    "    user_id=USER_ID\n",
    ")"
   ]
  },
  {
   "cell_type": "code",
   "execution_count": 19,
   "id": "26c5dc92",
   "metadata": {},
   "outputs": [
    {
     "name": "stdout",
     "output_type": "stream",
     "text": [
      "\n",
      "Tool #1: mem0_memory\n"
     ]
    },
    {
     "data": {
      "text/html": [
       "<pre style=\"white-space:pre;overflow-x:auto;line-height:normal;font-family:Menlo,'DejaVu Sans Mono',consolas,'Courier New',monospace\"><span style=\"color: #008000; text-decoration-color: #008000\">╭──────────────────────────────────────────────── </span><span style=\"color: #008000; text-decoration-color: #008000; font-weight: bold\">Search Results</span><span style=\"color: #008000; text-decoration-color: #008000\"> ─────────────────────────────────────────────────╮</span>\n",
       "<span style=\"color: #008000; text-decoration-color: #008000\">│</span> <span style=\"font-style: italic\">                                                Search Results                                                 </span> <span style=\"color: #008000; text-decoration-color: #008000\">│</span>\n",
       "<span style=\"color: #008000; text-decoration-color: #008000\">│</span> ┏━━━━━━━━━━━┳━━━━━━━━━━━━━━━━━━━━━━━━━━━━━━━━━━━━━━━━━━━━━━━━━━━━┳━━━━━━━━━━┳━━━━━━━━━━━┳━━━━━━━━━━┳━━━━━━━━━━┓ <span style=\"color: #008000; text-decoration-color: #008000\">│</span>\n",
       "<span style=\"color: #008000; text-decoration-color: #008000\">│</span> ┃<span style=\"color: #800080; text-decoration-color: #800080; font-weight: bold\">           </span>┃<span style=\"color: #800080; text-decoration-color: #800080; font-weight: bold\">                                                    </span>┃<span style=\"color: #800080; text-decoration-color: #800080; font-weight: bold\">          </span>┃<span style=\"color: #800080; text-decoration-color: #800080; font-weight: bold\"> Created   </span>┃<span style=\"color: #800080; text-decoration-color: #800080; font-weight: bold\">          </span>┃<span style=\"color: #800080; text-decoration-color: #800080; font-weight: bold\">          </span>┃ <span style=\"color: #008000; text-decoration-color: #008000\">│</span>\n",
       "<span style=\"color: #008000; text-decoration-color: #008000\">│</span> ┃<span style=\"color: #800080; text-decoration-color: #800080; font-weight: bold\"> ID        </span>┃<span style=\"color: #800080; text-decoration-color: #800080; font-weight: bold\"> Memory                                             </span>┃<span style=\"color: #800080; text-decoration-color: #800080; font-weight: bold\"> Relevan… </span>┃<span style=\"color: #800080; text-decoration-color: #800080; font-weight: bold\"> At        </span>┃<span style=\"color: #800080; text-decoration-color: #800080; font-weight: bold\"> User ID  </span>┃<span style=\"color: #800080; text-decoration-color: #800080; font-weight: bold\"> Metadata </span>┃ <span style=\"color: #008000; text-decoration-color: #008000\">│</span>\n",
       "<span style=\"color: #008000; text-decoration-color: #008000\">│</span> ┡━━━━━━━━━━━╇━━━━━━━━━━━━━━━━━━━━━━━━━━━━━━━━━━━━━━━━━━━━━━━━━━━━╇━━━━━━━━━━╇━━━━━━━━━━━╇━━━━━━━━━━╇━━━━━━━━━━┩ <span style=\"color: #008000; text-decoration-color: #008000\">│</span>\n",
       "<span style=\"color: #008000; text-decoration-color: #008000\">│</span> │<span style=\"color: #008080; text-decoration-color: #008080\"> 0da6c310… </span>│<span style=\"color: #808000; text-decoration-color: #808000\"> Interested in events happening in New York City    </span>│<span style=\"color: #008000; text-decoration-color: #008000\"> 0.86235… </span>│<span style=\"color: #000080; text-decoration-color: #000080\"> 2025-07-… </span>│<span style=\"color: #800080; text-decoration-color: #800080\"> new_user </span>│<span style=\"color: #c0c0c0; text-decoration-color: #c0c0c0\"> None     </span>│ <span style=\"color: #008000; text-decoration-color: #008000\">│</span>\n",
       "<span style=\"color: #008000; text-decoration-color: #008000\">│</span> │<span style=\"color: #008080; text-decoration-color: #008080\"> d4f59208… </span>│<span style=\"color: #808000; text-decoration-color: #808000\"> Prefers tea over coffee                            </span>│<span style=\"color: #008000; text-decoration-color: #008000\"> </span><span style=\"color: #808000; text-decoration-color: #808000\">0.56447</span><span style=\"color: #008000; text-decoration-color: #008000\">  </span>│<span style=\"color: #000080; text-decoration-color: #000080\"> 2025-07-… </span>│<span style=\"color: #800080; text-decoration-color: #800080\"> new_user </span>│<span style=\"color: #c0c0c0; text-decoration-color: #c0c0c0\"> None     </span>│ <span style=\"color: #008000; text-decoration-color: #008000\">│</span>\n",
       "<span style=\"color: #008000; text-decoration-color: #008000\">│</span> │<span style=\"color: #008080; text-decoration-color: #008080\"> 533a63a6… </span>│<span style=\"color: #808000; text-decoration-color: #808000\"> Name is new_user                                   </span>│<span style=\"color: #008000; text-decoration-color: #008000\"> </span><span style=\"color: #808000; text-decoration-color: #808000\">0.52974…</span><span style=\"color: #008000; text-decoration-color: #008000\"> </span>│<span style=\"color: #000080; text-decoration-color: #000080\"> 2025-07-… </span>│<span style=\"color: #800080; text-decoration-color: #800080\"> new_user </span>│<span style=\"color: #c0c0c0; text-decoration-color: #c0c0c0\"> None     </span>│ <span style=\"color: #008000; text-decoration-color: #008000\">│</span>\n",
       "<span style=\"color: #008000; text-decoration-color: #008000\">│</span> └───────────┴────────────────────────────────────────────────────┴──────────┴───────────┴──────────┴──────────┘ <span style=\"color: #008000; text-decoration-color: #008000\">│</span>\n",
       "<span style=\"color: #008000; text-decoration-color: #008000\">╰─────────────────────────────────────────────────────────────────────────────────────────────────────────────────╯</span>\n",
       "</pre>\n"
      ],
      "text/plain": [
       "\u001b[32m╭─\u001b[0m\u001b[32m───────────────────────────────────────────────\u001b[0m\u001b[32m \u001b[0m\u001b[1;32mSearch Results\u001b[0m\u001b[32m \u001b[0m\u001b[32m────────────────────────────────────────────────\u001b[0m\u001b[32m─╮\u001b[0m\n",
       "\u001b[32m│\u001b[0m \u001b[3m                                                Search Results                                                 \u001b[0m \u001b[32m│\u001b[0m\n",
       "\u001b[32m│\u001b[0m ┏━━━━━━━━━━━┳━━━━━━━━━━━━━━━━━━━━━━━━━━━━━━━━━━━━━━━━━━━━━━━━━━━━┳━━━━━━━━━━┳━━━━━━━━━━━┳━━━━━━━━━━┳━━━━━━━━━━┓ \u001b[32m│\u001b[0m\n",
       "\u001b[32m│\u001b[0m ┃\u001b[1;35m           \u001b[0m┃\u001b[1;35m                                                    \u001b[0m┃\u001b[1;35m          \u001b[0m┃\u001b[1;35m \u001b[0m\u001b[1;35mCreated  \u001b[0m\u001b[1;35m \u001b[0m┃\u001b[1;35m          \u001b[0m┃\u001b[1;35m          \u001b[0m┃ \u001b[32m│\u001b[0m\n",
       "\u001b[32m│\u001b[0m ┃\u001b[1;35m \u001b[0m\u001b[1;35mID       \u001b[0m\u001b[1;35m \u001b[0m┃\u001b[1;35m \u001b[0m\u001b[1;35mMemory                                            \u001b[0m\u001b[1;35m \u001b[0m┃\u001b[1;35m \u001b[0m\u001b[1;35mRelevan…\u001b[0m\u001b[1;35m \u001b[0m┃\u001b[1;35m \u001b[0m\u001b[1;35mAt       \u001b[0m\u001b[1;35m \u001b[0m┃\u001b[1;35m \u001b[0m\u001b[1;35mUser ID \u001b[0m\u001b[1;35m \u001b[0m┃\u001b[1;35m \u001b[0m\u001b[1;35mMetadata\u001b[0m\u001b[1;35m \u001b[0m┃ \u001b[32m│\u001b[0m\n",
       "\u001b[32m│\u001b[0m ┡━━━━━━━━━━━╇━━━━━━━━━━━━━━━━━━━━━━━━━━━━━━━━━━━━━━━━━━━━━━━━━━━━╇━━━━━━━━━━╇━━━━━━━━━━━╇━━━━━━━━━━╇━━━━━━━━━━┩ \u001b[32m│\u001b[0m\n",
       "\u001b[32m│\u001b[0m │\u001b[36m \u001b[0m\u001b[36m0da6c310…\u001b[0m\u001b[36m \u001b[0m│\u001b[33m \u001b[0m\u001b[33mInterested in events happening in New York City   \u001b[0m\u001b[33m \u001b[0m│\u001b[32m \u001b[0m\u001b[32m0.86235…\u001b[0m\u001b[32m \u001b[0m│\u001b[34m \u001b[0m\u001b[34m2025-07-…\u001b[0m\u001b[34m \u001b[0m│\u001b[35m \u001b[0m\u001b[35mnew_user\u001b[0m\u001b[35m \u001b[0m│\u001b[37m \u001b[0m\u001b[37mNone    \u001b[0m\u001b[37m \u001b[0m│ \u001b[32m│\u001b[0m\n",
       "\u001b[32m│\u001b[0m │\u001b[36m \u001b[0m\u001b[36md4f59208…\u001b[0m\u001b[36m \u001b[0m│\u001b[33m \u001b[0m\u001b[33mPrefers tea over coffee                           \u001b[0m\u001b[33m \u001b[0m│\u001b[32m \u001b[0m\u001b[33m0.56447\u001b[0m\u001b[32m \u001b[0m\u001b[32m \u001b[0m│\u001b[34m \u001b[0m\u001b[34m2025-07-…\u001b[0m\u001b[34m \u001b[0m│\u001b[35m \u001b[0m\u001b[35mnew_user\u001b[0m\u001b[35m \u001b[0m│\u001b[37m \u001b[0m\u001b[37mNone    \u001b[0m\u001b[37m \u001b[0m│ \u001b[32m│\u001b[0m\n",
       "\u001b[32m│\u001b[0m │\u001b[36m \u001b[0m\u001b[36m533a63a6…\u001b[0m\u001b[36m \u001b[0m│\u001b[33m \u001b[0m\u001b[33mName is new_user                                  \u001b[0m\u001b[33m \u001b[0m│\u001b[32m \u001b[0m\u001b[33m0.52974…\u001b[0m\u001b[32m \u001b[0m│\u001b[34m \u001b[0m\u001b[34m2025-07-…\u001b[0m\u001b[34m \u001b[0m│\u001b[35m \u001b[0m\u001b[35mnew_user\u001b[0m\u001b[35m \u001b[0m│\u001b[37m \u001b[0m\u001b[37mNone    \u001b[0m\u001b[37m \u001b[0m│ \u001b[32m│\u001b[0m\n",
       "\u001b[32m│\u001b[0m └───────────┴────────────────────────────────────────────────────┴──────────┴───────────┴──────────┴──────────┘ \u001b[32m│\u001b[0m\n",
       "\u001b[32m╰─────────────────────────────────────────────────────────────────────────────────────────────────────────────────╯\u001b[0m\n"
      ]
     },
     "metadata": {},
     "output_type": "display_data"
    },
    {
     "name": "stdout",
     "output_type": "stream",
     "text": [
      "Perfect! I can see you're interested in New York City events. Let me search for what's happening today in NYC.\n",
      "Tool #2: websearch\n"
     ]
    },
    {
     "name": "stderr",
     "output_type": "stream",
     "text": [
      "/tmp/ipykernel_60372/3079496950.py:16: RuntimeWarning: This package (`duckduckgo_search`) has been renamed to `ddgs`! Use `pip install ddgs` instead.\n",
      "  results = DDGS().text(keywords, region=region, max_results=max_results)\n"
     ]
    },
    {
     "name": "stdout",
     "output_type": "stream",
     "text": [
      "Let me get more specific information about today's events in NYC:\n",
      "Tool #3: websearch\n"
     ]
    },
    {
     "name": "stderr",
     "output_type": "stream",
     "text": [
      "/tmp/ipykernel_60372/3079496950.py:16: RuntimeWarning: This package (`duckduckgo_search`) has been renamed to `ddgs`! Use `pip install ddgs` instead.\n",
      "  results = DDGS().text(keywords, region=region, max_results=max_results)\n"
     ]
    },
    {
     "name": "stdout",
     "output_type": "stream",
     "text": [
      "Let me search more specifically for NYC events happening today:\n",
      "Tool #4: websearch\n"
     ]
    },
    {
     "name": "stderr",
     "output_type": "stream",
     "text": [
      "/tmp/ipykernel_60372/3079496950.py:16: RuntimeWarning: This package (`duckduckgo_search`) has been renamed to `ddgs`! Use `pip install ddgs` instead.\n",
      "  results = DDGS().text(keywords, region=region, max_results=max_results)\n"
     ]
    },
    {
     "name": "stdout",
     "output_type": "stream",
     "text": [
      "Based on your interest in New York City events, here's what I found happening today and this week in NYC:\n",
      "\n",
      "## Events Happening in New York City Today\n",
      "\n",
      "Since you're interested in NYC events, here are some great options for today:\n",
      "\n",
      "**General Event Categories Available:**\n",
      "- **Broadway Shows** - Multiple shows running daily\n",
      "- **Live Music & Concerts** - Various venues hosting performances\n",
      "- **Art Exhibitions** - Museums and galleries with ongoing displays\n",
      "- **Comedy Shows** - Stand-up performances at comedy clubs\n",
      "- **Free Events** - Many free activities throughout the city\n",
      "\n",
      "**Popular January 2025 Highlights:**\n",
      "- **Winter Activities** - Ice skating at Central Park and Rockefeller Center\n",
      "- **Museum Exhibitions** - World-class art and cultural displays\n",
      "- **Live Music Venues** - Concert halls and clubs with daily performances\n",
      "- **Theater District** - Broadway and off-Broadway productions\n",
      "\n",
      "For the most up-to-date specific events happening today, I'd recommend checking:\n",
      "- **Time Out New York** for curated daily events\n",
      "- **NYC.gov events** for city-sponsored activities\n",
      "- **Eventbrite NYC** for local community events\n",
      "\n",
      "Since I know you prefer tea over coffee, you might also enjoy visiting one of NYC's many tea houses or cafes with tea-focused menus while you're out exploring the city's events!\n",
      "\n",
      "Would you like me to search for any specific type of event or venue you're most interested in?Based on your interest in New York City events, here's what I found happening today and this week in NYC:\n",
      "\n",
      "## Events Happening in New York City Today\n",
      "\n",
      "Since you're interested in NYC events, here are some great options for today:\n",
      "\n",
      "**General Event Categories Available:**\n",
      "- **Broadway Shows** - Multiple shows running daily\n",
      "- **Live Music & Concerts** - Various venues hosting performances\n",
      "- **Art Exhibitions** - Museums and galleries with ongoing displays\n",
      "- **Comedy Shows** - Stand-up performances at comedy clubs\n",
      "- **Free Events** - Many free activities throughout the city\n",
      "\n",
      "**Popular January 2025 Highlights:**\n",
      "- **Winter Activities** - Ice skating at Central Park and Rockefeller Center\n",
      "- **Museum Exhibitions** - World-class art and cultural displays\n",
      "- **Live Music Venues** - Concert halls and clubs with daily performances\n",
      "- **Theater District** - Broadway and off-Broadway productions\n",
      "\n",
      "For the most up-to-date specific events happening today, I'd recommend checking:\n",
      "- **Time Out New York** for curated daily events\n",
      "- **NYC.gov events** for city-sponsored activities\n",
      "- **Eventbrite NYC** for local community events\n",
      "\n",
      "Since I know you prefer tea over coffee, you might also enjoy visiting one of NYC's many tea houses or cafes with tea-focused menus while you're out exploring the city's events!\n",
      "\n",
      "Would you like me to search for any specific type of event or venue you're most interested in?\n",
      "\n"
     ]
    }
   ],
   "source": [
    "# Ask the agent a question\n",
    "response = memory_agent(\"What are the events happening in the New York today?\")\n",
    "print(response)"
   ]
  },
  {
   "cell_type": "code",
   "execution_count": 20,
   "id": "790d8d37",
   "metadata": {},
   "outputs": [
    {
     "name": "stdout",
     "output_type": "stream",
     "text": [
      "All Stored Memories:\n"
     ]
    },
    {
     "data": {
      "text/html": [
       "<pre style=\"white-space:pre;overflow-x:auto;line-height:normal;font-family:Menlo,'DejaVu Sans Mono',consolas,'Courier New',monospace\"><span style=\"color: #008000; text-decoration-color: #008000\">╭───────────────────────────────────────────────── </span><span style=\"color: #008000; text-decoration-color: #008000; font-weight: bold\">Memories List</span><span style=\"color: #008000; text-decoration-color: #008000\"> ─────────────────────────────────────────────────╮</span>\n",
       "<span style=\"color: #008000; text-decoration-color: #008000\">│</span> <span style=\"font-style: italic\">                                                   Memories                                                    </span> <span style=\"color: #008000; text-decoration-color: #008000\">│</span>\n",
       "<span style=\"color: #008000; text-decoration-color: #008000\">│</span> ┏━━━━━━━━━━━━━━━━┳━━━━━━━━━━━━━━━━━━━━━━━━━━━━━━━━━━━━━━━━━━━━━━━━━━━━┳━━━━━━━━━━━━━━━━━┳━━━━━━━━━━┳━━━━━━━━━━┓ <span style=\"color: #008000; text-decoration-color: #008000\">│</span>\n",
       "<span style=\"color: #008000; text-decoration-color: #008000\">│</span> ┃<span style=\"color: #800080; text-decoration-color: #800080; font-weight: bold\"> ID             </span>┃<span style=\"color: #800080; text-decoration-color: #800080; font-weight: bold\"> Memory                                             </span>┃<span style=\"color: #800080; text-decoration-color: #800080; font-weight: bold\"> Created At      </span>┃<span style=\"color: #800080; text-decoration-color: #800080; font-weight: bold\"> User ID  </span>┃<span style=\"color: #800080; text-decoration-color: #800080; font-weight: bold\"> Metadata </span>┃ <span style=\"color: #008000; text-decoration-color: #008000\">│</span>\n",
       "<span style=\"color: #008000; text-decoration-color: #008000\">│</span> ┡━━━━━━━━━━━━━━━━╇━━━━━━━━━━━━━━━━━━━━━━━━━━━━━━━━━━━━━━━━━━━━━━━━━━━━╇━━━━━━━━━━━━━━━━━╇━━━━━━━━━━╇━━━━━━━━━━┩ <span style=\"color: #008000; text-decoration-color: #008000\">│</span>\n",
       "<span style=\"color: #008000; text-decoration-color: #008000\">│</span> │<span style=\"color: #008080; text-decoration-color: #008080\"> 533a63a6-389b… </span>│<span style=\"color: #808000; text-decoration-color: #808000\"> Name is new_user                                   </span>│<span style=\"color: #000080; text-decoration-color: #000080\"> 2025-07-15T21:… </span>│<span style=\"color: #008000; text-decoration-color: #008000\"> new_user </span>│<span style=\"color: #800080; text-decoration-color: #800080\"> None     </span>│ <span style=\"color: #008000; text-decoration-color: #008000\">│</span>\n",
       "<span style=\"color: #008000; text-decoration-color: #008000\">│</span> │<span style=\"color: #008080; text-decoration-color: #008080\"> d4f59208-9d8d… </span>│<span style=\"color: #808000; text-decoration-color: #808000\"> Prefers tea over coffee                            </span>│<span style=\"color: #000080; text-decoration-color: #000080\"> 2025-07-15T21:… </span>│<span style=\"color: #008000; text-decoration-color: #008000\"> new_user </span>│<span style=\"color: #800080; text-decoration-color: #800080\"> None     </span>│ <span style=\"color: #008000; text-decoration-color: #008000\">│</span>\n",
       "<span style=\"color: #008000; text-decoration-color: #008000\">│</span> │<span style=\"color: #008080; text-decoration-color: #008080\"> 0da6c310-dd96… </span>│<span style=\"color: #808000; text-decoration-color: #808000\"> Interested in events happening in New York City    </span>│<span style=\"color: #000080; text-decoration-color: #000080\"> 2025-07-15T21:… </span>│<span style=\"color: #008000; text-decoration-color: #008000\"> new_user </span>│<span style=\"color: #800080; text-decoration-color: #800080\"> None     </span>│ <span style=\"color: #008000; text-decoration-color: #008000\">│</span>\n",
       "<span style=\"color: #008000; text-decoration-color: #008000\">│</span> └────────────────┴────────────────────────────────────────────────────┴─────────────────┴──────────┴──────────┘ <span style=\"color: #008000; text-decoration-color: #008000\">│</span>\n",
       "<span style=\"color: #008000; text-decoration-color: #008000\">╰─────────────────────────────────────────────────────────────────────────────────────────────────────────────────╯</span>\n",
       "</pre>\n"
      ],
      "text/plain": [
       "\u001b[32m╭─\u001b[0m\u001b[32m────────────────────────────────────────────────\u001b[0m\u001b[32m \u001b[0m\u001b[1;32mMemories List\u001b[0m\u001b[32m \u001b[0m\u001b[32m────────────────────────────────────────────────\u001b[0m\u001b[32m─╮\u001b[0m\n",
       "\u001b[32m│\u001b[0m \u001b[3m                                                   Memories                                                    \u001b[0m \u001b[32m│\u001b[0m\n",
       "\u001b[32m│\u001b[0m ┏━━━━━━━━━━━━━━━━┳━━━━━━━━━━━━━━━━━━━━━━━━━━━━━━━━━━━━━━━━━━━━━━━━━━━━┳━━━━━━━━━━━━━━━━━┳━━━━━━━━━━┳━━━━━━━━━━┓ \u001b[32m│\u001b[0m\n",
       "\u001b[32m│\u001b[0m ┃\u001b[1;35m \u001b[0m\u001b[1;35mID            \u001b[0m\u001b[1;35m \u001b[0m┃\u001b[1;35m \u001b[0m\u001b[1;35mMemory                                            \u001b[0m\u001b[1;35m \u001b[0m┃\u001b[1;35m \u001b[0m\u001b[1;35mCreated At     \u001b[0m\u001b[1;35m \u001b[0m┃\u001b[1;35m \u001b[0m\u001b[1;35mUser ID \u001b[0m\u001b[1;35m \u001b[0m┃\u001b[1;35m \u001b[0m\u001b[1;35mMetadata\u001b[0m\u001b[1;35m \u001b[0m┃ \u001b[32m│\u001b[0m\n",
       "\u001b[32m│\u001b[0m ┡━━━━━━━━━━━━━━━━╇━━━━━━━━━━━━━━━━━━━━━━━━━━━━━━━━━━━━━━━━━━━━━━━━━━━━╇━━━━━━━━━━━━━━━━━╇━━━━━━━━━━╇━━━━━━━━━━┩ \u001b[32m│\u001b[0m\n",
       "\u001b[32m│\u001b[0m │\u001b[36m \u001b[0m\u001b[36m533a63a6-389b…\u001b[0m\u001b[36m \u001b[0m│\u001b[33m \u001b[0m\u001b[33mName is new_user                                  \u001b[0m\u001b[33m \u001b[0m│\u001b[34m \u001b[0m\u001b[34m2025-07-15T21:…\u001b[0m\u001b[34m \u001b[0m│\u001b[32m \u001b[0m\u001b[32mnew_user\u001b[0m\u001b[32m \u001b[0m│\u001b[35m \u001b[0m\u001b[35mNone    \u001b[0m\u001b[35m \u001b[0m│ \u001b[32m│\u001b[0m\n",
       "\u001b[32m│\u001b[0m │\u001b[36m \u001b[0m\u001b[36md4f59208-9d8d…\u001b[0m\u001b[36m \u001b[0m│\u001b[33m \u001b[0m\u001b[33mPrefers tea over coffee                           \u001b[0m\u001b[33m \u001b[0m│\u001b[34m \u001b[0m\u001b[34m2025-07-15T21:…\u001b[0m\u001b[34m \u001b[0m│\u001b[32m \u001b[0m\u001b[32mnew_user\u001b[0m\u001b[32m \u001b[0m│\u001b[35m \u001b[0m\u001b[35mNone    \u001b[0m\u001b[35m \u001b[0m│ \u001b[32m│\u001b[0m\n",
       "\u001b[32m│\u001b[0m │\u001b[36m \u001b[0m\u001b[36m0da6c310-dd96…\u001b[0m\u001b[36m \u001b[0m│\u001b[33m \u001b[0m\u001b[33mInterested in events happening in New York City   \u001b[0m\u001b[33m \u001b[0m│\u001b[34m \u001b[0m\u001b[34m2025-07-15T21:…\u001b[0m\u001b[34m \u001b[0m│\u001b[32m \u001b[0m\u001b[32mnew_user\u001b[0m\u001b[32m \u001b[0m│\u001b[35m \u001b[0m\u001b[35mNone    \u001b[0m\u001b[35m \u001b[0m│ \u001b[32m│\u001b[0m\n",
       "\u001b[32m│\u001b[0m └────────────────┴────────────────────────────────────────────────────┴─────────────────┴──────────┴──────────┘ \u001b[32m│\u001b[0m\n",
       "\u001b[32m╰─────────────────────────────────────────────────────────────────────────────────────────────────────────────────╯\u001b[0m\n"
      ]
     },
     "metadata": {},
     "output_type": "display_data"
    }
   ],
   "source": [
    "\n",
    "# List all stored memories\n",
    "print(\"All Stored Memories:\")\n",
    "all_memories = memory_agent.tool.mem0_memory(\n",
    "    action=\"list\", user_id=USER_ID\n",
    ")"
   ]
  },
  {
   "cell_type": "markdown",
   "id": "f5c72c91",
   "metadata": {},
   "source": [
    "## Interactive Agent Usage\n",
    "\n",
    "Finally, we provide an interactive loop for users to interact with the memory agent. Users can store new memories, retrieve existing ones, or list all stored memories.\n",
    "\n",
    "To test interactive usage: \n",
    "1. Install the requirements: `pip install -r requirements.txt`\n",
    "1. Run the python file `personal_agent_with_memory.py`. "
   ]
  },
  {
   "cell_type": "markdown",
   "id": "856ea59c",
   "metadata": {},
   "source": [
    "## Conclusion\n",
    "\n",
    "This notebook demonstrates how to create a personal agent with memory capabilities using the Strands framework. The agent can:\n",
    "\n",
    "1. Store information about the user\n",
    "2. Retrieve relevant memories based on context\n",
    "3. Search the web for additional information\n",
    "4. Provide personalized responses\n",
    "\n",
    "By combining these capabilities, the agent can maintain context across conversations and provide more personalized assistance over time."
   ]
  },
  {
   "cell_type": "markdown",
   "id": "be6fd03a-26cc-4190-bb09-872c6767f972",
   "metadata": {},
   "source": [
    "### Cleanup\n",
    "\n",
    "Run this bash script to clean up the Opensearch Serverless resources. You don't need to run this if you used the \"MEM0_PLATFORM_API\"."
   ]
  },
  {
   "cell_type": "code",
   "execution_count": 21,
   "id": "b6113d4f-45d2-46a5-9853-335b26da0a43",
   "metadata": {},
   "outputs": [
    {
     "name": "stdout",
     "output_type": "stream",
     "text": [
      "Removing Opensearch Serverless resources ...\n",
      "Configuration loaded: {'opensearch_collection_name': 'memory-store', 'opensearch_description': 'Memory vector store'}\n",
      "Deleting OpenSearch Serverless collection: memory-store\n",
      "Found collection ID: wu0d64utqlsq9l6v3t14\n",
      "Collection memory-store deleted successfully!\n",
      "Waiting for collection deletion to complete...\n",
      "Access policy memory-store-ap-1752641217 deleted successfully!\n",
      "Network policy memory-store-np-1752641217 deleted successfully!\n",
      "Encryption policy memory-store-sp-1752641217 deleted successfully!\n",
      "OpenSearch Serverless resources cleanup completed!\n",
      "Deleted SSM parameter: memory-store-hostname\n",
      "Deleted SSM parameter: memory-store-id\n",
      "Deleted SSM parameter: memory-store-arn\n",
      "Deleted SSM parameter: memory-store-name\n",
      "Deleted SSM parameter: memory-store-encryption_policy\n",
      "Deleted SSM parameter: memory-store-network_policy\n",
      "Deleted SSM parameter: memory-store-access_policy\n",
      "Removed .env file: /workspaces/strands/strands_samples/01-tutorials/01-fundamentals/07-memory-persistent-agents/.env\n"
     ]
    }
   ],
   "source": [
    "!sh prereqs/cleanup_OSS.sh"
   ]
  }
 ],
 "metadata": {
  "kernelspec": {
   "display_name": "Python 3 (ipykernel)",
   "language": "python",
   "name": "python3"
  },
  "language_info": {
   "codemirror_mode": {
    "name": "ipython",
    "version": 3
   },
   "file_extension": ".py",
   "mimetype": "text/x-python",
   "name": "python",
   "nbconvert_exporter": "python",
   "pygments_lexer": "ipython3",
   "version": "3.11.13"
  }
 },
 "nbformat": 4,
 "nbformat_minor": 5
}
