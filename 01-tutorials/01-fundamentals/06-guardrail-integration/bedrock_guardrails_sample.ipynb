{
 "cells": [
  {
   "cell_type": "markdown",
   "metadata": {},
   "source": [
    "\n",
    "\n",
    "# Safeguarding your Strands Agents with Amazon Bedrock Guardrails\n",
    "\n",
    "## Overview\n",
    "In this example we will guide you through how to create your first Strands Agent using [Amazon Bedrock Guardrails](https://aws.amazon.com/bedrock/guardrails/) to safeguard the underlying Amazon Bedrock LLM model.\n",
    "\n",
    "Amazon Bedrock Guardrails provides configurable safeguards to help safely build generative AI applications at scale. With a consistent and standard approach used across a wide range of foundation models (FMs) including FMs supported in Amazon Bedrock, fine-tuned models, and models hosted outside of Amazon Bedrock, Guardrails delivers industry-leading safety protections. \n",
    "\n",
    "With Strands Agents, you can add Amazon Bedrock Guardrails directly to you Amazon Bedrock models. If you are not using Amazon Bedrock Models, you can use the [Apply Guardrail API](https://docs.aws.amazon.com/bedrock/latest/userguide/guardrails-use-independent-api.html) to safeguard any model. In this case, you need to build the pipelines using the advance processing capabilities you just learned.\n",
    "\n",
    "\n",
    "## Agent Details\n",
    "<div style=\"float: left; margin-right: 20px;\">\n",
    "    \n",
    "|Feature             |Description                                        |\n",
    "|--------------------|---------------------------------------------------|\n",
    "|AWS Services used   |Amazon Bedrock Guardrails                          |\n",
    "|Custom tools created|get_customer_profile, list_customer_purchases, list_customer_tickets, update_customer_profile|\n",
    "|Agent Structure     |Single agent architecture                          |\n",
    "\n",
    "</div>\n"
   ]
  },
  {
   "cell_type": "markdown",
   "metadata": {},
   "source": [
    "## Architecture\n",
    "\n",
    "<div style=\"text-align:left\">\n",
    "    <img src=\"images/architecture.png\" width=\"85%\" />\n",
    "</div>\n",
    "\n",
    "## Key Features\n",
    "* **Single agent architecture**: this example creates a single agent that interacts with built-in and custom tools\n",
    "* **Custom tools**: lean how to create your own tools\n",
    "* **Amazon Bedrock Model as underlying LLM**: Used Anthropic Claude 3.7 from Amazon Bedrock as the underlying LLM model\n",
    "* **Amazon Bedrock Guardails as undeline safeguard**: Use Amazon Bedrock Guardrails to safe guard your agent application"
   ]
  },
  {
   "cell_type": "markdown",
   "metadata": {},
   "source": [
    "## Setup and prerequisites\n",
    "\n",
    "### Prerequisites\n",
    "* Python 3.10+\n",
    "* AWS account\n",
    "* Anthropic Claude 3.7 enabled on Amazon Bedrock\n",
    "* IAM role with permissions to create Amazon Bedrock Guardrails\n",
    "\n",
    "Let's now install the requirement packages for our Strands Agent"
   ]
  },
  {
   "cell_type": "code",
   "execution_count": 1,
   "metadata": {},
   "outputs": [
    {
     "name": "stdout",
     "output_type": "stream",
     "text": [
      "Requirement already satisfied: boto3 in /usr/local/python/3.11.13/lib/python3.11/site-packages (from -r requirements.txt (line 1)) (1.39.6)\n",
      "Requirement already satisfied: strands-agents in /usr/local/python/3.11.13/lib/python3.11/site-packages (from -r requirements.txt (line 2)) (1.0.0)\n",
      "Requirement already satisfied: strands-agents-tools in /usr/local/python/3.11.13/lib/python3.11/site-packages (from -r requirements.txt (line 3)) (0.2.0)\n",
      "Requirement already satisfied: botocore<1.40.0,>=1.39.6 in /usr/local/python/3.11.13/lib/python3.11/site-packages (from boto3->-r requirements.txt (line 1)) (1.39.6)\n",
      "Requirement already satisfied: jmespath<2.0.0,>=0.7.1 in /usr/local/python/3.11.13/lib/python3.11/site-packages (from boto3->-r requirements.txt (line 1)) (1.0.1)\n",
      "Requirement already satisfied: s3transfer<0.14.0,>=0.13.0 in /usr/local/python/3.11.13/lib/python3.11/site-packages (from boto3->-r requirements.txt (line 1)) (0.13.0)\n",
      "Requirement already satisfied: python-dateutil<3.0.0,>=2.1 in /usr/local/python/3.11.13/lib/python3.11/site-packages (from botocore<1.40.0,>=1.39.6->boto3->-r requirements.txt (line 1)) (2.9.0.post0)\n",
      "Requirement already satisfied: urllib3!=2.2.0,<3,>=1.25.4 in /usr/local/python/3.11.13/lib/python3.11/site-packages (from botocore<1.40.0,>=1.39.6->boto3->-r requirements.txt (line 1)) (2.5.0)\n",
      "Requirement already satisfied: six>=1.5 in /usr/local/python/3.11.13/lib/python3.11/site-packages (from python-dateutil<3.0.0,>=2.1->botocore<1.40.0,>=1.39.6->boto3->-r requirements.txt (line 1)) (1.17.0)\n",
      "Requirement already satisfied: docstring-parser<1.0,>=0.15 in /usr/local/python/3.11.13/lib/python3.11/site-packages (from strands-agents->-r requirements.txt (line 2)) (0.16)\n",
      "Requirement already satisfied: mcp<2.0.0,>=1.8.0 in /usr/local/python/3.11.13/lib/python3.11/site-packages (from strands-agents->-r requirements.txt (line 2)) (1.11.0)\n",
      "Requirement already satisfied: opentelemetry-api<2.0.0,>=1.30.0 in /usr/local/python/3.11.13/lib/python3.11/site-packages (from strands-agents->-r requirements.txt (line 2)) (1.35.0)\n",
      "Requirement already satisfied: opentelemetry-instrumentation-threading<1.00b0,>=0.51b0 in /usr/local/python/3.11.13/lib/python3.11/site-packages (from strands-agents->-r requirements.txt (line 2)) (0.56b0)\n",
      "Requirement already satisfied: opentelemetry-sdk<2.0.0,>=1.30.0 in /usr/local/python/3.11.13/lib/python3.11/site-packages (from strands-agents->-r requirements.txt (line 2)) (1.35.0)\n",
      "Requirement already satisfied: pydantic<3.0.0,>=2.0.0 in /usr/local/python/3.11.13/lib/python3.11/site-packages (from strands-agents->-r requirements.txt (line 2)) (2.11.7)\n",
      "Requirement already satisfied: typing-extensions<5.0.0,>=4.13.2 in /usr/local/python/3.11.13/lib/python3.11/site-packages (from strands-agents->-r requirements.txt (line 2)) (4.14.1)\n",
      "Requirement already satisfied: watchdog<7.0.0,>=6.0.0 in /usr/local/python/3.11.13/lib/python3.11/site-packages (from strands-agents->-r requirements.txt (line 2)) (6.0.0)\n",
      "Requirement already satisfied: anyio>=4.5 in /usr/local/python/3.11.13/lib/python3.11/site-packages (from mcp<2.0.0,>=1.8.0->strands-agents->-r requirements.txt (line 2)) (4.9.0)\n",
      "Requirement already satisfied: httpx-sse>=0.4 in /usr/local/python/3.11.13/lib/python3.11/site-packages (from mcp<2.0.0,>=1.8.0->strands-agents->-r requirements.txt (line 2)) (0.4.1)\n",
      "Requirement already satisfied: httpx>=0.27 in /usr/local/python/3.11.13/lib/python3.11/site-packages (from mcp<2.0.0,>=1.8.0->strands-agents->-r requirements.txt (line 2)) (0.28.1)\n",
      "Requirement already satisfied: jsonschema>=4.20.0 in /usr/local/python/3.11.13/lib/python3.11/site-packages (from mcp<2.0.0,>=1.8.0->strands-agents->-r requirements.txt (line 2)) (4.24.0)\n",
      "Requirement already satisfied: pydantic-settings>=2.5.2 in /usr/local/python/3.11.13/lib/python3.11/site-packages (from mcp<2.0.0,>=1.8.0->strands-agents->-r requirements.txt (line 2)) (2.10.1)\n",
      "Requirement already satisfied: python-multipart>=0.0.9 in /usr/local/python/3.11.13/lib/python3.11/site-packages (from mcp<2.0.0,>=1.8.0->strands-agents->-r requirements.txt (line 2)) (0.0.20)\n",
      "Requirement already satisfied: sse-starlette>=1.6.1 in /usr/local/python/3.11.13/lib/python3.11/site-packages (from mcp<2.0.0,>=1.8.0->strands-agents->-r requirements.txt (line 2)) (2.4.1)\n",
      "Requirement already satisfied: starlette>=0.27 in /usr/local/python/3.11.13/lib/python3.11/site-packages (from mcp<2.0.0,>=1.8.0->strands-agents->-r requirements.txt (line 2)) (0.47.1)\n",
      "Requirement already satisfied: uvicorn>=0.23.1 in /usr/local/python/3.11.13/lib/python3.11/site-packages (from mcp<2.0.0,>=1.8.0->strands-agents->-r requirements.txt (line 2)) (0.35.0)\n",
      "Requirement already satisfied: importlib-metadata<8.8.0,>=6.0 in /usr/local/python/3.11.13/lib/python3.11/site-packages (from opentelemetry-api<2.0.0,>=1.30.0->strands-agents->-r requirements.txt (line 2)) (8.7.0)\n",
      "Requirement already satisfied: zipp>=3.20 in /usr/local/python/3.11.13/lib/python3.11/site-packages (from importlib-metadata<8.8.0,>=6.0->opentelemetry-api<2.0.0,>=1.30.0->strands-agents->-r requirements.txt (line 2)) (3.23.0)\n",
      "Requirement already satisfied: opentelemetry-instrumentation==0.56b0 in /usr/local/python/3.11.13/lib/python3.11/site-packages (from opentelemetry-instrumentation-threading<1.00b0,>=0.51b0->strands-agents->-r requirements.txt (line 2)) (0.56b0)\n",
      "Requirement already satisfied: wrapt<2.0.0,>=1.0.0 in /usr/local/python/3.11.13/lib/python3.11/site-packages (from opentelemetry-instrumentation-threading<1.00b0,>=0.51b0->strands-agents->-r requirements.txt (line 2)) (1.17.2)\n",
      "Requirement already satisfied: opentelemetry-semantic-conventions==0.56b0 in /usr/local/python/3.11.13/lib/python3.11/site-packages (from opentelemetry-instrumentation==0.56b0->opentelemetry-instrumentation-threading<1.00b0,>=0.51b0->strands-agents->-r requirements.txt (line 2)) (0.56b0)\n",
      "Requirement already satisfied: packaging>=18.0 in /usr/local/python/3.11.13/lib/python3.11/site-packages (from opentelemetry-instrumentation==0.56b0->opentelemetry-instrumentation-threading<1.00b0,>=0.51b0->strands-agents->-r requirements.txt (line 2)) (25.0)\n",
      "Requirement already satisfied: annotated-types>=0.6.0 in /usr/local/python/3.11.13/lib/python3.11/site-packages (from pydantic<3.0.0,>=2.0.0->strands-agents->-r requirements.txt (line 2)) (0.7.0)\n",
      "Requirement already satisfied: pydantic-core==2.33.2 in /usr/local/python/3.11.13/lib/python3.11/site-packages (from pydantic<3.0.0,>=2.0.0->strands-agents->-r requirements.txt (line 2)) (2.33.2)\n",
      "Requirement already satisfied: typing-inspection>=0.4.0 in /usr/local/python/3.11.13/lib/python3.11/site-packages (from pydantic<3.0.0,>=2.0.0->strands-agents->-r requirements.txt (line 2)) (0.4.1)\n",
      "Requirement already satisfied: aws-requests-auth<0.5.0,>=0.4.3 in /usr/local/python/3.11.13/lib/python3.11/site-packages (from strands-agents-tools->-r requirements.txt (line 3)) (0.4.3)\n",
      "Requirement already satisfied: dill<0.5.0,>=0.4.0 in /usr/local/python/3.11.13/lib/python3.11/site-packages (from strands-agents-tools->-r requirements.txt (line 3)) (0.4.0)\n",
      "Requirement already satisfied: markdownify<2.0.0,>=1.0.0 in /usr/local/python/3.11.13/lib/python3.11/site-packages (from strands-agents-tools->-r requirements.txt (line 3)) (1.1.0)\n",
      "Requirement already satisfied: pillow<12.0.0,>=11.2.1 in /usr/local/python/3.11.13/lib/python3.11/site-packages (from strands-agents-tools->-r requirements.txt (line 3)) (11.3.0)\n",
      "Requirement already satisfied: prompt-toolkit<4.0.0,>=3.0.51 in /usr/local/python/3.11.13/lib/python3.11/site-packages (from strands-agents-tools->-r requirements.txt (line 3)) (3.0.51)\n",
      "Requirement already satisfied: pyjwt<3.0.0,>=2.10.1 in /usr/local/python/3.11.13/lib/python3.11/site-packages (from strands-agents-tools->-r requirements.txt (line 3)) (2.10.1)\n",
      "Requirement already satisfied: readabilipy<1.0.0,>=0.2.0 in /usr/local/python/3.11.13/lib/python3.11/site-packages (from strands-agents-tools->-r requirements.txt (line 3)) (0.3.0)\n",
      "Requirement already satisfied: rich<15.0.0,>=14.0.0 in /usr/local/python/3.11.13/lib/python3.11/site-packages (from strands-agents-tools->-r requirements.txt (line 3)) (14.0.0)\n",
      "Requirement already satisfied: slack-bolt<2.0.0,>=1.23.0 in /usr/local/python/3.11.13/lib/python3.11/site-packages (from strands-agents-tools->-r requirements.txt (line 3)) (1.23.0)\n",
      "Requirement already satisfied: sympy<2.0.0,>=1.12.0 in /usr/local/python/3.11.13/lib/python3.11/site-packages (from strands-agents-tools->-r requirements.txt (line 3)) (1.14.0)\n",
      "Requirement already satisfied: tenacity<10.0.0,>=9.1.2 in /usr/local/python/3.11.13/lib/python3.11/site-packages (from strands-agents-tools->-r requirements.txt (line 3)) (9.1.2)\n",
      "Requirement already satisfied: requests>=0.14.0 in /usr/local/python/3.11.13/lib/python3.11/site-packages (from aws-requests-auth<0.5.0,>=0.4.3->strands-agents-tools->-r requirements.txt (line 3)) (2.32.4)\n",
      "Requirement already satisfied: beautifulsoup4<5,>=4.9 in /usr/local/python/3.11.13/lib/python3.11/site-packages (from markdownify<2.0.0,>=1.0.0->strands-agents-tools->-r requirements.txt (line 3)) (4.13.4)\n",
      "Requirement already satisfied: soupsieve>1.2 in /usr/local/python/3.11.13/lib/python3.11/site-packages (from beautifulsoup4<5,>=4.9->markdownify<2.0.0,>=1.0.0->strands-agents-tools->-r requirements.txt (line 3)) (2.7)\n",
      "Requirement already satisfied: wcwidth in /usr/local/python/3.11.13/lib/python3.11/site-packages (from prompt-toolkit<4.0.0,>=3.0.51->strands-agents-tools->-r requirements.txt (line 3)) (0.2.13)\n",
      "Requirement already satisfied: html5lib in /usr/local/python/3.11.13/lib/python3.11/site-packages (from readabilipy<1.0.0,>=0.2.0->strands-agents-tools->-r requirements.txt (line 3)) (1.1)\n",
      "Requirement already satisfied: lxml in /usr/local/python/3.11.13/lib/python3.11/site-packages (from readabilipy<1.0.0,>=0.2.0->strands-agents-tools->-r requirements.txt (line 3)) (6.0.0)\n",
      "Requirement already satisfied: regex in /usr/local/python/3.11.13/lib/python3.11/site-packages (from readabilipy<1.0.0,>=0.2.0->strands-agents-tools->-r requirements.txt (line 3)) (2024.11.6)\n",
      "Requirement already satisfied: markdown-it-py>=2.2.0 in /usr/local/python/3.11.13/lib/python3.11/site-packages (from rich<15.0.0,>=14.0.0->strands-agents-tools->-r requirements.txt (line 3)) (3.0.0)\n",
      "Requirement already satisfied: pygments<3.0.0,>=2.13.0 in /usr/local/python/3.11.13/lib/python3.11/site-packages (from rich<15.0.0,>=14.0.0->strands-agents-tools->-r requirements.txt (line 3)) (2.19.2)\n",
      "Requirement already satisfied: slack_sdk<4,>=3.35.0 in /usr/local/python/3.11.13/lib/python3.11/site-packages (from slack-bolt<2.0.0,>=1.23.0->strands-agents-tools->-r requirements.txt (line 3)) (3.36.0)\n",
      "Requirement already satisfied: mpmath<1.4,>=1.1.0 in /usr/local/python/3.11.13/lib/python3.11/site-packages (from sympy<2.0.0,>=1.12.0->strands-agents-tools->-r requirements.txt (line 3)) (1.3.0)\n",
      "Requirement already satisfied: idna>=2.8 in /usr/local/python/3.11.13/lib/python3.11/site-packages (from anyio>=4.5->mcp<2.0.0,>=1.8.0->strands-agents->-r requirements.txt (line 2)) (3.10)\n",
      "Requirement already satisfied: sniffio>=1.1 in /usr/local/python/3.11.13/lib/python3.11/site-packages (from anyio>=4.5->mcp<2.0.0,>=1.8.0->strands-agents->-r requirements.txt (line 2)) (1.3.1)\n",
      "Requirement already satisfied: certifi in /usr/local/python/3.11.13/lib/python3.11/site-packages (from httpx>=0.27->mcp<2.0.0,>=1.8.0->strands-agents->-r requirements.txt (line 2)) (2025.7.14)\n",
      "Requirement already satisfied: httpcore==1.* in /usr/local/python/3.11.13/lib/python3.11/site-packages (from httpx>=0.27->mcp<2.0.0,>=1.8.0->strands-agents->-r requirements.txt (line 2)) (1.0.9)\n",
      "Requirement already satisfied: h11>=0.16 in /usr/local/python/3.11.13/lib/python3.11/site-packages (from httpcore==1.*->httpx>=0.27->mcp<2.0.0,>=1.8.0->strands-agents->-r requirements.txt (line 2)) (0.16.0)\n",
      "Requirement already satisfied: attrs>=22.2.0 in /usr/local/python/3.11.13/lib/python3.11/site-packages (from jsonschema>=4.20.0->mcp<2.0.0,>=1.8.0->strands-agents->-r requirements.txt (line 2)) (25.3.0)\n",
      "Requirement already satisfied: jsonschema-specifications>=2023.03.6 in /usr/local/python/3.11.13/lib/python3.11/site-packages (from jsonschema>=4.20.0->mcp<2.0.0,>=1.8.0->strands-agents->-r requirements.txt (line 2)) (2025.4.1)\n",
      "Requirement already satisfied: referencing>=0.28.4 in /usr/local/python/3.11.13/lib/python3.11/site-packages (from jsonschema>=4.20.0->mcp<2.0.0,>=1.8.0->strands-agents->-r requirements.txt (line 2)) (0.36.2)\n",
      "Requirement already satisfied: rpds-py>=0.7.1 in /usr/local/python/3.11.13/lib/python3.11/site-packages (from jsonschema>=4.20.0->mcp<2.0.0,>=1.8.0->strands-agents->-r requirements.txt (line 2)) (0.26.0)\n",
      "Requirement already satisfied: mdurl~=0.1 in /usr/local/python/3.11.13/lib/python3.11/site-packages (from markdown-it-py>=2.2.0->rich<15.0.0,>=14.0.0->strands-agents-tools->-r requirements.txt (line 3)) (0.1.2)\n",
      "Requirement already satisfied: python-dotenv>=0.21.0 in /usr/local/python/3.11.13/lib/python3.11/site-packages (from pydantic-settings>=2.5.2->mcp<2.0.0,>=1.8.0->strands-agents->-r requirements.txt (line 2)) (1.1.1)\n",
      "Requirement already satisfied: charset_normalizer<4,>=2 in /usr/local/python/3.11.13/lib/python3.11/site-packages (from requests>=0.14.0->aws-requests-auth<0.5.0,>=0.4.3->strands-agents-tools->-r requirements.txt (line 3)) (3.4.2)\n",
      "Requirement already satisfied: click>=7.0 in /usr/local/python/3.11.13/lib/python3.11/site-packages (from uvicorn>=0.23.1->mcp<2.0.0,>=1.8.0->strands-agents->-r requirements.txt (line 2)) (8.2.1)\n",
      "Requirement already satisfied: webencodings in /usr/local/python/3.11.13/lib/python3.11/site-packages (from html5lib->readabilipy<1.0.0,>=0.2.0->strands-agents-tools->-r requirements.txt (line 3)) (0.5.1)\n",
      "\u001b[33mWARNING: Running pip as the 'root' user can result in broken permissions and conflicting behaviour with the system package manager, possibly rendering your system unusable. It is recommended to use a virtual environment instead: https://pip.pypa.io/warnings/venv. Use the --root-user-action option if you know what you are doing and want to suppress this warning.\u001b[0m\u001b[33m\n",
      "\u001b[0m"
     ]
    }
   ],
   "source": [
    "!pip install -U -r requirements.txt"
   ]
  },
  {
   "cell_type": "markdown",
   "metadata": {},
   "source": [
    "### Importing dependency packages\n",
    "\n",
    "Now let's import the dependency packages"
   ]
  },
  {
   "cell_type": "code",
   "execution_count": 2,
   "metadata": {},
   "outputs": [],
   "source": [
    "import json\n",
    "import boto3\n",
    "import os\n",
    "from strands import Agent, tool\n",
    "from strands.models import BedrockModel\n",
    "from customer_profile_tools import get_customer_profile, list_customer_purchases, list_customer_tickets, update_customer_profile\n",
    "from customer_profiles import CustomerProfileManager, generate_synthetic_profiles"
   ]
  },
  {
   "cell_type": "markdown",
   "metadata": {},
   "source": [
    "### Generating data\n",
    "\n",
    "Let's generate some synthetic data for this example. In reality, your agent would connect to an existing customer database, but we will use a JSON file for this example"
   ]
  },
  {
   "cell_type": "code",
   "execution_count": 3,
   "metadata": {},
   "outputs": [
    {
     "name": "stdout",
     "output_type": "stream",
     "text": [
      "Using existing customer profiles\n",
      "Loaded 10 customer profiles\n",
      "\n",
      "Sample Profile: Customer 1\n",
      "Email: customer1@example.com\n",
      "Customer ID: CUST100\n",
      "Location: California, USA\n",
      "Purchases: 1\n",
      "Support Tickets: 0\n"
     ]
    }
   ],
   "source": [
    " # Generate synthetic profiles if needed\n",
    "profile_manager = CustomerProfileManager()\n",
    "if not os.path.exists(\"customer_profiles.json\"):\n",
    "    print(\"Generating synthetic customer profiles\")\n",
    "    profiles = generate_synthetic_profiles(10)\n",
    "    print(f\"Generated {len(profiles)} synthetic customer profiles\")\n",
    "else:\n",
    "    print(\"Using existing customer profiles\")\n",
    "    profiles = list(profile_manager.profiles.values())\n",
    "    print(f\"Loaded {len(profiles)} customer profiles\")\n",
    "\n",
    "# Display sample profile for reference\n",
    "if profiles:\n",
    "    sample_profile = profiles[0]\n",
    "    print(f\"\\nSample Profile: {sample_profile.name}\")\n",
    "    print(f\"Email: {sample_profile.email}\")\n",
    "    print(f\"Customer ID: {sample_profile.customer_id}\")\n",
    "    print(f\"Location: {sample_profile.state}, {sample_profile.country}\")\n",
    "    print(f\"Purchases: {len(sample_profile.purchase_history)}\")\n",
    "    print(f\"Support Tickets: {len(sample_profile.support_tickets)}\")"
   ]
  },
  {
   "cell_type": "markdown",
   "metadata": {},
   "source": [
    "## Creating an Amazon Bedrock Guardrail\n",
    "\n",
    "Let's now create an Amazon Bedrock Guardrail to prevent providing financial advice and filter for common challenges in a customer facing application. \n",
    "\n",
    "To create the guardrail, first we need to configure the Amazon Bedrock client:"
   ]
  },
  {
   "cell_type": "code",
   "execution_count": 4,
   "metadata": {},
   "outputs": [],
   "source": [
    "# Configure AWS clients\n",
    "bedrock_client = boto3.client('bedrock')\n",
    "bedrock_runtime = boto3.client('bedrock-runtime')"
   ]
  },
  {
   "cell_type": "markdown",
   "metadata": {},
   "source": [
    "You can now use the `create_guardrail` method to create the `no-investment-advice` guardrail that will be used in our application. In this example, our guardrail will include a topic deny for `Fiduciary Advice` that will block our agent to provide any fiduciary advice. The guardrail will also contain some basic content policy to filter innapropriated content and a word policy configuration to detect specific pre-defined words."
   ]
  },
  {
   "cell_type": "code",
   "execution_count": 5,
   "metadata": {},
   "outputs": [
    {
     "name": "stdout",
     "output_type": "stream",
     "text": [
      "Guardrail ID: 5j100ehs1yd4\n",
      "Guardrail ARN: arn:aws:bedrock:us-west-2:210283880577:guardrail/5j100ehs1yd4\n"
     ]
    }
   ],
   "source": [
    "# Create a Bedrock guardrail\n",
    "response = bedrock_client.create_guardrail(\n",
    "    name='no-investment-advice',\n",
    "    description='Prevents the model from providing fiduciary advice.',\n",
    "    topicPolicyConfig={\n",
    "        'topicsConfig': [\n",
    "            {\n",
    "                'name': 'Fiduciary Advice',\n",
    "                'definition': 'Providing personalized advice or recommendations on managing financial assets, investments, or trusts in a fiduciary capacity or assuming related obligations and liabilities.',\n",
    "                'examples': [\n",
    "                    'What stocks should I invest in for my retirement?',\n",
    "                    'Is it a good idea to put my money in a mutual fund?',\n",
    "                    'How should I allocate my 401(k) investments?',\n",
    "                    'What type of trust fund should I set up for my children?',\n",
    "                    'Should I hire a financial advisor to manage my investments?'\n",
    "                ],\n",
    "                'type': 'DENY'\n",
    "            }\n",
    "        ]\n",
    "    },\n",
    "    contentPolicyConfig={\n",
    "        'filtersConfig': [\n",
    "            {\n",
    "                'type': 'SEXUAL',\n",
    "                'inputStrength': 'HIGH',\n",
    "                'outputStrength': 'HIGH'\n",
    "            },\n",
    "            {\n",
    "                'type': 'VIOLENCE',\n",
    "                'inputStrength': 'HIGH',\n",
    "                'outputStrength': 'HIGH'\n",
    "            },\n",
    "            {\n",
    "                'type': 'HATE',\n",
    "                'inputStrength': 'HIGH',\n",
    "                'outputStrength': 'HIGH'\n",
    "            },\n",
    "            {\n",
    "                'type': 'INSULTS',\n",
    "                'inputStrength': 'HIGH',\n",
    "                'outputStrength': 'HIGH'\n",
    "            },\n",
    "            {\n",
    "                'type': 'MISCONDUCT',\n",
    "                'inputStrength': 'HIGH',\n",
    "                'outputStrength': 'HIGH'\n",
    "            },\n",
    "            {\n",
    "                'type': 'PROMPT_ATTACK',\n",
    "                'inputStrength': 'HIGH',\n",
    "                'outputStrength': 'NONE'\n",
    "            }\n",
    "        ]\n",
    "    },\n",
    "    wordPolicyConfig={\n",
    "        'wordsConfig': [\n",
    "            {'text': 'fiduciary advice'},\n",
    "            {'text': 'investment recommendations'},\n",
    "            {'text': 'stock picks'},\n",
    "            {'text': 'financial planning guidance'},\n",
    "            {'text': 'portfolio allocation advice'},\n",
    "            {'text': 'retirement fund suggestions'},\n",
    "            {'text': 'wealth management tips'},\n",
    "            {'text': 'trust fund setup'},\n",
    "            {'text': 'investment strategy'},\n",
    "            {'text': 'financial advisor recommendations'}\n",
    "        ],\n",
    "        'managedWordListsConfig': [\n",
    "            {\n",
    "                'type': 'PROFANITY'\n",
    "            }\n",
    "        ]\n",
    "    },\n",
    "    blockedInputMessaging='I apologize, but I am not able to provide fiduciary advice. For your privacy and security, please modify your input and try again without including any financial, or restricted details.',\n",
    "    blockedOutputsMessaging='I apologize, but I am not able to provide fiduciary advice. For your privacy and security, please modify your input and try again without including financial, or restricted details.',\n",
    ")\n",
    "\n",
    "# Print the response to get the guardrail ID\n",
    "print(\"Guardrail ID:\", response.get('guardrailId'))\n",
    "print(\"Guardrail ARN:\", response.get('guardrailArn'))\n",
    "\n",
    "# Store the guardrail ID for later use\n"
   ]
  },
  {
   "cell_type": "code",
   "execution_count": 6,
   "metadata": {},
   "outputs": [],
   "source": [
    "guardrail_id = response.get('guardrailId')\n",
    "guardrail_version = \"DRAFT\"  # Initial version is always 1"
   ]
  },
  {
   "cell_type": "markdown",
   "metadata": {},
   "source": [
    "### Testing the guardrail directly\n",
    "\n",
    "To verify that the guardrail works as expected, we will create the `test_guardrail` support function. this function will use the `apply_guardrail` method to safeguard the input text and provide information about any actions taken by the guardrail "
   ]
  },
  {
   "cell_type": "code",
   "execution_count": 7,
   "metadata": {},
   "outputs": [
    {
     "name": "stdout",
     "output_type": "stream",
     "text": [
      "Testing safe input:\n",
      "Action: NONE\n",
      "Action Reason: No action.\n",
      "Content INPUT blocked: False\n",
      "\n",
      "Testing input that should be blocked:\n",
      "Action: GUARDRAIL_INTERVENED\n",
      "Action Reason: Guardrail blocked.\n",
      "Content INPUT blocked: True\n",
      "Blocked topics: ['Fiduciary Advice']\n",
      "Modified content: I apologize, but I am not able to provide fiduciary advice. For your privacy and security, please modify your input and try again without including any financial, or restricted details.\n"
     ]
    },
    {
     "data": {
      "text/plain": [
       "{'ResponseMetadata': {'RequestId': '27df76cd-7d64-4c95-8051-971c60e1851f',\n",
       "  'HTTPStatusCode': 200,\n",
       "  'HTTPHeaders': {'date': 'Wed, 16 Jul 2025 02:30:47 GMT',\n",
       "   'content-type': 'application/json',\n",
       "   'content-length': '1425',\n",
       "   'connection': 'keep-alive',\n",
       "   'x-amzn-requestid': '27df76cd-7d64-4c95-8051-971c60e1851f'},\n",
       "  'RetryAttempts': 0},\n",
       " 'usage': {'topicPolicyUnits': 1,\n",
       "  'contentPolicyUnits': 1,\n",
       "  'wordPolicyUnits': 1,\n",
       "  'sensitiveInformationPolicyUnits': 0,\n",
       "  'sensitiveInformationPolicyFreeUnits': 0,\n",
       "  'contextualGroundingPolicyUnits': 0,\n",
       "  'contentPolicyImageUnits': 0},\n",
       " 'action': 'GUARDRAIL_INTERVENED',\n",
       " 'actionReason': 'Guardrail blocked.',\n",
       " 'outputs': [{'text': 'I apologize, but I am not able to provide fiduciary advice. For your privacy and security, please modify your input and try again without including any financial, or restricted details.'}],\n",
       " 'assessments': [{'topicPolicy': {'topics': [{'name': 'Fiduciary Advice',\n",
       "      'type': 'DENY',\n",
       "      'action': 'BLOCKED',\n",
       "      'detected': True}]},\n",
       "   'invocationMetrics': {'guardrailProcessingLatency': 269,\n",
       "    'usage': {'topicPolicyUnits': 1,\n",
       "     'contentPolicyUnits': 1,\n",
       "     'wordPolicyUnits': 1,\n",
       "     'sensitiveInformationPolicyUnits': 0,\n",
       "     'sensitiveInformationPolicyFreeUnits': 0,\n",
       "     'contextualGroundingPolicyUnits': 0,\n",
       "     'contentPolicyImageUnits': 0},\n",
       "    'guardrailCoverage': {'textCharacters': {'guarded': 49, 'total': 49}}}}],\n",
       " 'guardrailCoverage': {'textCharacters': {'guarded': 49, 'total': 49}}}"
      ]
     },
     "execution_count": 7,
     "metadata": {},
     "output_type": "execute_result"
    }
   ],
   "source": [
    "# Test function to check if input/output is blocked by guardrail\n",
    "def test_guardrail(text, source_type='INPUT'):\n",
    "      response = bedrock_runtime.apply_guardrail(\n",
    "          guardrailIdentifier=guardrail_id,\n",
    "          guardrailVersion=guardrail_version,\n",
    "          source=source_type,  # can be 'INPUT' or 'OUTPUT'\n",
    "          content=[{\"text\": {\"text\": text}}]\n",
    "      )\n",
    "\n",
    "      # New response format uses different fields\n",
    "      print(f\"Action: {response.get('action')}\")\n",
    "      print(f\"Action Reason: {response.get('actionReason', 'None')}\")\n",
    "\n",
    "      # Check if content was blocked\n",
    "      is_blocked = response.get('action') == 'GUARDRAIL_INTERVENED'\n",
    "      print(f\"Content {source_type} blocked: {is_blocked}\")\n",
    "\n",
    "      if is_blocked:\n",
    "          # Print topic policies that were triggered\n",
    "          assessments = response.get('assessments', [])\n",
    "          if assessments and 'topicPolicy' in assessments[0]:\n",
    "              print(\"Blocked topics:\", [topic.get('name') for topic in\n",
    "  assessments[0]['topicPolicy'].get('topics', [])\n",
    "                                       if topic.get('action') == 'BLOCKED'])\n",
    "\n",
    "          # Print the modified output if available\n",
    "          if 'outputs' in response and response['outputs']:\n",
    "              print(\"Modified content:\", response['outputs'][0].get('text', 'None'))\n",
    "\n",
    "      return response\n",
    "\n",
    "# Test some safe input\n",
    "print(\"Testing safe input:\")\n",
    "test_guardrail(\"Tell me about general financial literacy concepts.\")\n",
    "\n",
    "# Test input that should be blocked\n",
    "print(\"\\nTesting input that should be blocked:\")\n",
    "test_guardrail(\"What stocks should I invest in for my retirement?\")"
   ]
  },
  {
   "cell_type": "markdown",
   "metadata": {},
   "source": [
    "## Integrating with Strands Agent\n",
    "\n",
    "Now that we confirmed the guardrail is working as expected, let's integrate it the Amazon Bedrock Guardrail with a Strands Agent. This is done via the Bedrock Model object, by setting the `guardrail_id`, `guardrail_version` and `guardrail_trace`. Once the model object is created you can use it to create your agent. We will use a couple of custom tools in this agent: `get_customer_profile`, `list_customer_purchases`, `list_customer_tickets`, `update_customer_profile`. To see their implementation check the `customer_profile_tools.py` file"
   ]
  },
  {
   "cell_type": "code",
   "execution_count": 8,
   "metadata": {},
   "outputs": [
    {
     "data": {
      "text/plain": [
       "('5j100ehs1yd4', 'DRAFT')"
      ]
     },
     "execution_count": 8,
     "metadata": {},
     "output_type": "execute_result"
    }
   ],
   "source": [
    "guardrail_id, guardrail_version"
   ]
  },
  {
   "cell_type": "code",
   "execution_count": 9,
   "metadata": {},
   "outputs": [],
   "source": [
    "# Create a Bedrock model with guardrail configuration\n",
    "bedrock_model = BedrockModel(\n",
    "    model_id=\"us.anthropic.claude-3-7-sonnet-20250219-v1:0\",\n",
    "    guardrail_id=guardrail_id,\n",
    "    guardrail_version=guardrail_version,\n",
    "    # Enable trace info for debugging\n",
    "    guardrail_trace=\"enabled\"\n",
    ")\n",
    "\n",
    "# Create agent with the guardrail-protected model\n",
    "agent = Agent(\n",
    "    system_prompt=\"You are a helpful assistant that provides customer support for retail products.\",\n",
    "    model=bedrock_model,\n",
    "    tools=[\n",
    "        get_customer_profile,\n",
    "        list_customer_purchases,\n",
    "        list_customer_tickets,\n",
    "        update_customer_profile\n",
    "    ]\n",
    ")"
   ]
  },
  {
   "cell_type": "markdown",
   "metadata": {},
   "source": [
    "### Testing the Strands Agent with Guardrails\n",
    "\n",
    "Let's test our agent with both safe and risky inputs. To do so we will process the agent's response and check if the `stop_reason` is due to a guardrail intervention."
   ]
  },
  {
   "cell_type": "code",
   "execution_count": 10,
   "metadata": {},
   "outputs": [],
   "source": [
    "# Helper function to test the agent and check for guardrail interventions\n",
    "def test_agent_with_guardrail(prompt):\n",
    "    print(f\"\\nUser: {prompt}\")\n",
    "\n",
    "    # Get agent response\n",
    "    response = agent(prompt)\n",
    "\n",
    "    # Check for guardrail intervention\n",
    "    if hasattr(response, 'stop_reason') and response.stop_reason == \"guardrail_intervened\":\n",
    "        print(\"\\n ⚠️ GUARDRAIL INTERVENED!\")\n",
    "        #print(f\"Response: {response}\")\n",
    "    else:\n",
    "        return response"
   ]
  },
  {
   "cell_type": "code",
   "execution_count": 17,
   "metadata": {},
   "outputs": [
    {
     "name": "stdout",
     "output_type": "stream",
     "text": [
      "\n",
      "User:  what is my latest purchase my customer ID CUST100?\n",
      "I'll help you find your latest purchase for customer ID CUST100. Let me check that information for you.\n",
      "Tool #4: list_customer_purchases\n",
      "According to our records, your latest purchase for customer ID CUST100 is:\n",
      "\n",
      "- Purchase ID: PUR1000\n",
      "- Product: SolarPanel Pro (solar panel)\n",
      "- Price: $1,200\n",
      "- Quantity: 1\n",
      "- Purchase Date: January 1, 2025\n",
      "\n",
      "This is the only purchase currently recorded in your account history. Is there anything specific about this purchase you'd like to know more about?"
     ]
    },
    {
     "data": {
      "text/plain": [
       "AgentResult(stop_reason='end_turn', message={'role': 'assistant', 'content': [{'text': \"According to our records, your latest purchase for customer ID CUST100 is:\\n\\n- Purchase ID: PUR1000\\n- Product: SolarPanel Pro (solar panel)\\n- Price: $1,200\\n- Quantity: 1\\n- Purchase Date: January 1, 2025\\n\\nThis is the only purchase currently recorded in your account history. Is there anything specific about this purchase you'd like to know more about?\"}]}, metrics=EventLoopMetrics(cycle_count=7, tool_metrics={'get_customer_profile': ToolMetrics(tool={'toolUseId': 'tooluse_VojvGjXzQveMPuSgHsdfxg', 'name': 'get_customer_profile', 'input': {'customer_id': 'CUST100'}}, call_count=1, success_count=1, error_count=0, total_time=0.0007979869842529297), 'list_customer_purchases': ToolMetrics(tool={'toolUseId': 'tooluse_Rx3_X0sASyOKxC8NXKapVQ', 'name': 'list_customer_purchases', 'input': {'customer_id': 'CUST100'}}, call_count=2, success_count=2, error_count=0, total_time=0.0018770694732666016), 'list_customer_tickets': ToolMetrics(tool={'toolUseId': 'tooluse_dJgly4LPThmscwdU7zSltg', 'name': 'list_customer_tickets', 'input': {'customer_id': 'CUST100'}}, call_count=1, success_count=1, error_count=0, total_time=0.0004782676696777344)}, cycle_durations=[5.5081493854522705, 1.1070375442504883, 3.4367949962615967], traces=[<strands.telemetry.metrics.Trace object at 0xffff876382d0>, <strands.telemetry.metrics.Trace object at 0xffff876234d0>, <strands.telemetry.metrics.Trace object at 0xffff854dba90>, <strands.telemetry.metrics.Trace object at 0xffff87617f50>, <strands.telemetry.metrics.Trace object at 0xffff854f9710>, <strands.telemetry.metrics.Trace object at 0xffff854fcc10>, <strands.telemetry.metrics.Trace object at 0xffff87f25150>], accumulated_usage={'inputTokens': 8821, 'outputTokens': 609, 'totalTokens': 9430}, accumulated_metrics={'latencyMs': 17537}), state={})"
      ]
     },
     "execution_count": 17,
     "metadata": {},
     "output_type": "execute_result"
    }
   ],
   "source": [
    "# Test with a safe question \n",
    "test_agent_with_guardrail(\n",
    "    \" what is my latest purchase my customer ID CUST100?\"\n",
    ")"
   ]
  },
  {
   "cell_type": "code",
   "execution_count": 18,
   "metadata": {},
   "outputs": [
    {
     "name": "stdout",
     "output_type": "stream",
     "text": [
      "\n",
      "User: My SSN is 123-45-6789. Can you help me understand how to protect my retirement account?\n",
      "I apologize, but I am not able to provide fiduciary advice. For your privacy and security, please modify your input and try again without including any financial, or restricted details.\n",
      " ⚠️ GUARDRAIL INTERVENED!\n"
     ]
    }
   ],
   "source": [
    "# Test with a question that asks about investment recommendation, or hate or violence\n",
    "test_agent_with_guardrail(\n",
    "    \"My SSN is 123-45-6789. Can you help me understand how to protect my retirement account?\"\n",
    ")"
   ]
  },
  {
   "cell_type": "markdown",
   "metadata": {},
   "source": [
    "## Inspecting Conversation History\n",
    "\n",
    "Let's examine the conversation history to see how guardrails affected it:"
   ]
  },
  {
   "cell_type": "code",
   "execution_count": 19,
   "metadata": {},
   "outputs": [
    {
     "name": "stdout",
     "output_type": "stream",
     "text": [
      "Conversation history: [\n",
      "    {\n",
      "        \"role\": \"user\",\n",
      "        \"content\": [\n",
      "            {\n",
      "                \"text\": \"what is the data from customer_id CUST100?\"\n",
      "            }\n",
      "        ]\n",
      "    },\n",
      "    {\n",
      "        \"role\": \"assistant\",\n",
      "        \"content\": [\n",
      "            {\n",
      "                \"text\": \"I'll help you look up the data for customer ID CUST100. Let me retrieve that information for you.\"\n",
      "            },\n",
      "            {\n",
      "                \"toolUse\": {\n",
      "                    \"toolUseId\": \"tooluse_VojvGjXzQveMPuSgHsdfxg\",\n",
      "                    \"name\": \"get_customer_profile\",\n",
      "                    \"input\": {\n",
      "                        \"customer_id\": \"CUST100\"\n",
      "                    }\n",
      "                }\n",
      "            }\n",
      "        ]\n",
      "    },\n",
      "    {\n",
      "        \"role\": \"user\",\n",
      "        \"content\": [\n",
      "            {\n",
      "                \"toolResult\": {\n",
      "                    \"toolUseId\": \"tooluse_VojvGjXzQveMPuSgHsdfxg\",\n",
      "                    \"status\": \"success\",\n",
      "                    \"content\": [\n",
      "                        {\n",
      "                            \"text\": \"{'customer_id': 'CUST100', 'name': 'Customer 1', 'email': 'customer1@example.com', 'country': 'USA', 'state': 'California', 'purchase_history': [{'purchase_id': 'PUR1000', 'product_name': 'SolarPanel Pro', 'product_type': 'panel', 'price': 1200, 'quantity': 1, 'purchase_date': '2025-01-01T02:18:33.887351'}], 'support_tickets': [], 'preferences': {'contact_preference': 'email', 'newsletter': True, 'maintenance_reminder': True}, 'created_at': '2025-07-16T02:18:33.887393', 'updated_at': '2025-07-16T02:18:33.887396'}\"\n",
      "                        }\n",
      "                    ]\n",
      "                }\n",
      "            }\n",
      "        ]\n",
      "    },\n",
      "    {\n",
      "        \"role\": \"assistant\",\n",
      "        \"content\": [\n",
      "            {\n",
      "                \"text\": \"Let me also check if there are any additional purchase records or support tickets for this customer:\"\n",
      "            },\n",
      "            {\n",
      "                \"toolUse\": {\n",
      "                    \"toolUseId\": \"tooluse__sQBGlvyTD-VERcXToQ6eg\",\n",
      "                    \"name\": \"list_customer_purchases\",\n",
      "                    \"input\": {\n",
      "                        \"customer_id\": \"CUST100\"\n",
      "                    }\n",
      "                }\n",
      "            }\n",
      "        ]\n",
      "    },\n",
      "    {\n",
      "        \"role\": \"user\",\n",
      "        \"content\": [\n",
      "            {\n",
      "                \"toolResult\": {\n",
      "                    \"toolUseId\": \"tooluse__sQBGlvyTD-VERcXToQ6eg\",\n",
      "                    \"status\": \"success\",\n",
      "                    \"content\": [\n",
      "                        {\n",
      "                            \"text\": \"[{'purchase_id': 'PUR1000', 'product_name': 'SolarPanel Pro', 'product_type': 'panel', 'price': 1200, 'quantity': 1, 'purchase_date': '2025-01-01T02:18:33.887351'}]\"\n",
      "                        }\n",
      "                    ]\n",
      "                }\n",
      "            }\n",
      "        ]\n",
      "    },\n",
      "    {\n",
      "        \"role\": \"assistant\",\n",
      "        \"content\": [\n",
      "            {\n",
      "                \"toolUse\": {\n",
      "                    \"toolUseId\": \"tooluse_dJgly4LPThmscwdU7zSltg\",\n",
      "                    \"name\": \"list_customer_tickets\",\n",
      "                    \"input\": {\n",
      "                        \"customer_id\": \"CUST100\"\n",
      "                    }\n",
      "                }\n",
      "            }\n",
      "        ]\n",
      "    },\n",
      "    {\n",
      "        \"role\": \"user\",\n",
      "        \"content\": [\n",
      "            {\n",
      "                \"toolResult\": {\n",
      "                    \"toolUseId\": \"tooluse_dJgly4LPThmscwdU7zSltg\",\n",
      "                    \"status\": \"success\",\n",
      "                    \"content\": [\n",
      "                        {\n",
      "                            \"text\": \"[]\"\n",
      "                        }\n",
      "                    ]\n",
      "                }\n",
      "            }\n",
      "        ]\n",
      "    },\n",
      "    {\n",
      "        \"role\": \"assistant\",\n",
      "        \"content\": [\n",
      "            {\n",
      "                \"text\": \"Here's the data for customer ID CUST100:\\n\\n### Customer Profile\\n- Customer ID: CUST100\\n- Name: Customer 1\\n- Email: customer1@example.com\\n- Location: California, USA\\n- Account Created: July 16, 2025\\n- Last Updated: July 16, 2025\\n- Preferences:\\n  - Contact Preference: Email\\n  - Newsletter Subscription: Yes\\n  - Maintenance Reminder: Yes\\n\\n### Purchase History\\n- 1 purchase found:\\n  - Purchase ID: PUR1000\\n  - Product: SolarPanel Pro (panel)\\n  - Price: $1,200\\n  - Quantity: 1\\n  - Date: January 1, 2025\\n\\n### Support Tickets\\n- No support tickets on record\\n\\nIs there any specific information about this customer that you'd like me to elaborate on?\"\n",
      "            }\n",
      "        ]\n",
      "    },\n",
      "    {\n",
      "        \"role\": \"user\",\n",
      "        \"content\": [\n",
      "            {\n",
      "                \"text\": \"Guardrail Intervened and Redacted\"\n",
      "            }\n",
      "        ]\n",
      "    },\n",
      "    {\n",
      "        \"role\": \"assistant\",\n",
      "        \"content\": [\n",
      "            {\n",
      "                \"text\": \"[Assistant output redacted.]\"\n",
      "            }\n",
      "        ]\n",
      "    },\n",
      "    {\n",
      "        \"role\": \"user\",\n",
      "        \"content\": [\n",
      "            {\n",
      "                \"text\": \" what is my latest purchase my customer ID CUST100?\"\n",
      "            }\n",
      "        ]\n",
      "    },\n",
      "    {\n",
      "        \"role\": \"assistant\",\n",
      "        \"content\": [\n",
      "            {\n",
      "                \"text\": \"I'll help you find your latest purchase for customer ID CUST100. Let me check that information for you.\"\n",
      "            },\n",
      "            {\n",
      "                \"toolUse\": {\n",
      "                    \"toolUseId\": \"tooluse_Rx3_X0sASyOKxC8NXKapVQ\",\n",
      "                    \"name\": \"list_customer_purchases\",\n",
      "                    \"input\": {\n",
      "                        \"customer_id\": \"CUST100\"\n",
      "                    }\n",
      "                }\n",
      "            }\n",
      "        ]\n",
      "    },\n",
      "    {\n",
      "        \"role\": \"user\",\n",
      "        \"content\": [\n",
      "            {\n",
      "                \"toolResult\": {\n",
      "                    \"toolUseId\": \"tooluse_Rx3_X0sASyOKxC8NXKapVQ\",\n",
      "                    \"status\": \"success\",\n",
      "                    \"content\": [\n",
      "                        {\n",
      "                            \"text\": \"[{'purchase_id': 'PUR1000', 'product_name': 'SolarPanel Pro', 'product_type': 'panel', 'price': 1200, 'quantity': 1, 'purchase_date': '2025-01-01T02:18:33.887351'}]\"\n",
      "                        }\n",
      "                    ]\n",
      "                }\n",
      "            }\n",
      "        ]\n",
      "    },\n",
      "    {\n",
      "        \"role\": \"assistant\",\n",
      "        \"content\": [\n",
      "            {\n",
      "                \"text\": \"According to our records, your latest purchase for customer ID CUST100 is:\\n\\n- Purchase ID: PUR1000\\n- Product: SolarPanel Pro (solar panel)\\n- Price: $1,200\\n- Quantity: 1\\n- Purchase Date: January 1, 2025\\n\\nThis is the only purchase currently recorded in your account history. Is there anything specific about this purchase you'd like to know more about?\"\n",
      "            }\n",
      "        ]\n",
      "    },\n",
      "    {\n",
      "        \"role\": \"user\",\n",
      "        \"content\": [\n",
      "            {\n",
      "                \"text\": \"Guardrail Intervened and Redacted\"\n",
      "            }\n",
      "        ]\n",
      "    },\n",
      "    {\n",
      "        \"role\": \"assistant\",\n",
      "        \"content\": [\n",
      "            {\n",
      "                \"text\": \"[Assistant output redacted.]\"\n",
      "            }\n",
      "        ]\n",
      "    }\n",
      "]\n"
     ]
    }
   ],
   "source": [
    "# Print the conversation history\n",
    "print(f\"Conversation history: {json.dumps(agent.messages, indent=4)}\")"
   ]
  },
  {
   "cell_type": "markdown",
   "metadata": {},
   "source": [
    "## Integrating Bedrock guardrails to a chatbot \n",
    "\n",
    "Amazon Bedrock provides a built-in guardrails framework that integrates directly with Strands Agents SDK. If a guardrail is triggered, the Strands Agents SDK will automatically overwrite the users input in conversation history. This is done so that follow-up questions are not also blocked by the same questions. This can be configured with the guardrail_redact_input boolean, and the guardrail_redact_input_message string to chage the overwrite message. Additionally, the same functionality is built for the model's output, but this is disabled by default. You can enable this with the guardrail_redact_output boolean, and change the overwrite message with the guardrail_redact_output_message string. Below is an example of how to leverage Bedrock guardrails in your code:"
   ]
  },
  {
   "cell_type": "code",
   "execution_count": 20,
   "metadata": {},
   "outputs": [],
   "source": [
    "bedrock_model = BedrockModel(\n",
    "    model_id=\"us.anthropic.claude-3-7-sonnet-20250219-v1:0\",\n",
    "    guardrail_id=guardrail_id,         # Your Bedrock guardrail ID\n",
    "    guardrail_version=guardrail_version,             # Guardrail version\n",
    "    guardrail_trace=\"enabled\",\n",
    "    guardrail_redact_output = True,        \n",
    "    guardrail_redact_input = True  ,\n",
    "    guardrail_redact_input_message = \"Guardrail Intervened and Redacted\"     \n",
    ")\n",
    "\n",
    "# Create agent with the guardrail-protected model\n",
    "agent = Agent(\n",
    "    system_prompt=\"You are a helpful assistant that provides customer support for retail products.\",\n",
    "    model=bedrock_model,\n",
    "    tools=[\n",
    "        get_customer_profile,\n",
    "        list_customer_purchases,\n",
    "        list_customer_tickets,\n",
    "        update_customer_profile\n",
    "    ]\n",
    ")"
   ]
  },
  {
   "cell_type": "code",
   "execution_count": 21,
   "metadata": {},
   "outputs": [
    {
     "name": "stdout",
     "output_type": "stream",
     "text": [
      "I can look up information for customer ID CUST100 for you. Let me retrieve that customer's profile information.\n",
      "Tool #1: get_customer_profile\n",
      "Let me also check if there are any purchase records and support tickets for this customer:\n",
      "Tool #2: list_customer_purchases\n",
      "\n",
      "Tool #3: list_customer_tickets\n",
      "Here's the data for customer ID CUST100:\n",
      "\n",
      "### Customer Profile:\n",
      "- Name: Customer 1\n",
      "- Email: customer1@example.com\n",
      "- Location: California, USA\n",
      "- Created: July 16, 2025\n",
      "- Contact Preference: Email\n",
      "- Newsletter Subscription: Yes\n",
      "- Maintenance Reminder: Yes\n",
      "\n",
      "### Purchase History:\n",
      "- Purchase ID: PUR1000\n",
      "- Product: SolarPanel Pro (panel)\n",
      "- Price: $1,200\n",
      "- Quantity: 1\n",
      "- Purchase Date: January 1, 2025\n",
      "\n",
      "### Support Tickets:\n",
      "- No support tickets on file\n",
      "\n",
      "Is there any specific information about this customer that you'd like to know more about?"
     ]
    },
    {
     "data": {
      "text/plain": [
       "AgentResult(stop_reason='end_turn', message={'role': 'assistant', 'content': [{'text': \"Here's the data for customer ID CUST100:\\n\\n### Customer Profile:\\n- Name: Customer 1\\n- Email: customer1@example.com\\n- Location: California, USA\\n- Created: July 16, 2025\\n- Contact Preference: Email\\n- Newsletter Subscription: Yes\\n- Maintenance Reminder: Yes\\n\\n### Purchase History:\\n- Purchase ID: PUR1000\\n- Product: SolarPanel Pro (panel)\\n- Price: $1,200\\n- Quantity: 1\\n- Purchase Date: January 1, 2025\\n\\n### Support Tickets:\\n- No support tickets on file\\n\\nIs there any specific information about this customer that you'd like to know more about?\"}]}, metrics=EventLoopMetrics(cycle_count=4, tool_metrics={'get_customer_profile': ToolMetrics(tool={'toolUseId': 'tooluse_KQsJt7h1RTas1wgcwI0zPw', 'name': 'get_customer_profile', 'input': {'customer_id': 'CUST100'}}, call_count=1, success_count=1, error_count=0, total_time=0.0007865428924560547), 'list_customer_purchases': ToolMetrics(tool={'toolUseId': 'tooluse_qZUfp3hkS6iXMvBwZjahiw', 'name': 'list_customer_purchases', 'input': {'customer_id': 'CUST100'}}, call_count=1, success_count=1, error_count=0, total_time=0.00044989585876464844), 'list_customer_tickets': ToolMetrics(tool={'toolUseId': 'tooluse_4-tNextRQR-wnsVqOCqqtQ', 'name': 'list_customer_tickets', 'input': {'customer_id': 'CUST100'}}, call_count=1, success_count=1, error_count=0, total_time=0.0003390312194824219)}, cycle_durations=[5.219807147979736], traces=[<strands.telemetry.metrics.Trace object at 0xffff854b7dd0>, <strands.telemetry.metrics.Trace object at 0xffff84cb5650>, <strands.telemetry.metrics.Trace object at 0xffff84cdead0>, <strands.telemetry.metrics.Trace object at 0xffff84ce4710>], accumulated_usage={'inputTokens': 5164, 'outputTokens': 387, 'totalTokens': 5551}, accumulated_metrics={'latencyMs': 11471}), state={})"
      ]
     },
     "execution_count": 21,
     "metadata": {},
     "output_type": "execute_result"
    }
   ],
   "source": [
    "# Test a safe question for the customer support Agent\n",
    "agent(f\"what is the data from customer_id {sample_profile.customer_id}?\")"
   ]
  },
  {
   "cell_type": "code",
   "execution_count": 15,
   "metadata": {},
   "outputs": [
    {
     "name": "stdout",
     "output_type": "stream",
     "text": [
      "I apologize, but I am not able to provide fiduciary advice. For your privacy and security, please modify your input and try again without including any financial, or restricted details."
     ]
    },
    {
     "data": {
      "text/plain": [
       "AgentResult(stop_reason='guardrail_intervened', message={'role': 'assistant', 'content': [{'text': '[Assistant output redacted.]'}]}, metrics=EventLoopMetrics(cycle_count=5, tool_metrics={'get_customer_profile': ToolMetrics(tool={'toolUseId': 'tooluse_VojvGjXzQveMPuSgHsdfxg', 'name': 'get_customer_profile', 'input': {'customer_id': 'CUST100'}}, call_count=1, success_count=1, error_count=0, total_time=0.0007979869842529297), 'list_customer_purchases': ToolMetrics(tool={'toolUseId': 'tooluse__sQBGlvyTD-VERcXToQ6eg', 'name': 'list_customer_purchases', 'input': {'customer_id': 'CUST100'}}, call_count=1, success_count=1, error_count=0, total_time=0.0007119178771972656), 'list_customer_tickets': ToolMetrics(tool={'toolUseId': 'tooluse_dJgly4LPThmscwdU7zSltg', 'name': 'list_customer_tickets', 'input': {'customer_id': 'CUST100'}}, call_count=1, success_count=1, error_count=0, total_time=0.0004782676696777344)}, cycle_durations=[5.5081493854522705, 1.1070375442504883], traces=[<strands.telemetry.metrics.Trace object at 0xffff876382d0>, <strands.telemetry.metrics.Trace object at 0xffff876234d0>, <strands.telemetry.metrics.Trace object at 0xffff854dba90>, <strands.telemetry.metrics.Trace object at 0xffff87617f50>, <strands.telemetry.metrics.Trace object at 0xffff854f9710>], accumulated_usage={'inputTokens': 5163, 'outputTokens': 426, 'totalTokens': 5589}, accumulated_metrics={'latencyMs': 12064}), state={})"
      ]
     },
     "execution_count": 15,
     "metadata": {},
     "output_type": "execute_result"
    }
   ],
   "source": [
    "# Test with user input in which guadrail is intervened and input is redacted with custom message \n",
    "agent(\"How should I allocate my 401(k) investments?\")"
   ]
  },
  {
   "cell_type": "markdown",
   "metadata": {},
   "source": [
    "The custom message for the redacted input is stored in the conversation history like this :"
   ]
  },
  {
   "cell_type": "code",
   "execution_count": 22,
   "metadata": {},
   "outputs": [
    {
     "name": "stdout",
     "output_type": "stream",
     "text": [
      "Conversation history: [\n",
      "    {\n",
      "        \"role\": \"user\",\n",
      "        \"content\": [\n",
      "            {\n",
      "                \"text\": \"what is the data from customer_id CUST100?\"\n",
      "            }\n",
      "        ]\n",
      "    },\n",
      "    {\n",
      "        \"role\": \"assistant\",\n",
      "        \"content\": [\n",
      "            {\n",
      "                \"text\": \"I can look up information for customer ID CUST100 for you. Let me retrieve that customer's profile information.\"\n",
      "            },\n",
      "            {\n",
      "                \"toolUse\": {\n",
      "                    \"toolUseId\": \"tooluse_KQsJt7h1RTas1wgcwI0zPw\",\n",
      "                    \"name\": \"get_customer_profile\",\n",
      "                    \"input\": {\n",
      "                        \"customer_id\": \"CUST100\"\n",
      "                    }\n",
      "                }\n",
      "            }\n",
      "        ]\n",
      "    },\n",
      "    {\n",
      "        \"role\": \"user\",\n",
      "        \"content\": [\n",
      "            {\n",
      "                \"toolResult\": {\n",
      "                    \"toolUseId\": \"tooluse_KQsJt7h1RTas1wgcwI0zPw\",\n",
      "                    \"status\": \"success\",\n",
      "                    \"content\": [\n",
      "                        {\n",
      "                            \"text\": \"{'customer_id': 'CUST100', 'name': 'Customer 1', 'email': 'customer1@example.com', 'country': 'USA', 'state': 'California', 'purchase_history': [{'purchase_id': 'PUR1000', 'product_name': 'SolarPanel Pro', 'product_type': 'panel', 'price': 1200, 'quantity': 1, 'purchase_date': '2025-01-01T02:18:33.887351'}], 'support_tickets': [], 'preferences': {'contact_preference': 'email', 'newsletter': True, 'maintenance_reminder': True}, 'created_at': '2025-07-16T02:18:33.887393', 'updated_at': '2025-07-16T02:18:33.887396'}\"\n",
      "                        }\n",
      "                    ]\n",
      "                }\n",
      "            }\n",
      "        ]\n",
      "    },\n",
      "    {\n",
      "        \"role\": \"assistant\",\n",
      "        \"content\": [\n",
      "            {\n",
      "                \"text\": \"Let me also check if there are any purchase records and support tickets for this customer:\"\n",
      "            },\n",
      "            {\n",
      "                \"toolUse\": {\n",
      "                    \"toolUseId\": \"tooluse_qZUfp3hkS6iXMvBwZjahiw\",\n",
      "                    \"name\": \"list_customer_purchases\",\n",
      "                    \"input\": {\n",
      "                        \"customer_id\": \"CUST100\"\n",
      "                    }\n",
      "                }\n",
      "            }\n",
      "        ]\n",
      "    },\n",
      "    {\n",
      "        \"role\": \"user\",\n",
      "        \"content\": [\n",
      "            {\n",
      "                \"toolResult\": {\n",
      "                    \"toolUseId\": \"tooluse_qZUfp3hkS6iXMvBwZjahiw\",\n",
      "                    \"status\": \"success\",\n",
      "                    \"content\": [\n",
      "                        {\n",
      "                            \"text\": \"[{'purchase_id': 'PUR1000', 'product_name': 'SolarPanel Pro', 'product_type': 'panel', 'price': 1200, 'quantity': 1, 'purchase_date': '2025-01-01T02:18:33.887351'}]\"\n",
      "                        }\n",
      "                    ]\n",
      "                }\n",
      "            }\n",
      "        ]\n",
      "    },\n",
      "    {\n",
      "        \"role\": \"assistant\",\n",
      "        \"content\": [\n",
      "            {\n",
      "                \"toolUse\": {\n",
      "                    \"toolUseId\": \"tooluse_4-tNextRQR-wnsVqOCqqtQ\",\n",
      "                    \"name\": \"list_customer_tickets\",\n",
      "                    \"input\": {\n",
      "                        \"customer_id\": \"CUST100\"\n",
      "                    }\n",
      "                }\n",
      "            }\n",
      "        ]\n",
      "    },\n",
      "    {\n",
      "        \"role\": \"user\",\n",
      "        \"content\": [\n",
      "            {\n",
      "                \"toolResult\": {\n",
      "                    \"toolUseId\": \"tooluse_4-tNextRQR-wnsVqOCqqtQ\",\n",
      "                    \"status\": \"success\",\n",
      "                    \"content\": [\n",
      "                        {\n",
      "                            \"text\": \"[]\"\n",
      "                        }\n",
      "                    ]\n",
      "                }\n",
      "            }\n",
      "        ]\n",
      "    },\n",
      "    {\n",
      "        \"role\": \"assistant\",\n",
      "        \"content\": [\n",
      "            {\n",
      "                \"text\": \"Here's the data for customer ID CUST100:\\n\\n### Customer Profile:\\n- Name: Customer 1\\n- Email: customer1@example.com\\n- Location: California, USA\\n- Created: July 16, 2025\\n- Contact Preference: Email\\n- Newsletter Subscription: Yes\\n- Maintenance Reminder: Yes\\n\\n### Purchase History:\\n- Purchase ID: PUR1000\\n- Product: SolarPanel Pro (panel)\\n- Price: $1,200\\n- Quantity: 1\\n- Purchase Date: January 1, 2025\\n\\n### Support Tickets:\\n- No support tickets on file\\n\\nIs there any specific information about this customer that you'd like to know more about?\"\n",
      "            }\n",
      "        ]\n",
      "    }\n",
      "]\n"
     ]
    }
   ],
   "source": [
    "print(f\"Conversation history: {json.dumps(agent.messages, indent=4)}\")"
   ]
  },
  {
   "cell_type": "markdown",
   "metadata": {},
   "source": [
    "## Clean up \n",
    "\n",
    "Please delete the guardrail as follows :"
   ]
  },
  {
   "cell_type": "code",
   "execution_count": 23,
   "metadata": {},
   "outputs": [
    {
     "data": {
      "text/plain": [
       "{'ResponseMetadata': {'RequestId': '37589df7-1689-41d1-a973-e7d52b114594',\n",
       "  'HTTPStatusCode': 202,\n",
       "  'HTTPHeaders': {'date': 'Wed, 16 Jul 2025 02:36:48 GMT',\n",
       "   'content-type': 'application/json',\n",
       "   'content-length': '2',\n",
       "   'connection': 'keep-alive',\n",
       "   'x-amzn-requestid': '37589df7-1689-41d1-a973-e7d52b114594'},\n",
       "  'RetryAttempts': 0}}"
      ]
     },
     "execution_count": 23,
     "metadata": {},
     "output_type": "execute_result"
    }
   ],
   "source": [
    "bedrock_client.delete_guardrail(guardrailIdentifier=guardrail_id)"
   ]
  },
  {
   "cell_type": "markdown",
   "metadata": {},
   "source": [
    "## Congratulations!\n",
    "\n",
    "In this notebook, we demonstrated how to:\n",
    "\n",
    "1. Create an Amazon Bedrock guardrail that prevents providing financial advice\n",
    "2. Test the guardrail directly using the Bedrock Runtime API\n",
    "3. Integrate the guardrail with a Strands agent\n",
    "4. Test the agent with various inputs to see the guardrail in action\n",
    "5. Integrate bedrock guardrails in a chatbot with Strands agent.\n",
    "5. Delete the Guardrail\n",
    "\n",
    "Guardrails help in keeping AI responses remain safe, compliant, and appropriate for your use case.\n"
   ]
  }
 ],
 "metadata": {
  "kernelspec": {
   "display_name": "Python 3 (ipykernel)",
   "language": "python",
   "name": "python3"
  },
  "language_info": {
   "codemirror_mode": {
    "name": "ipython",
    "version": 3
   },
   "file_extension": ".py",
   "mimetype": "text/x-python",
   "name": "python",
   "nbconvert_exporter": "python",
   "pygments_lexer": "ipython3",
   "version": "3.11.13"
  }
 },
 "nbformat": 4,
 "nbformat_minor": 4
}
