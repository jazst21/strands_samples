{
 "cells": [
  {
   "cell_type": "markdown",
   "metadata": {
    "pycharm": {
     "name": "#%% md\n"
    }
   },
   "source": [
    "# Agents as Tools with Strands Agents\n"
   ]
  },
  {
   "cell_type": "markdown",
   "metadata": {
    "pycharm": {
     "name": "#%%\n"
    }
   },
   "source": [
    "\"Agents as Tools\" is an architectural pattern in AI systems where specialized AI agents are wrapped as callable functions (tools) that can be used by other agents. This creates a hierarchical structure where:\n",
    "\n",
    "1. A primary \"orchestrator\" agent handles user interaction and determines which specialized agent to call\n",
    "\n",
    "2. Specialized \"tool agents\" perform domain-specific tasks when called by the orchestrator\n",
    "\n",
    "This approach mimics human team dynamics, where a manager coordinates specialists, each bringing unique expertise to solve complex problems. Rather than a single agent trying to handle everything, tasks are delegated to the most appropriate specialized agent.\n",
    "\n"
   ]
  },
  {
   "cell_type": "markdown",
   "metadata": {
    "vscode": {
     "languageId": "plaintext"
    }
   },
   "source": [
    "## Key Benefits and Core Principles"
   ]
  },
  {
   "cell_type": "markdown",
   "metadata": {
    "vscode": {
     "languageId": "plaintext"
    }
   },
   "source": [
    "The \"Agents as Tools\" pattern offers several advantages:\n",
    "\n",
    "- Separation of concerns: Each agent has a focused area of responsibility, making the system easier to understand and maintain\n",
    "- Hierarchical delegation: The orchestrator decides which specialist to invoke, creating a clear chain of command\n",
    "- Modular architecture: Specialists can be added, removed, or modified independently without affecting the entire system\n",
    "- Improved performance: Each agent can have tailored system prompts and tools optimized for its specific task\n"
   ]
  },
  {
   "cell_type": "code",
   "execution_count": 1,
   "metadata": {},
   "outputs": [
    {
     "name": "stdout",
     "output_type": "stream",
     "text": [
      "Requirement already satisfied: strands-agents in /usr/local/python/3.11.13/lib/python3.11/site-packages (from -r requirements.txt (line 1)) (1.0.0)\n",
      "Requirement already satisfied: strands-agents-tools in /usr/local/python/3.11.13/lib/python3.11/site-packages (from -r requirements.txt (line 2)) (0.2.0)\n",
      "Requirement already satisfied: boto3<2.0.0,>=1.26.0 in /usr/local/python/3.11.13/lib/python3.11/site-packages (from strands-agents->-r requirements.txt (line 1)) (1.39.6)\n",
      "Requirement already satisfied: botocore<2.0.0,>=1.29.0 in /usr/local/python/3.11.13/lib/python3.11/site-packages (from strands-agents->-r requirements.txt (line 1)) (1.39.6)\n",
      "Requirement already satisfied: docstring-parser<1.0,>=0.15 in /usr/local/python/3.11.13/lib/python3.11/site-packages (from strands-agents->-r requirements.txt (line 1)) (0.16)\n",
      "Requirement already satisfied: mcp<2.0.0,>=1.8.0 in /usr/local/python/3.11.13/lib/python3.11/site-packages (from strands-agents->-r requirements.txt (line 1)) (1.11.0)\n",
      "Requirement already satisfied: opentelemetry-api<2.0.0,>=1.30.0 in /usr/local/python/3.11.13/lib/python3.11/site-packages (from strands-agents->-r requirements.txt (line 1)) (1.35.0)\n",
      "Requirement already satisfied: opentelemetry-instrumentation-threading<1.00b0,>=0.51b0 in /usr/local/python/3.11.13/lib/python3.11/site-packages (from strands-agents->-r requirements.txt (line 1)) (0.56b0)\n",
      "Requirement already satisfied: opentelemetry-sdk<2.0.0,>=1.30.0 in /usr/local/python/3.11.13/lib/python3.11/site-packages (from strands-agents->-r requirements.txt (line 1)) (1.35.0)\n",
      "Requirement already satisfied: pydantic<3.0.0,>=2.0.0 in /usr/local/python/3.11.13/lib/python3.11/site-packages (from strands-agents->-r requirements.txt (line 1)) (2.11.7)\n",
      "Requirement already satisfied: typing-extensions<5.0.0,>=4.13.2 in /usr/local/python/3.11.13/lib/python3.11/site-packages (from strands-agents->-r requirements.txt (line 1)) (4.14.1)\n",
      "Requirement already satisfied: watchdog<7.0.0,>=6.0.0 in /usr/local/python/3.11.13/lib/python3.11/site-packages (from strands-agents->-r requirements.txt (line 1)) (6.0.0)\n",
      "Requirement already satisfied: jmespath<2.0.0,>=0.7.1 in /usr/local/python/3.11.13/lib/python3.11/site-packages (from boto3<2.0.0,>=1.26.0->strands-agents->-r requirements.txt (line 1)) (1.0.1)\n",
      "Requirement already satisfied: s3transfer<0.14.0,>=0.13.0 in /usr/local/python/3.11.13/lib/python3.11/site-packages (from boto3<2.0.0,>=1.26.0->strands-agents->-r requirements.txt (line 1)) (0.13.0)\n",
      "Requirement already satisfied: python-dateutil<3.0.0,>=2.1 in /usr/local/python/3.11.13/lib/python3.11/site-packages (from botocore<2.0.0,>=1.29.0->strands-agents->-r requirements.txt (line 1)) (2.9.0.post0)\n",
      "Requirement already satisfied: urllib3!=2.2.0,<3,>=1.25.4 in /usr/local/python/3.11.13/lib/python3.11/site-packages (from botocore<2.0.0,>=1.29.0->strands-agents->-r requirements.txt (line 1)) (2.5.0)\n",
      "Requirement already satisfied: anyio>=4.5 in /usr/local/python/3.11.13/lib/python3.11/site-packages (from mcp<2.0.0,>=1.8.0->strands-agents->-r requirements.txt (line 1)) (4.9.0)\n",
      "Requirement already satisfied: httpx-sse>=0.4 in /usr/local/python/3.11.13/lib/python3.11/site-packages (from mcp<2.0.0,>=1.8.0->strands-agents->-r requirements.txt (line 1)) (0.4.1)\n",
      "Requirement already satisfied: httpx>=0.27 in /usr/local/python/3.11.13/lib/python3.11/site-packages (from mcp<2.0.0,>=1.8.0->strands-agents->-r requirements.txt (line 1)) (0.28.1)\n",
      "Requirement already satisfied: jsonschema>=4.20.0 in /usr/local/python/3.11.13/lib/python3.11/site-packages (from mcp<2.0.0,>=1.8.0->strands-agents->-r requirements.txt (line 1)) (4.24.0)\n",
      "Requirement already satisfied: pydantic-settings>=2.5.2 in /usr/local/python/3.11.13/lib/python3.11/site-packages (from mcp<2.0.0,>=1.8.0->strands-agents->-r requirements.txt (line 1)) (2.10.1)\n",
      "Requirement already satisfied: python-multipart>=0.0.9 in /usr/local/python/3.11.13/lib/python3.11/site-packages (from mcp<2.0.0,>=1.8.0->strands-agents->-r requirements.txt (line 1)) (0.0.20)\n",
      "Requirement already satisfied: sse-starlette>=1.6.1 in /usr/local/python/3.11.13/lib/python3.11/site-packages (from mcp<2.0.0,>=1.8.0->strands-agents->-r requirements.txt (line 1)) (2.4.1)\n",
      "Requirement already satisfied: starlette>=0.27 in /usr/local/python/3.11.13/lib/python3.11/site-packages (from mcp<2.0.0,>=1.8.0->strands-agents->-r requirements.txt (line 1)) (0.47.1)\n",
      "Requirement already satisfied: uvicorn>=0.23.1 in /usr/local/python/3.11.13/lib/python3.11/site-packages (from mcp<2.0.0,>=1.8.0->strands-agents->-r requirements.txt (line 1)) (0.35.0)\n",
      "Requirement already satisfied: importlib-metadata<8.8.0,>=6.0 in /usr/local/python/3.11.13/lib/python3.11/site-packages (from opentelemetry-api<2.0.0,>=1.30.0->strands-agents->-r requirements.txt (line 1)) (8.7.0)\n",
      "Requirement already satisfied: zipp>=3.20 in /usr/local/python/3.11.13/lib/python3.11/site-packages (from importlib-metadata<8.8.0,>=6.0->opentelemetry-api<2.0.0,>=1.30.0->strands-agents->-r requirements.txt (line 1)) (3.23.0)\n",
      "Requirement already satisfied: opentelemetry-instrumentation==0.56b0 in /usr/local/python/3.11.13/lib/python3.11/site-packages (from opentelemetry-instrumentation-threading<1.00b0,>=0.51b0->strands-agents->-r requirements.txt (line 1)) (0.56b0)\n",
      "Requirement already satisfied: wrapt<2.0.0,>=1.0.0 in /usr/local/python/3.11.13/lib/python3.11/site-packages (from opentelemetry-instrumentation-threading<1.00b0,>=0.51b0->strands-agents->-r requirements.txt (line 1)) (1.17.2)\n",
      "Requirement already satisfied: opentelemetry-semantic-conventions==0.56b0 in /usr/local/python/3.11.13/lib/python3.11/site-packages (from opentelemetry-instrumentation==0.56b0->opentelemetry-instrumentation-threading<1.00b0,>=0.51b0->strands-agents->-r requirements.txt (line 1)) (0.56b0)\n",
      "Requirement already satisfied: packaging>=18.0 in /usr/local/python/3.11.13/lib/python3.11/site-packages (from opentelemetry-instrumentation==0.56b0->opentelemetry-instrumentation-threading<1.00b0,>=0.51b0->strands-agents->-r requirements.txt (line 1)) (24.2)\n",
      "Requirement already satisfied: annotated-types>=0.6.0 in /usr/local/python/3.11.13/lib/python3.11/site-packages (from pydantic<3.0.0,>=2.0.0->strands-agents->-r requirements.txt (line 1)) (0.7.0)\n",
      "Requirement already satisfied: pydantic-core==2.33.2 in /usr/local/python/3.11.13/lib/python3.11/site-packages (from pydantic<3.0.0,>=2.0.0->strands-agents->-r requirements.txt (line 1)) (2.33.2)\n",
      "Requirement already satisfied: typing-inspection>=0.4.0 in /usr/local/python/3.11.13/lib/python3.11/site-packages (from pydantic<3.0.0,>=2.0.0->strands-agents->-r requirements.txt (line 1)) (0.4.1)\n",
      "Requirement already satisfied: six>=1.5 in /usr/local/python/3.11.13/lib/python3.11/site-packages (from python-dateutil<3.0.0,>=2.1->botocore<2.0.0,>=1.29.0->strands-agents->-r requirements.txt (line 1)) (1.17.0)\n",
      "Requirement already satisfied: aws-requests-auth<0.5.0,>=0.4.3 in /usr/local/python/3.11.13/lib/python3.11/site-packages (from strands-agents-tools->-r requirements.txt (line 2)) (0.4.3)\n",
      "Requirement already satisfied: dill<0.5.0,>=0.4.0 in /usr/local/python/3.11.13/lib/python3.11/site-packages (from strands-agents-tools->-r requirements.txt (line 2)) (0.4.0)\n",
      "Requirement already satisfied: markdownify<2.0.0,>=1.0.0 in /usr/local/python/3.11.13/lib/python3.11/site-packages (from strands-agents-tools->-r requirements.txt (line 2)) (1.1.0)\n",
      "Requirement already satisfied: pillow<12.0.0,>=11.2.1 in /usr/local/python/3.11.13/lib/python3.11/site-packages (from strands-agents-tools->-r requirements.txt (line 2)) (11.3.0)\n",
      "Requirement already satisfied: prompt-toolkit<4.0.0,>=3.0.51 in /usr/local/python/3.11.13/lib/python3.11/site-packages (from strands-agents-tools->-r requirements.txt (line 2)) (3.0.51)\n",
      "Requirement already satisfied: pyjwt<3.0.0,>=2.10.1 in /usr/local/python/3.11.13/lib/python3.11/site-packages (from strands-agents-tools->-r requirements.txt (line 2)) (2.10.1)\n",
      "Requirement already satisfied: readabilipy<1.0.0,>=0.2.0 in /usr/local/python/3.11.13/lib/python3.11/site-packages (from strands-agents-tools->-r requirements.txt (line 2)) (0.3.0)\n",
      "Requirement already satisfied: rich<15.0.0,>=14.0.0 in /usr/local/python/3.11.13/lib/python3.11/site-packages (from strands-agents-tools->-r requirements.txt (line 2)) (14.0.0)\n",
      "Requirement already satisfied: slack-bolt<2.0.0,>=1.23.0 in /usr/local/python/3.11.13/lib/python3.11/site-packages (from strands-agents-tools->-r requirements.txt (line 2)) (1.23.0)\n",
      "Requirement already satisfied: sympy<2.0.0,>=1.12.0 in /usr/local/python/3.11.13/lib/python3.11/site-packages (from strands-agents-tools->-r requirements.txt (line 2)) (1.14.0)\n",
      "Requirement already satisfied: tenacity<10.0.0,>=9.1.2 in /usr/local/python/3.11.13/lib/python3.11/site-packages (from strands-agents-tools->-r requirements.txt (line 2)) (9.1.2)\n",
      "Requirement already satisfied: requests>=0.14.0 in /usr/local/python/3.11.13/lib/python3.11/site-packages (from aws-requests-auth<0.5.0,>=0.4.3->strands-agents-tools->-r requirements.txt (line 2)) (2.32.4)\n",
      "Requirement already satisfied: beautifulsoup4<5,>=4.9 in /usr/local/python/3.11.13/lib/python3.11/site-packages (from markdownify<2.0.0,>=1.0.0->strands-agents-tools->-r requirements.txt (line 2)) (4.13.4)\n",
      "Requirement already satisfied: soupsieve>1.2 in /usr/local/python/3.11.13/lib/python3.11/site-packages (from beautifulsoup4<5,>=4.9->markdownify<2.0.0,>=1.0.0->strands-agents-tools->-r requirements.txt (line 2)) (2.7)\n",
      "Requirement already satisfied: wcwidth in /usr/local/python/3.11.13/lib/python3.11/site-packages (from prompt-toolkit<4.0.0,>=3.0.51->strands-agents-tools->-r requirements.txt (line 2)) (0.2.13)\n",
      "Requirement already satisfied: html5lib in /usr/local/python/3.11.13/lib/python3.11/site-packages (from readabilipy<1.0.0,>=0.2.0->strands-agents-tools->-r requirements.txt (line 2)) (1.1)\n",
      "Requirement already satisfied: lxml in /usr/local/python/3.11.13/lib/python3.11/site-packages (from readabilipy<1.0.0,>=0.2.0->strands-agents-tools->-r requirements.txt (line 2)) (6.0.0)\n",
      "Requirement already satisfied: regex in /usr/local/python/3.11.13/lib/python3.11/site-packages (from readabilipy<1.0.0,>=0.2.0->strands-agents-tools->-r requirements.txt (line 2)) (2024.11.6)\n",
      "Requirement already satisfied: markdown-it-py>=2.2.0 in /usr/local/python/3.11.13/lib/python3.11/site-packages (from rich<15.0.0,>=14.0.0->strands-agents-tools->-r requirements.txt (line 2)) (3.0.0)\n",
      "Requirement already satisfied: pygments<3.0.0,>=2.13.0 in /usr/local/python/3.11.13/lib/python3.11/site-packages (from rich<15.0.0,>=14.0.0->strands-agents-tools->-r requirements.txt (line 2)) (2.19.2)\n",
      "Requirement already satisfied: slack_sdk<4,>=3.35.0 in /usr/local/python/3.11.13/lib/python3.11/site-packages (from slack-bolt<2.0.0,>=1.23.0->strands-agents-tools->-r requirements.txt (line 2)) (3.36.0)\n",
      "Requirement already satisfied: mpmath<1.4,>=1.1.0 in /usr/local/python/3.11.13/lib/python3.11/site-packages (from sympy<2.0.0,>=1.12.0->strands-agents-tools->-r requirements.txt (line 2)) (1.3.0)\n",
      "Requirement already satisfied: idna>=2.8 in /usr/local/python/3.11.13/lib/python3.11/site-packages (from anyio>=4.5->mcp<2.0.0,>=1.8.0->strands-agents->-r requirements.txt (line 1)) (3.10)\n",
      "Requirement already satisfied: sniffio>=1.1 in /usr/local/python/3.11.13/lib/python3.11/site-packages (from anyio>=4.5->mcp<2.0.0,>=1.8.0->strands-agents->-r requirements.txt (line 1)) (1.3.1)\n",
      "Requirement already satisfied: certifi in /usr/local/python/3.11.13/lib/python3.11/site-packages (from httpx>=0.27->mcp<2.0.0,>=1.8.0->strands-agents->-r requirements.txt (line 1)) (2025.7.14)\n",
      "Requirement already satisfied: httpcore==1.* in /usr/local/python/3.11.13/lib/python3.11/site-packages (from httpx>=0.27->mcp<2.0.0,>=1.8.0->strands-agents->-r requirements.txt (line 1)) (1.0.9)\n",
      "Requirement already satisfied: h11>=0.16 in /usr/local/python/3.11.13/lib/python3.11/site-packages (from httpcore==1.*->httpx>=0.27->mcp<2.0.0,>=1.8.0->strands-agents->-r requirements.txt (line 1)) (0.16.0)\n",
      "Requirement already satisfied: attrs>=22.2.0 in /usr/local/python/3.11.13/lib/python3.11/site-packages (from jsonschema>=4.20.0->mcp<2.0.0,>=1.8.0->strands-agents->-r requirements.txt (line 1)) (25.3.0)\n",
      "Requirement already satisfied: jsonschema-specifications>=2023.03.6 in /usr/local/python/3.11.13/lib/python3.11/site-packages (from jsonschema>=4.20.0->mcp<2.0.0,>=1.8.0->strands-agents->-r requirements.txt (line 1)) (2025.4.1)\n",
      "Requirement already satisfied: referencing>=0.28.4 in /usr/local/python/3.11.13/lib/python3.11/site-packages (from jsonschema>=4.20.0->mcp<2.0.0,>=1.8.0->strands-agents->-r requirements.txt (line 1)) (0.36.2)\n",
      "Requirement already satisfied: rpds-py>=0.7.1 in /usr/local/python/3.11.13/lib/python3.11/site-packages (from jsonschema>=4.20.0->mcp<2.0.0,>=1.8.0->strands-agents->-r requirements.txt (line 1)) (0.26.0)\n",
      "Requirement already satisfied: mdurl~=0.1 in /usr/local/python/3.11.13/lib/python3.11/site-packages (from markdown-it-py>=2.2.0->rich<15.0.0,>=14.0.0->strands-agents-tools->-r requirements.txt (line 2)) (0.1.2)\n",
      "Requirement already satisfied: python-dotenv>=0.21.0 in /usr/local/python/3.11.13/lib/python3.11/site-packages (from pydantic-settings>=2.5.2->mcp<2.0.0,>=1.8.0->strands-agents->-r requirements.txt (line 1)) (1.1.1)\n",
      "Requirement already satisfied: charset_normalizer<4,>=2 in /usr/local/python/3.11.13/lib/python3.11/site-packages (from requests>=0.14.0->aws-requests-auth<0.5.0,>=0.4.3->strands-agents-tools->-r requirements.txt (line 2)) (3.4.2)\n",
      "Requirement already satisfied: click>=7.0 in /usr/local/python/3.11.13/lib/python3.11/site-packages (from uvicorn>=0.23.1->mcp<2.0.0,>=1.8.0->strands-agents->-r requirements.txt (line 1)) (8.2.1)\n",
      "Requirement already satisfied: webencodings in /usr/local/python/3.11.13/lib/python3.11/site-packages (from html5lib->readabilipy<1.0.0,>=0.2.0->strands-agents-tools->-r requirements.txt (line 2)) (0.5.1)\n",
      "\u001b[33mWARNING: Running pip as the 'root' user can result in broken permissions and conflicting behaviour with the system package manager, possibly rendering your system unusable. It is recommended to use a virtual environment instead: https://pip.pypa.io/warnings/venv. Use the --root-user-action option if you know what you are doing and want to suppress this warning.\u001b[0m\u001b[33m\n",
      "\u001b[0m"
     ]
    }
   ],
   "source": [
    "!pip install -r requirements.txt"
   ]
  },
  {
   "cell_type": "code",
   "execution_count": 2,
   "metadata": {},
   "outputs": [],
   "source": [
    "import os\n",
    "\n",
    "from strands import Agent, tool\n",
    "from strands_tools import file_write"
   ]
  },
  {
   "cell_type": "markdown",
   "metadata": {},
   "source": [
    "In this module we will be creating an orchestrator based multi-agent workflow. \n",
    "\n",
    "<div style=\"text-align:left\">\n",
    "    <img src=\"images/architecture.png\" width=\"75%\" />\n",
    "</div>\n",
    "\n",
    "We will also explore `use_llm` which allows use to create nested agents."
   ]
  },
  {
   "cell_type": "markdown",
   "metadata": {},
   "source": [
    "## Research Agent"
   ]
  },
  {
   "cell_type": "markdown",
   "metadata": {},
   "source": [
    "Lets first create a basic reasearch assistant with http_request tool. "
   ]
  },
  {
   "cell_type": "code",
   "execution_count": 3,
   "metadata": {},
   "outputs": [],
   "source": [
    "RESEARCH_ASSISTANT_PROMPT = \"\"\"You are a specialized research assistant. Focus only on providing\n",
    "factual, well-sourced information in response to research questions.\n",
    "Always cite your sources when possible.\"\"\""
   ]
  },
  {
   "cell_type": "code",
   "execution_count": 4,
   "metadata": {},
   "outputs": [
    {
     "name": "stdout",
     "output_type": "stream",
     "text": [
      "# Amazon Bedrock Overview\n",
      "\n",
      "Amazon Bedrock is a fully managed service launched by AWS in September 2023 that provides access to foundation models (FMs) from leading AI companies through a single API.\n",
      "\n",
      "## Core Features\n",
      "\n",
      "### **Foundation Model Access**\n",
      "- **Multiple Providers**: Access to models from Anthropic (Claude), AI21 Labs (Jurassic), Cohere (Command/Embed), Meta (Llama 2), Stability AI (Stable Diffusion), and Amazon's own Titan models\n",
      "- **Model Variety**: Supports text generation, chat, text summarization, image generation, and embeddings\n",
      "- **Unified API**: Single interface to interact with different foundation models without managing separate integrations\n",
      "\n",
      "### **Customization Capabilities**\n",
      "- **Fine-tuning**: Customize models with your own training data while keeping data private\n",
      "- **Retrieval Augmented Generation (RAG)**: Connect models to your data sources for more accurate, contextual responses\n",
      "- **Prompt Engineering**: Built-in tools for optimizing prompts and model responses\n",
      "\n",
      "### **Enterprise-Grade Security & Privacy**\n",
      "- **Data Privacy**: Training data and prompts are not used to improve base models\n",
      "- **Encryption**: Data encrypted in transit and at rest\n",
      "- **VPC Support**: Deploy within your Virtual Private Cloud\n",
      "- **IAM Integration**: Fine-grained access controls using AWS Identity and Access Management\n",
      "\n",
      "### **Serverless Architecture**\n",
      "- **No Infrastructure Management**: Fully managed service with automatic scaling\n",
      "- **Pay-per-Use**: Pricing based on input/output tokens processed\n",
      "- **High Availability**: Built on AWS's reliable infrastructure\n",
      "\n",
      "### **Integration & Development Tools**\n",
      "- **AWS SDK Support**: Available across multiple programming languages\n",
      "- **Amazon Bedrock Studio**: Web-based interface for experimentation and prototyping\n",
      "- **Model Evaluation**: Built-in tools for comparing model performance\n",
      "- **Guardrails**: Content filtering and safety controls\n",
      "\n",
      "## Use Cases\n",
      "- Conversational AI and chatbots\n",
      "- Content generation and summarization\n",
      "- Code generation and analysis\n",
      "- Document processing and analysis\n",
      "- Creative applications (image generation, creative writing)\n",
      "\n",
      "## Availability\n",
      "Amazon Bedrock is available in multiple AWS regions with expanding global coverage since its general availability launch in September 2023.\n",
      "\n",
      "---\n",
      "*Sources: AWS official documentation, AWS re:Invent 2023 announcements, and AWS Bedrock service pages*"
     ]
    }
   ],
   "source": [
    "research_agent = Agent(\n",
    "    system_prompt=RESEARCH_ASSISTANT_PROMPT,\n",
    "    # tools=[http_request]  # Here you can enable an agentic ai search tool\n",
    ")\n",
    "\n",
    "query = \"Overview of Amazon Bedrock and its features\"\n",
    "# Call the agent and return its response\n",
    "response = research_agent(query)"
   ]
  },
  {
   "cell_type": "markdown",
   "metadata": {},
   "source": [
    "Now we can wrap this agent as a tool. Allowing other agents to interact with it. \n",
    "\n",
    "####  Best Practices for Agent as Tools\n",
    "\n",
    "When implementing the \"Agents as Tools\" pattern with Strandly AI:\n",
    "\n",
    "1. Clear tool documentation: Write descriptive docstrings that explain the agent's expertise\n",
    "2. Focused system prompts: Keep each specialized agent tightly focused on its domain\n",
    "3. Proper response handling: Use consistent patterns to extract and format responses\n",
    "4. Tool selection guidance: Give the orchestrator clear criteria for when to use each specialized agen"
   ]
  },
  {
   "cell_type": "code",
   "execution_count": 5,
   "metadata": {},
   "outputs": [],
   "source": [
    "@tool\n",
    "def research_assistant(query: str) -> str:\n",
    "    \"\"\"\n",
    "    Process and respond to research-related queries.\n",
    "\n",
    "    Args:\n",
    "        query: A research question requiring factual information\n",
    "\n",
    "    Returns:\n",
    "        A detailed research answer with citations\n",
    "    \"\"\"\n",
    "    try:\n",
    "        # Strands agents makes it easy to create a specialized agent\n",
    "        research_agent = Agent(\n",
    "            system_prompt=RESEARCH_ASSISTANT_PROMPT,\n",
    "        )\n",
    "\n",
    "        # Call the agent and return its response\n",
    "        response = research_agent(query)\n",
    "        return str(response)\n",
    "    except Exception as e:\n",
    "        return f\"Error in research assistant: {str(e)}\""
   ]
  },
  {
   "cell_type": "markdown",
   "metadata": {},
   "source": [
    "Now lets follow the best practices and create `product_recommendation_assistant`, `trip_planning_assistant`, and `orchestrator` agent."
   ]
  },
  {
   "cell_type": "markdown",
   "metadata": {},
   "source": [
    "### Product Recommendation Assistant"
   ]
  },
  {
   "cell_type": "code",
   "execution_count": 6,
   "metadata": {},
   "outputs": [],
   "source": [
    "@tool\n",
    "def product_recommendation_assistant(query: str) -> str:\n",
    "    \"\"\"\n",
    "    Handle product recommendation queries by suggesting appropriate products.\n",
    "\n",
    "    Args:\n",
    "        query: A product inquiry with user preferences\n",
    "\n",
    "    Returns:\n",
    "        Personalized product recommendations with reasoning\n",
    "    \"\"\"\n",
    "    try:\n",
    "        product_agent = Agent(\n",
    "            system_prompt=\"\"\"You are a specialized product recommendation assistant.\n",
    "            Provide personalized product suggestions based on user preferences. Always cite your sources.\"\"\",\n",
    "        )\n",
    "        # Call the agent and return its response\n",
    "        response = product_agent(query)\n",
    "\n",
    "        return str(response)\n",
    "    except Exception as e:\n",
    "        return f\"Error in product recommendation: {str(e)}\""
   ]
  },
  {
   "cell_type": "code",
   "execution_count": 7,
   "metadata": {},
   "outputs": [
    {
     "name": "stdout",
     "output_type": "stream",
     "text": [
      "I should clarify that commercially available flying cars for consumers don't currently exist in the traditional sense. However, I can share information about emerging products and concepts in this space:\n",
      "\n",
      "## Current Development Stage Products:\n",
      "\n",
      "**1. eVTOL Aircraft (Electric Vertical Takeoff and Landing)**\n",
      "- **Joby Aviation S4**: In development for air taxi services\n",
      "- **Lilium Jet**: 5-seater electric aircraft for regional travel\n",
      "- **EHang EH216-S**: Autonomous aerial vehicle for short trips\n",
      "\n",
      "**2. Roadable Aircraft (Street-Legal Flying Vehicles)**\n",
      "- **Terrafugia Transition**: FAA-approved light sport aircraft that can drive on roads\n",
      "- **PAL-V Liberty**: Dutch-made gyrocopter/car hybrid (limited production)\n",
      "- **AeroMobil**: Slovakian flying car in development\n",
      "\n",
      "## Important Considerations:\n",
      "- These vehicles require pilot licenses and are subject to aviation regulations\n",
      "- Prices typically range from $300,000 to $2+ million\n",
      "- Most are still in testing/pre-production phases\n",
      "- Infrastructure for widespread use doesn't yet exist\n",
      "\n",
      "**Sources:** Federal Aviation Administration (FAA) documentation, company press releases from Joby Aviation, Terrafugia, and PAL-V.\n",
      "\n",
      "Would you like me to focus on a specific type of aerial vehicle or discuss the timeline for when these might become more widely available?"
     ]
    },
    {
     "data": {
      "text/plain": [
       "\"I should clarify that commercially available flying cars for consumers don't currently exist in the traditional sense. However, I can share information about emerging products and concepts in this space:\\n\\n## Current Development Stage Products:\\n\\n**1. eVTOL Aircraft (Electric Vertical Takeoff and Landing)**\\n- **Joby Aviation S4**: In development for air taxi services\\n- **Lilium Jet**: 5-seater electric aircraft for regional travel\\n- **EHang EH216-S**: Autonomous aerial vehicle for short trips\\n\\n**2. Roadable Aircraft (Street-Legal Flying Vehicles)**\\n- **Terrafugia Transition**: FAA-approved light sport aircraft that can drive on roads\\n- **PAL-V Liberty**: Dutch-made gyrocopter/car hybrid (limited production)\\n- **AeroMobil**: Slovakian flying car in development\\n\\n## Important Considerations:\\n- These vehicles require pilot licenses and are subject to aviation regulations\\n- Prices typically range from $300,000 to $2+ million\\n- Most are still in testing/pre-production phases\\n- Infrastructure for widespread use doesn't yet exist\\n\\n**Sources:** Federal Aviation Administration (FAA) documentation, company press releases from Joby Aviation, Terrafugia, and PAL-V.\\n\\nWould you like me to focus on a specific type of aerial vehicle or discuss the timeline for when these might become more widely available?\\n\""
      ]
     },
     "execution_count": 7,
     "metadata": {},
     "output_type": "execute_result"
    }
   ],
   "source": [
    "product_recommendation_assistant(\"Product recommendations for flying cars\")"
   ]
  },
  {
   "cell_type": "markdown",
   "metadata": {},
   "source": [
    "### Trip Planning Assistant"
   ]
  },
  {
   "cell_type": "code",
   "execution_count": 8,
   "metadata": {},
   "outputs": [],
   "source": [
    "@tool\n",
    "def trip_planning_assistant(query: str) -> str:\n",
    "    \"\"\"\n",
    "    Create travel itineraries and provide travel advice.\n",
    "\n",
    "    Args:\n",
    "        query: A travel planning request with destination and preferences\n",
    "\n",
    "    Returns:\n",
    "        A detailed travel itinerary or travel advice\n",
    "    \"\"\"\n",
    "    try:\n",
    "        travel_agent = Agent(\n",
    "            system_prompt=\"\"\"You are a specialized travel planning assistant.\n",
    "            Create detailed travel itineraries based on user preferences.\"\"\",\n",
    "        )\n",
    "        # Call the agent and return its response\n",
    "        response = travel_agent(query)\n",
    "\n",
    "        return str(response)\n",
    "    except Exception as e:\n",
    "        return f\"Error in trip planning: {str(e)}\""
   ]
  },
  {
   "cell_type": "markdown",
   "metadata": {},
   "source": [
    "### Orchestrator Agent"
   ]
  },
  {
   "cell_type": "code",
   "execution_count": 9,
   "metadata": {},
   "outputs": [],
   "source": [
    "# Define orchestrator system prompt with clear tool selection guidance\n",
    "MAIN_SYSTEM_PROMPT = \"\"\"\n",
    "You are an assistant that routes queries to specialized agents:\n",
    "- For research questions and factual information → Use the research_assistant tool\n",
    "- For product recommendations and shopping advice → Use the product_recommendation_assistant tool\n",
    "- For travel planning and itineraries → Use the trip_planning_assistant tool\n",
    "- For simple questions not requiring specialized knowledge → Answer directly\n",
    "\n",
    "Always select the most appropriate tool based on the user's query.\n",
    "\"\"\""
   ]
  },
  {
   "cell_type": "code",
   "execution_count": 10,
   "metadata": {},
   "outputs": [],
   "source": [
    "# Strands Agents allows easy integration of agent tools\n",
    "orchestrator = Agent(\n",
    "    system_prompt=MAIN_SYSTEM_PROMPT,\n",
    "    tools=[\n",
    "        research_assistant,\n",
    "        product_recommendation_assistant,\n",
    "        trip_planning_assistant,\n",
    "        file_write,\n",
    "    ],\n",
    ")"
   ]
  },
  {
   "cell_type": "code",
   "execution_count": 12,
   "metadata": {},
   "outputs": [
    {
     "name": "stdout",
     "output_type": "stream",
     "text": [
      "Requirement already satisfied: langfuse in /usr/local/python/3.11.13/lib/python3.11/site-packages (3.2.0)\n",
      "Requirement already satisfied: backoff>=1.10.0 in /usr/local/python/3.11.13/lib/python3.11/site-packages (from langfuse) (2.2.1)\n",
      "Requirement already satisfied: httpx<1.0,>=0.15.4 in /usr/local/python/3.11.13/lib/python3.11/site-packages (from langfuse) (0.28.1)\n",
      "Requirement already satisfied: opentelemetry-api<2.0.0,>=1.33.1 in /usr/local/python/3.11.13/lib/python3.11/site-packages (from langfuse) (1.35.0)\n",
      "Requirement already satisfied: opentelemetry-exporter-otlp<2.0.0,>=1.33.1 in /usr/local/python/3.11.13/lib/python3.11/site-packages (from langfuse) (1.35.0)\n",
      "Requirement already satisfied: opentelemetry-sdk<2.0.0,>=1.33.1 in /usr/local/python/3.11.13/lib/python3.11/site-packages (from langfuse) (1.35.0)\n",
      "Requirement already satisfied: packaging<25.0,>=23.2 in /usr/local/python/3.11.13/lib/python3.11/site-packages (from langfuse) (24.2)\n",
      "Requirement already satisfied: pydantic<3.0,>=1.10.7 in /usr/local/python/3.11.13/lib/python3.11/site-packages (from langfuse) (2.11.7)\n",
      "Requirement already satisfied: requests<3,>=2 in /usr/local/python/3.11.13/lib/python3.11/site-packages (from langfuse) (2.32.4)\n",
      "Requirement already satisfied: wrapt<2.0,>=1.14 in /usr/local/python/3.11.13/lib/python3.11/site-packages (from langfuse) (1.17.2)\n",
      "Requirement already satisfied: anyio in /usr/local/python/3.11.13/lib/python3.11/site-packages (from httpx<1.0,>=0.15.4->langfuse) (4.9.0)\n",
      "Requirement already satisfied: certifi in /usr/local/python/3.11.13/lib/python3.11/site-packages (from httpx<1.0,>=0.15.4->langfuse) (2025.7.14)\n",
      "Requirement already satisfied: httpcore==1.* in /usr/local/python/3.11.13/lib/python3.11/site-packages (from httpx<1.0,>=0.15.4->langfuse) (1.0.9)\n",
      "Requirement already satisfied: idna in /usr/local/python/3.11.13/lib/python3.11/site-packages (from httpx<1.0,>=0.15.4->langfuse) (3.10)\n",
      "Requirement already satisfied: h11>=0.16 in /usr/local/python/3.11.13/lib/python3.11/site-packages (from httpcore==1.*->httpx<1.0,>=0.15.4->langfuse) (0.16.0)\n",
      "Requirement already satisfied: importlib-metadata<8.8.0,>=6.0 in /usr/local/python/3.11.13/lib/python3.11/site-packages (from opentelemetry-api<2.0.0,>=1.33.1->langfuse) (8.7.0)\n",
      "Requirement already satisfied: typing-extensions>=4.5.0 in /usr/local/python/3.11.13/lib/python3.11/site-packages (from opentelemetry-api<2.0.0,>=1.33.1->langfuse) (4.14.1)\n",
      "Requirement already satisfied: zipp>=3.20 in /usr/local/python/3.11.13/lib/python3.11/site-packages (from importlib-metadata<8.8.0,>=6.0->opentelemetry-api<2.0.0,>=1.33.1->langfuse) (3.23.0)\n",
      "Requirement already satisfied: opentelemetry-exporter-otlp-proto-grpc==1.35.0 in /usr/local/python/3.11.13/lib/python3.11/site-packages (from opentelemetry-exporter-otlp<2.0.0,>=1.33.1->langfuse) (1.35.0)\n",
      "Requirement already satisfied: opentelemetry-exporter-otlp-proto-http==1.35.0 in /usr/local/python/3.11.13/lib/python3.11/site-packages (from opentelemetry-exporter-otlp<2.0.0,>=1.33.1->langfuse) (1.35.0)\n",
      "Requirement already satisfied: googleapis-common-protos~=1.57 in /usr/local/python/3.11.13/lib/python3.11/site-packages (from opentelemetry-exporter-otlp-proto-grpc==1.35.0->opentelemetry-exporter-otlp<2.0.0,>=1.33.1->langfuse) (1.70.0)\n",
      "Requirement already satisfied: grpcio<2.0.0,>=1.63.2 in /usr/local/python/3.11.13/lib/python3.11/site-packages (from opentelemetry-exporter-otlp-proto-grpc==1.35.0->opentelemetry-exporter-otlp<2.0.0,>=1.33.1->langfuse) (1.73.1)\n",
      "Requirement already satisfied: opentelemetry-exporter-otlp-proto-common==1.35.0 in /usr/local/python/3.11.13/lib/python3.11/site-packages (from opentelemetry-exporter-otlp-proto-grpc==1.35.0->opentelemetry-exporter-otlp<2.0.0,>=1.33.1->langfuse) (1.35.0)\n",
      "Requirement already satisfied: opentelemetry-proto==1.35.0 in /usr/local/python/3.11.13/lib/python3.11/site-packages (from opentelemetry-exporter-otlp-proto-grpc==1.35.0->opentelemetry-exporter-otlp<2.0.0,>=1.33.1->langfuse) (1.35.0)\n",
      "Requirement already satisfied: protobuf<7.0,>=5.0 in /usr/local/python/3.11.13/lib/python3.11/site-packages (from opentelemetry-proto==1.35.0->opentelemetry-exporter-otlp-proto-grpc==1.35.0->opentelemetry-exporter-otlp<2.0.0,>=1.33.1->langfuse) (6.31.1)\n",
      "Requirement already satisfied: opentelemetry-semantic-conventions==0.56b0 in /usr/local/python/3.11.13/lib/python3.11/site-packages (from opentelemetry-sdk<2.0.0,>=1.33.1->langfuse) (0.56b0)\n",
      "Requirement already satisfied: annotated-types>=0.6.0 in /usr/local/python/3.11.13/lib/python3.11/site-packages (from pydantic<3.0,>=1.10.7->langfuse) (0.7.0)\n",
      "Requirement already satisfied: pydantic-core==2.33.2 in /usr/local/python/3.11.13/lib/python3.11/site-packages (from pydantic<3.0,>=1.10.7->langfuse) (2.33.2)\n",
      "Requirement already satisfied: typing-inspection>=0.4.0 in /usr/local/python/3.11.13/lib/python3.11/site-packages (from pydantic<3.0,>=1.10.7->langfuse) (0.4.1)\n",
      "Requirement already satisfied: charset_normalizer<4,>=2 in /usr/local/python/3.11.13/lib/python3.11/site-packages (from requests<3,>=2->langfuse) (3.4.2)\n",
      "Requirement already satisfied: urllib3<3,>=1.21.1 in /usr/local/python/3.11.13/lib/python3.11/site-packages (from requests<3,>=2->langfuse) (2.5.0)\n",
      "Requirement already satisfied: sniffio>=1.1 in /usr/local/python/3.11.13/lib/python3.11/site-packages (from anyio->httpx<1.0,>=0.15.4->langfuse) (1.3.1)\n",
      "\u001b[33mWARNING: Running pip as the 'root' user can result in broken permissions and conflicting behaviour with the system package manager, possibly rendering your system unusable. It is recommended to use a virtual environment instead: https://pip.pypa.io/warnings/venv. Use the --root-user-action option if you know what you are doing and want to suppress this warning.\u001b[0m\u001b[33m\n",
      "\u001b[0m"
     ]
    }
   ],
   "source": [
    "!pip install langfuse"
   ]
  },
  {
   "cell_type": "code",
   "execution_count": null,
   "metadata": {},
   "outputs": [],
   "source": [
    "from langfuse import Langfuse\n",
    "\n",
    "# Get keys for your project from the project settings page: https://cloud.langfuse.com\n",
    "public_key = \"pk\"\n",
    "secret_key = \"sk\"\n",
    "\n",
    "os.environ[\"LANGFUSE_HOST\"] = \"https://cloud.langfuse.com\" # 🇪🇺 EU region\n",
    "#os.environ[\"LANGFUSE_HOST\"] = \"https://us.cloud.langfuse.com\" # 🇺🇸 US region\n",
    "\n",
    "# Set up endpoint\n",
    "otel_endpoint = str(os.environ.get(\"LANGFUSE_HOST\")) + \"/api/public/otel/v1/traces\"\n",
    "\n",
    "# Create authentication token:\n",
    "import base64\n",
    "auth_token = base64.b64encode(f\"{public_key}:{secret_key}\".encode()).decode()\n",
    "os.environ[\"OTEL_EXPORTER_OTLP_ENDPOINT\"] = otel_endpoint\n",
    "os.environ[\"OTEL_EXPORTER_OTLP_HEADERS\"] = f\"Authorization=Basic {auth_token}\"\n",
    "\n",
    "langfuse = Langfuse(\n",
    "    public_key=public_key,\n",
    "    secret_key=secret_key,\n",
    "    host=\"https://cloud.langfuse.com\"\n",
    ")"
   ]
  },
  {
   "cell_type": "code",
   "execution_count": 14,
   "metadata": {},
   "outputs": [
    {
     "name": "stdout",
     "output_type": "stream",
     "text": [
      "I'll help you find hiking boots and save the response to the current directory.\n",
      "Tool #3: product_recommendation_assistant\n",
      "I'd be happy to help you find the right hiking boots! To give you the best recommendations, could you tell me more about:\n",
      "\n",
      "1. **Your hiking style**: Day hikes, backpacking, or technical terrain?\n",
      "2. **Budget range**: What are you comfortable spending?\n",
      "3. **Foot characteristics**: Any specific fit needs (wide feet, arch support, etc.)?\n",
      "4. **Climate/terrain**: Where will you primarily be hiking?\n",
      "\n",
      "That said, here are some widely recommended categories to consider:\n",
      "\n",
      "**For Day Hiking:**\n",
      "- Merrell Moab series (versatile, comfortable)\n",
      "- Salomon X Ultra series (lightweight, good traction)\n",
      "\n",
      "**For Backpacking:**\n",
      "- Lowa Renegade GTX (durable, waterproof)\n",
      "- Keen Targhee series (roomy toe box, sturdy)\n",
      "\n",
      "**For Technical Terrain:**\n",
      "- La Sportiva boots (precise fit, climbing capability)\n",
      "- Scarpa models (Italian craftsmanship, technical features)\n",
      "\n",
      "**Key features to look for:**\n",
      "- Proper ankle support for your needs\n",
      "- Waterproof membrane (Gore-Tex) if hiking in wet conditions\n",
      "- Vibram soles for traction\n",
      "- Proper break-in time before major hikes\n",
      "\n",
      "I'd recommend trying boots on in-store if possible, preferably later in the day when your feet are slightly swollen (mimicking hiking conditions).\n",
      "\n",
      "What type of hiking are you planning to do? This will help me narrow down more specific recommendations.\n",
      "Tool #4: file_write\n"
     ]
    },
    {
     "data": {
      "text/html": [
       "<pre style=\"white-space:pre;overflow-x:auto;line-height:normal;font-family:Menlo,'DejaVu Sans Mono',consolas,'Courier New',monospace\"><span style=\"color: #000080; text-decoration-color: #000080\">╔══════ </span><span style=\"color: #000080; text-decoration-color: #000080; font-weight: bold\">File Write Operation</span><span style=\"color: #000080; text-decoration-color: #000080\"> ═══════╗</span>\n",
       "<span style=\"color: #000080; text-decoration-color: #000080\">║</span>                                   <span style=\"color: #000080; text-decoration-color: #000080\">║</span>\n",
       "<span style=\"color: #000080; text-decoration-color: #000080\">║</span> <span style=\"color: #008080; text-decoration-color: #008080\">Path: </span><span style=\"color: #808000; text-decoration-color: #808000\">./hiking_boots_response.txt</span> <span style=\"color: #000080; text-decoration-color: #000080\">║</span>\n",
       "<span style=\"color: #000080; text-decoration-color: #000080\">║</span> <span style=\"color: #008080; text-decoration-color: #008080\">Size: </span><span style=\"color: #808000; text-decoration-color: #808000\">1293 characters</span>             <span style=\"color: #000080; text-decoration-color: #000080\">║</span>\n",
       "<span style=\"color: #000080; text-decoration-color: #000080\">║</span>                                   <span style=\"color: #000080; text-decoration-color: #000080\">║</span>\n",
       "<span style=\"color: #000080; text-decoration-color: #000080\">╚═══════════════════════════════════╝</span>\n",
       "</pre>\n"
      ],
      "text/plain": [
       "\u001b[34m╔═\u001b[0m\u001b[34m═════\u001b[0m\u001b[34m \u001b[0m\u001b[1;34mFile Write Operation\u001b[0m\u001b[34m \u001b[0m\u001b[34m══════\u001b[0m\u001b[34m═╗\u001b[0m\n",
       "\u001b[34m║\u001b[0m                                   \u001b[34m║\u001b[0m\n",
       "\u001b[34m║\u001b[0m \u001b[36mPath: \u001b[0m\u001b[33m./hiking_boots_response.txt\u001b[0m \u001b[34m║\u001b[0m\n",
       "\u001b[34m║\u001b[0m \u001b[36mSize: \u001b[0m\u001b[33m1293 characters\u001b[0m             \u001b[34m║\u001b[0m\n",
       "\u001b[34m║\u001b[0m                                   \u001b[34m║\u001b[0m\n",
       "\u001b[34m╚═══════════════════════════════════╝\u001b[0m\n"
      ]
     },
     "metadata": {},
     "output_type": "display_data"
    },
    {
     "data": {
      "text/html": [
       "<pre style=\"white-space:pre;overflow-x:auto;line-height:normal;font-family:Menlo,'DejaVu Sans Mono',consolas,'Courier New',monospace\"><span style=\"color: #008000; text-decoration-color: #008000\">╔════════════════════ </span><span style=\"color: #008000; text-decoration-color: #008000; font-weight: bold\">Write Successful</span><span style=\"color: #008000; text-decoration-color: #008000\"> ════════════════════╗</span>\n",
       "<span style=\"color: #008000; text-decoration-color: #008000\">║</span> <span style=\"color: #008000; text-decoration-color: #008000; font-weight: bold\">File written successfully to ./hiking_boots_response.txt</span> <span style=\"color: #008000; text-decoration-color: #008000\">║</span>\n",
       "<span style=\"color: #008000; text-decoration-color: #008000\">╚══════════════════════════════════════════════════════════╝</span>\n",
       "</pre>\n"
      ],
      "text/plain": [
       "\u001b[32m╔═\u001b[0m\u001b[32m═══════════════════\u001b[0m\u001b[32m \u001b[0m\u001b[1;32mWrite Successful\u001b[0m\u001b[32m \u001b[0m\u001b[32m═══════════════════\u001b[0m\u001b[32m═╗\u001b[0m\n",
       "\u001b[32m║\u001b[0m \u001b[1;32mFile written successfully to ./hiking_boots_response.txt\u001b[0m \u001b[32m║\u001b[0m\n",
       "\u001b[32m╚══════════════════════════════════════════════════════════╝\u001b[0m\n"
      ]
     },
     "metadata": {},
     "output_type": "display_data"
    },
    {
     "name": "stdout",
     "output_type": "stream",
     "text": [
      "I've provided hiking boot recommendations and saved the complete response to a file called \"hiking_boots_response.txt\" in your current directory. The response includes recommendations for different hiking styles (day hiking, backpacking, technical terrain), specific boot brands like Merrell, Salomon, Lowa, and others, plus key features to consider when selecting boots.\n",
      "\n",
      "The file contains guidance on what information would help narrow down more specific recommendations, such as your hiking style, budget, foot characteristics, and terrain preferences."
     ]
    }
   ],
   "source": [
    "# Example: E-commerce Customer Service System\n",
    "customer_query = (\n",
    "    \"I'm looking for hiking boots. Write the final response to current directory.\"\n",
    ")\n",
    "\n",
    "os.environ[\"BYPASS_TOOL_CONSENT\"] = \"true\"\n",
    "\n",
    "# The orchestrator automatically determines this requires multiple specialized agents\n",
    "response = orchestrator(customer_query)"
   ]
  },
  {
   "cell_type": "markdown",
   "metadata": {},
   "source": [
    "Lets look at the messages of the orchestrator. Here you can see the agent decided to use the sub-agent as tool"
   ]
  },
  {
   "cell_type": "code",
   "execution_count": 15,
   "metadata": {},
   "outputs": [
    {
     "data": {
      "text/plain": [
       "[{'role': 'user',\n",
       "  'content': [{'text': \"I'm looking for hiking boots. Write the final response to current directory.\"}]},\n",
       " {'role': 'assistant',\n",
       "  'content': [{'text': \"I'll help you find hiking boots and then save the response to a file in the current directory.\"},\n",
       "   {'toolUse': {'toolUseId': 'tooluse_ocD1raI3Rm6EF9HWmmI0sg',\n",
       "     'name': 'product_recommendation_assistant',\n",
       "     'input': {'query': \"I'm looking for hiking boots\"}}}]},\n",
       " {'role': 'user',\n",
       "  'content': [{'toolResult': {'toolUseId': 'tooluse_ocD1raI3Rm6EF9HWmmI0sg',\n",
       "     'status': 'success',\n",
       "     'content': [{'text': \"I'd be happy to help you find the right hiking boots! To give you the best recommendations, could you tell me more about:\\n\\n**Your hiking style:**\\n- Day hikes, backpacking, or casual trails?\\n- What terrain (rocky, muddy, desert, etc.)?\\n\\n**Your preferences:**\\n- Budget range?\\n- Foot width (narrow, regular, wide)?\\n- Any specific features needed (waterproof, lightweight, ankle support)?\\n\\n**General categories to consider:**\\n\\n**Day Hiking Boots:**\\n- Merrell Moab 3 - versatile, comfortable for most terrains\\n- Salomon X Ultra 3 GTX - great traction, waterproof\\n\\n**Backpacking Boots:**\\n- Lowa Renegade GTX - excellent support, durable\\n- Scarpa Zodiac Plus GTX - mountaineering-grade construction\\n\\n**Lightweight Options:**\\n- Altra Lone Peak - zero-drop, wide toe box\\n- Hoka Speedgoat - maximum cushioning\\n\\n**Key features to look for:**\\n- Proper fit with room for toe movement\\n- Adequate ankle support for your needs\\n- Waterproofing (GTX/eVent) if hiking in wet conditions\\n- Vibram or similar quality outsoles for traction\\n\\nWould you like me to elaborate on any of these options or narrow down based on your specific needs?\\n\\n*Note: I recommend trying boots on in-store when possible, as fit varies significantly between brands and foot shapes.*\\n\"}]}}]},\n",
       " {'role': 'assistant',\n",
       "  'content': [{'toolUse': {'toolUseId': 'tooluse_su5TjmWqRyOwczorNd7quw',\n",
       "     'name': 'file_write',\n",
       "     'input': {'path': './hiking_boots_recommendations.txt',\n",
       "      'content': \"HIKING BOOTS RECOMMENDATIONS\\n\\nI'd be happy to help you find the right hiking boots! To give you the best recommendations, could you tell me more about:\\n\\nYOUR HIKING STYLE:\\n- Day hikes, backpacking, or casual trails?\\n- What terrain (rocky, muddy, desert, etc.)?\\n\\nYOUR PREFERENCES:\\n- Budget range?\\n- Foot width (narrow, regular, wide)?\\n- Any specific features needed (waterproof, lightweight, ankle support)?\\n\\nGENERAL CATEGORIES TO CONSIDER:\\n\\nDAY HIKING BOOTS:\\n- Merrell Moab 3 - versatile, comfortable for most terrains\\n- Salomon X Ultra 3 GTX - great traction, waterproof\\n\\nBACKPACKING BOOTS:\\n- Lowa Renegade GTX - excellent support, durable\\n- Scarpa Zodiac Plus GTX - mountaineering-grade construction\\n\\nLIGHTWEIGHT OPTIONS:\\n- Altra Lone Peak - zero-drop, wide toe box\\n- Hoka Speedgoat - maximum cushioning\\n\\nKEY FEATURES TO LOOK FOR:\\n- Proper fit with room for toe movement\\n- Adequate ankle support for your needs\\n- Waterproofing (GTX/eVent) if hiking in wet conditions\\n- Vibram or similar quality outsoles for traction\\n\\nWould you like me to elaborate on any of these options or narrow down based on your specific needs?\\n\\n*Note: I recommend trying boots on in-store when possible, as fit varies significantly between brands and foot shapes.*\"}}}]},\n",
       " {'role': 'user',\n",
       "  'content': [{'toolResult': {'toolUseId': 'tooluse_su5TjmWqRyOwczorNd7quw',\n",
       "     'status': 'success',\n",
       "     'content': [{'text': 'File write success: File written successfully to ./hiking_boots_recommendations.txt'}]}}]},\n",
       " {'role': 'assistant',\n",
       "  'content': [{'text': 'I\\'ve provided you with hiking boot recommendations and saved the complete response to a file called \"hiking_boots_recommendations.txt\" in your current directory. The recommendations include options for different hiking styles (day hiking, backpacking, lightweight), specific boot models from trusted brands like Merrell, Salomon, Lowa, and others, plus key features to consider when making your selection.\\n\\nTo get more specific recommendations, feel free to share details about your hiking style, terrain preferences, budget, and any specific features you need!'}]},\n",
       " {'role': 'user',\n",
       "  'content': [{'text': \"I'm looking for hiking boots. Write the final response to current directory.\"}]},\n",
       " {'role': 'assistant',\n",
       "  'content': [{'text': \"I'll help you find hiking boots and save the response to the current directory.\"},\n",
       "   {'toolUse': {'toolUseId': 'tooluse_LAcft08ERLejaSmLrphsCg',\n",
       "     'name': 'product_recommendation_assistant',\n",
       "     'input': {'query': \"I'm looking for hiking boots\"}}}]},\n",
       " {'role': 'user',\n",
       "  'content': [{'toolResult': {'toolUseId': 'tooluse_LAcft08ERLejaSmLrphsCg',\n",
       "     'status': 'success',\n",
       "     'content': [{'text': \"I'd be happy to help you find the right hiking boots! To give you the best recommendations, could you tell me more about:\\n\\n1. **Your hiking style**: Day hikes, backpacking, or technical terrain?\\n2. **Budget range**: What are you comfortable spending?\\n3. **Foot characteristics**: Any specific fit needs (wide feet, arch support, etc.)?\\n4. **Climate/terrain**: Where will you primarily be hiking?\\n\\nThat said, here are some widely recommended categories to consider:\\n\\n**For Day Hiking:**\\n- Merrell Moab series (versatile, comfortable)\\n- Salomon X Ultra series (lightweight, good traction)\\n\\n**For Backpacking:**\\n- Lowa Renegade GTX (durable, waterproof)\\n- Keen Targhee series (roomy toe box, sturdy)\\n\\n**For Technical Terrain:**\\n- La Sportiva boots (precise fit, climbing capability)\\n- Scarpa models (Italian craftsmanship, technical features)\\n\\n**Key features to look for:**\\n- Proper ankle support for your needs\\n- Waterproof membrane (Gore-Tex) if hiking in wet conditions\\n- Vibram soles for traction\\n- Proper break-in time before major hikes\\n\\nI'd recommend trying boots on in-store if possible, preferably later in the day when your feet are slightly swollen (mimicking hiking conditions).\\n\\nWhat type of hiking are you planning to do? This will help me narrow down more specific recommendations.\\n\"}]}}]},\n",
       " {'role': 'assistant',\n",
       "  'content': [{'toolUse': {'toolUseId': 'tooluse_QEaQRJgIRLOPnrczAyME7g',\n",
       "     'name': 'file_write',\n",
       "     'input': {'path': './hiking_boots_response.txt',\n",
       "      'content': \"I'd be happy to help you find the right hiking boots! To give you the best recommendations, could you tell me more about:\\n\\n1. **Your hiking style**: Day hikes, backpacking, or technical terrain?\\n2. **Budget range**: What are you comfortable spending?\\n3. **Foot characteristics**: Any specific fit needs (wide feet, arch support, etc.)?\\n4. **Climate/terrain**: Where will you primarily be hiking?\\n\\nThat said, here are some widely recommended categories to consider:\\n\\n**For Day Hiking:**\\n- Merrell Moab series (versatile, comfortable)\\n- Salomon X Ultra series (lightweight, good traction)\\n\\n**For Backpacking:**\\n- Lowa Renegade GTX (durable, waterproof)\\n- Keen Targhee series (roomy toe box, sturdy)\\n\\n**For Technical Terrain:**\\n- La Sportiva boots (precise fit, climbing capability)\\n- Scarpa models (Italian craftsmanship, technical features)\\n\\n**Key features to look for:**\\n- Proper ankle support for your needs\\n- Waterproof membrane (Gore-Tex) if hiking in wet conditions\\n- Vibram soles for traction\\n- Proper break-in time before major hikes\\n\\nI'd recommend trying boots on in-store if possible, preferably later in the day when your feet are slightly swollen (mimicking hiking conditions).\\n\\nWhat type of hiking are you planning to do? This will help me narrow down more specific recommendations.\"}}}]},\n",
       " {'role': 'user',\n",
       "  'content': [{'toolResult': {'toolUseId': 'tooluse_QEaQRJgIRLOPnrczAyME7g',\n",
       "     'status': 'success',\n",
       "     'content': [{'text': 'File write success: File written successfully to ./hiking_boots_response.txt'}]}}]},\n",
       " {'role': 'assistant',\n",
       "  'content': [{'text': 'I\\'ve provided hiking boot recommendations and saved the complete response to a file called \"hiking_boots_response.txt\" in your current directory. The response includes recommendations for different hiking styles (day hiking, backpacking, technical terrain), specific boot brands like Merrell, Salomon, Lowa, and others, plus key features to consider when selecting boots.\\n\\nThe file contains guidance on what information would help narrow down more specific recommendations, such as your hiking style, budget, foot characteristics, and terrain preferences.'}]}]"
      ]
     },
     "execution_count": 15,
     "metadata": {},
     "output_type": "execute_result"
    }
   ],
   "source": [
    "orchestrator.messages"
   ]
  },
  {
   "cell_type": "code",
   "execution_count": 16,
   "metadata": {},
   "outputs": [
    {
     "name": "stdout",
     "output_type": "stream",
     "text": [
      "I'd be happy to help you plan your trip to Patagonia! Let me get you a detailed travel plan.\n",
      "Tool #5: trip_planning_assistant\n",
      "I'd love to help you plan an amazing trip to Patagonia! This is one of the world's most spectacular wilderness destinations. To create the best itinerary for you, I need to understand your preferences better.\n",
      "\n",
      "Could you please share:\n",
      "\n",
      "**Essential Details:**\n",
      "- **Duration**: How many days/weeks do you have?\n",
      "- **Travel dates**: When are you planning to visit?\n",
      "- **Budget range**: What's your approximate budget?\n",
      "- **Fitness level**: Are you comfortable with strenuous hiking?\n",
      "\n",
      "**Preferences:**\n",
      "- **Activities**: Hiking, mountaineering, wildlife viewing, photography, cultural experiences?\n",
      "- **Accommodation style**: Camping, hostels, hotels, luxury lodges?\n",
      "- **Side preference**: Chilean Patagonia, Argentine Patagonia, or both?\n",
      "\n",
      "**Key Patagonia Highlights to Consider:**\n",
      "- **Torres del Paine** (Chile) - Iconic granite towers, world-class trekking\n",
      "- **Los Glaciares National Park** (Argentina) - Perito Moreno Glacier, Fitz Roy\n",
      "- **Ushuaia** - \"End of the world\" gateway to Tierra del Fuego\n",
      "- **Peninsula Valdés** - Whale watching (seasonal)\n",
      "- **Bariloche** - Lakes district, more accessible entry point\n",
      "\n",
      "**Best Time to Visit:**\n",
      "- **Summer (Nov-Mar)**: Warmest weather, peak season\n",
      "- **Shoulder seasons (Oct/Apr)**: Fewer crowds, variable weather\n",
      "\n",
      "Once I know more about your preferences, I can create a detailed day-by-day itinerary with specific recommendations for activities, accommodations, and logistics!I'd love to help you plan an amazing trip to Patagonia! This is one of the world's most spectacular wilderness destinations. To create the best itinerary for you, I need to understand your preferences better.\n",
      "\n",
      "**Could you please share:**\n",
      "\n",
      "**Essential Details:**\n",
      "- **Duration**: How many days/weeks do you have?\n",
      "- **Travel dates**: When are you planning to visit?\n",
      "- **Budget range**: What's your approximate budget?\n",
      "- **Fitness level**: Are you comfortable with strenuous hiking?\n",
      "\n",
      "**Preferences:**\n",
      "- **Activities**: Hiking, mountaineering, wildlife viewing, photography, cultural experiences?\n",
      "- **Accommodation style**: Camping, hostels, hotels, luxury lodges?\n",
      "- **Side preference**: Chilean Patagonia, Argentine Patagonia, or both?\n",
      "\n",
      "**Key Patagonia Highlights to Consider:**\n",
      "- **Torres del Paine** (Chile) - Iconic granite towers, world-class trekking\n",
      "- **Los Glaciares National Park** (Argentina) - Perito Moreno Glacier, Fitz Roy\n",
      "- **Ushuaia** - \"End of the world\" gateway to Tierra del Fuego\n",
      "- **Peninsula Valdés** - Whale watching (seasonal)\n",
      "- **Bariloche** - Lakes district, more accessible entry point\n",
      "\n",
      "**Best Time to Visit:**\n",
      "- **Summer (Nov-Mar)**: Warmest weather, peak season\n",
      "- **Shoulder seasons (Oct/Apr)**: Fewer crowds, variable weather\n",
      "\n",
      "Once I know more about your preferences, I can create a detailed day-by-day itinerary with specific recommendations for activities, accommodations, and logistics!"
     ]
    }
   ],
   "source": [
    "customer_query = \"Can you help me plan my trip to Patagonia\"\n",
    "\n",
    "response = orchestrator(customer_query)"
   ]
  },
  {
   "cell_type": "code",
   "execution_count": 17,
   "metadata": {},
   "outputs": [
    {
     "data": {
      "text/plain": [
       "[{'role': 'user',\n",
       "  'content': [{'text': \"I'm looking for hiking boots. Write the final response to current directory.\"}]},\n",
       " {'role': 'assistant',\n",
       "  'content': [{'text': \"I'll help you find hiking boots and then save the response to a file in the current directory.\"},\n",
       "   {'toolUse': {'toolUseId': 'tooluse_ocD1raI3Rm6EF9HWmmI0sg',\n",
       "     'name': 'product_recommendation_assistant',\n",
       "     'input': {'query': \"I'm looking for hiking boots\"}}}]},\n",
       " {'role': 'user',\n",
       "  'content': [{'toolResult': {'toolUseId': 'tooluse_ocD1raI3Rm6EF9HWmmI0sg',\n",
       "     'status': 'success',\n",
       "     'content': [{'text': \"I'd be happy to help you find the right hiking boots! To give you the best recommendations, could you tell me more about:\\n\\n**Your hiking style:**\\n- Day hikes, backpacking, or casual trails?\\n- What terrain (rocky, muddy, desert, etc.)?\\n\\n**Your preferences:**\\n- Budget range?\\n- Foot width (narrow, regular, wide)?\\n- Any specific features needed (waterproof, lightweight, ankle support)?\\n\\n**General categories to consider:**\\n\\n**Day Hiking Boots:**\\n- Merrell Moab 3 - versatile, comfortable for most terrains\\n- Salomon X Ultra 3 GTX - great traction, waterproof\\n\\n**Backpacking Boots:**\\n- Lowa Renegade GTX - excellent support, durable\\n- Scarpa Zodiac Plus GTX - mountaineering-grade construction\\n\\n**Lightweight Options:**\\n- Altra Lone Peak - zero-drop, wide toe box\\n- Hoka Speedgoat - maximum cushioning\\n\\n**Key features to look for:**\\n- Proper fit with room for toe movement\\n- Adequate ankle support for your needs\\n- Waterproofing (GTX/eVent) if hiking in wet conditions\\n- Vibram or similar quality outsoles for traction\\n\\nWould you like me to elaborate on any of these options or narrow down based on your specific needs?\\n\\n*Note: I recommend trying boots on in-store when possible, as fit varies significantly between brands and foot shapes.*\\n\"}]}}]},\n",
       " {'role': 'assistant',\n",
       "  'content': [{'toolUse': {'toolUseId': 'tooluse_su5TjmWqRyOwczorNd7quw',\n",
       "     'name': 'file_write',\n",
       "     'input': {'path': './hiking_boots_recommendations.txt',\n",
       "      'content': \"HIKING BOOTS RECOMMENDATIONS\\n\\nI'd be happy to help you find the right hiking boots! To give you the best recommendations, could you tell me more about:\\n\\nYOUR HIKING STYLE:\\n- Day hikes, backpacking, or casual trails?\\n- What terrain (rocky, muddy, desert, etc.)?\\n\\nYOUR PREFERENCES:\\n- Budget range?\\n- Foot width (narrow, regular, wide)?\\n- Any specific features needed (waterproof, lightweight, ankle support)?\\n\\nGENERAL CATEGORIES TO CONSIDER:\\n\\nDAY HIKING BOOTS:\\n- Merrell Moab 3 - versatile, comfortable for most terrains\\n- Salomon X Ultra 3 GTX - great traction, waterproof\\n\\nBACKPACKING BOOTS:\\n- Lowa Renegade GTX - excellent support, durable\\n- Scarpa Zodiac Plus GTX - mountaineering-grade construction\\n\\nLIGHTWEIGHT OPTIONS:\\n- Altra Lone Peak - zero-drop, wide toe box\\n- Hoka Speedgoat - maximum cushioning\\n\\nKEY FEATURES TO LOOK FOR:\\n- Proper fit with room for toe movement\\n- Adequate ankle support for your needs\\n- Waterproofing (GTX/eVent) if hiking in wet conditions\\n- Vibram or similar quality outsoles for traction\\n\\nWould you like me to elaborate on any of these options or narrow down based on your specific needs?\\n\\n*Note: I recommend trying boots on in-store when possible, as fit varies significantly between brands and foot shapes.*\"}}}]},\n",
       " {'role': 'user',\n",
       "  'content': [{'toolResult': {'toolUseId': 'tooluse_su5TjmWqRyOwczorNd7quw',\n",
       "     'status': 'success',\n",
       "     'content': [{'text': 'File write success: File written successfully to ./hiking_boots_recommendations.txt'}]}}]},\n",
       " {'role': 'assistant',\n",
       "  'content': [{'text': 'I\\'ve provided you with hiking boot recommendations and saved the complete response to a file called \"hiking_boots_recommendations.txt\" in your current directory. The recommendations include options for different hiking styles (day hiking, backpacking, lightweight), specific boot models from trusted brands like Merrell, Salomon, Lowa, and others, plus key features to consider when making your selection.\\n\\nTo get more specific recommendations, feel free to share details about your hiking style, terrain preferences, budget, and any specific features you need!'}]},\n",
       " {'role': 'user',\n",
       "  'content': [{'text': \"I'm looking for hiking boots. Write the final response to current directory.\"}]},\n",
       " {'role': 'assistant',\n",
       "  'content': [{'text': \"I'll help you find hiking boots and save the response to the current directory.\"},\n",
       "   {'toolUse': {'toolUseId': 'tooluse_LAcft08ERLejaSmLrphsCg',\n",
       "     'name': 'product_recommendation_assistant',\n",
       "     'input': {'query': \"I'm looking for hiking boots\"}}}]},\n",
       " {'role': 'user',\n",
       "  'content': [{'toolResult': {'toolUseId': 'tooluse_LAcft08ERLejaSmLrphsCg',\n",
       "     'status': 'success',\n",
       "     'content': [{'text': \"I'd be happy to help you find the right hiking boots! To give you the best recommendations, could you tell me more about:\\n\\n1. **Your hiking style**: Day hikes, backpacking, or technical terrain?\\n2. **Budget range**: What are you comfortable spending?\\n3. **Foot characteristics**: Any specific fit needs (wide feet, arch support, etc.)?\\n4. **Climate/terrain**: Where will you primarily be hiking?\\n\\nThat said, here are some widely recommended categories to consider:\\n\\n**For Day Hiking:**\\n- Merrell Moab series (versatile, comfortable)\\n- Salomon X Ultra series (lightweight, good traction)\\n\\n**For Backpacking:**\\n- Lowa Renegade GTX (durable, waterproof)\\n- Keen Targhee series (roomy toe box, sturdy)\\n\\n**For Technical Terrain:**\\n- La Sportiva boots (precise fit, climbing capability)\\n- Scarpa models (Italian craftsmanship, technical features)\\n\\n**Key features to look for:**\\n- Proper ankle support for your needs\\n- Waterproof membrane (Gore-Tex) if hiking in wet conditions\\n- Vibram soles for traction\\n- Proper break-in time before major hikes\\n\\nI'd recommend trying boots on in-store if possible, preferably later in the day when your feet are slightly swollen (mimicking hiking conditions).\\n\\nWhat type of hiking are you planning to do? This will help me narrow down more specific recommendations.\\n\"}]}}]},\n",
       " {'role': 'assistant',\n",
       "  'content': [{'toolUse': {'toolUseId': 'tooluse_QEaQRJgIRLOPnrczAyME7g',\n",
       "     'name': 'file_write',\n",
       "     'input': {'path': './hiking_boots_response.txt',\n",
       "      'content': \"I'd be happy to help you find the right hiking boots! To give you the best recommendations, could you tell me more about:\\n\\n1. **Your hiking style**: Day hikes, backpacking, or technical terrain?\\n2. **Budget range**: What are you comfortable spending?\\n3. **Foot characteristics**: Any specific fit needs (wide feet, arch support, etc.)?\\n4. **Climate/terrain**: Where will you primarily be hiking?\\n\\nThat said, here are some widely recommended categories to consider:\\n\\n**For Day Hiking:**\\n- Merrell Moab series (versatile, comfortable)\\n- Salomon X Ultra series (lightweight, good traction)\\n\\n**For Backpacking:**\\n- Lowa Renegade GTX (durable, waterproof)\\n- Keen Targhee series (roomy toe box, sturdy)\\n\\n**For Technical Terrain:**\\n- La Sportiva boots (precise fit, climbing capability)\\n- Scarpa models (Italian craftsmanship, technical features)\\n\\n**Key features to look for:**\\n- Proper ankle support for your needs\\n- Waterproof membrane (Gore-Tex) if hiking in wet conditions\\n- Vibram soles for traction\\n- Proper break-in time before major hikes\\n\\nI'd recommend trying boots on in-store if possible, preferably later in the day when your feet are slightly swollen (mimicking hiking conditions).\\n\\nWhat type of hiking are you planning to do? This will help me narrow down more specific recommendations.\"}}}]},\n",
       " {'role': 'user',\n",
       "  'content': [{'toolResult': {'toolUseId': 'tooluse_QEaQRJgIRLOPnrczAyME7g',\n",
       "     'status': 'success',\n",
       "     'content': [{'text': 'File write success: File written successfully to ./hiking_boots_response.txt'}]}}]},\n",
       " {'role': 'assistant',\n",
       "  'content': [{'text': 'I\\'ve provided hiking boot recommendations and saved the complete response to a file called \"hiking_boots_response.txt\" in your current directory. The response includes recommendations for different hiking styles (day hiking, backpacking, technical terrain), specific boot brands like Merrell, Salomon, Lowa, and others, plus key features to consider when selecting boots.\\n\\nThe file contains guidance on what information would help narrow down more specific recommendations, such as your hiking style, budget, foot characteristics, and terrain preferences.'}]},\n",
       " {'role': 'user',\n",
       "  'content': [{'text': 'Can you help me plan my trip to Patagonia'}]},\n",
       " {'role': 'assistant',\n",
       "  'content': [{'text': \"I'd be happy to help you plan your trip to Patagonia! Let me get you a detailed travel plan.\"},\n",
       "   {'toolUse': {'toolUseId': 'tooluse_ZOaHAtEBQt62LS39UcKj3A',\n",
       "     'name': 'trip_planning_assistant',\n",
       "     'input': {'query': 'Can you help me plan my trip to Patagonia'}}}]},\n",
       " {'role': 'user',\n",
       "  'content': [{'toolResult': {'toolUseId': 'tooluse_ZOaHAtEBQt62LS39UcKj3A',\n",
       "     'status': 'success',\n",
       "     'content': [{'text': 'I\\'d love to help you plan an amazing trip to Patagonia! This is one of the world\\'s most spectacular wilderness destinations. To create the best itinerary for you, I need to understand your preferences better.\\n\\nCould you please share:\\n\\n**Essential Details:**\\n- **Duration**: How many days/weeks do you have?\\n- **Travel dates**: When are you planning to visit?\\n- **Budget range**: What\\'s your approximate budget?\\n- **Fitness level**: Are you comfortable with strenuous hiking?\\n\\n**Preferences:**\\n- **Activities**: Hiking, mountaineering, wildlife viewing, photography, cultural experiences?\\n- **Accommodation style**: Camping, hostels, hotels, luxury lodges?\\n- **Side preference**: Chilean Patagonia, Argentine Patagonia, or both?\\n\\n**Key Patagonia Highlights to Consider:**\\n- **Torres del Paine** (Chile) - Iconic granite towers, world-class trekking\\n- **Los Glaciares National Park** (Argentina) - Perito Moreno Glacier, Fitz Roy\\n- **Ushuaia** - \"End of the world\" gateway to Tierra del Fuego\\n- **Peninsula Valdés** - Whale watching (seasonal)\\n- **Bariloche** - Lakes district, more accessible entry point\\n\\n**Best Time to Visit:**\\n- **Summer (Nov-Mar)**: Warmest weather, peak season\\n- **Shoulder seasons (Oct/Apr)**: Fewer crowds, variable weather\\n\\nOnce I know more about your preferences, I can create a detailed day-by-day itinerary with specific recommendations for activities, accommodations, and logistics!\\n'}]}}]},\n",
       " {'role': 'assistant',\n",
       "  'content': [{'text': 'I\\'d love to help you plan an amazing trip to Patagonia! This is one of the world\\'s most spectacular wilderness destinations. To create the best itinerary for you, I need to understand your preferences better.\\n\\n**Could you please share:**\\n\\n**Essential Details:**\\n- **Duration**: How many days/weeks do you have?\\n- **Travel dates**: When are you planning to visit?\\n- **Budget range**: What\\'s your approximate budget?\\n- **Fitness level**: Are you comfortable with strenuous hiking?\\n\\n**Preferences:**\\n- **Activities**: Hiking, mountaineering, wildlife viewing, photography, cultural experiences?\\n- **Accommodation style**: Camping, hostels, hotels, luxury lodges?\\n- **Side preference**: Chilean Patagonia, Argentine Patagonia, or both?\\n\\n**Key Patagonia Highlights to Consider:**\\n- **Torres del Paine** (Chile) - Iconic granite towers, world-class trekking\\n- **Los Glaciares National Park** (Argentina) - Perito Moreno Glacier, Fitz Roy\\n- **Ushuaia** - \"End of the world\" gateway to Tierra del Fuego\\n- **Peninsula Valdés** - Whale watching (seasonal)\\n- **Bariloche** - Lakes district, more accessible entry point\\n\\n**Best Time to Visit:**\\n- **Summer (Nov-Mar)**: Warmest weather, peak season\\n- **Shoulder seasons (Oct/Apr)**: Fewer crowds, variable weather\\n\\nOnce I know more about your preferences, I can create a detailed day-by-day itinerary with specific recommendations for activities, accommodations, and logistics!'}]}]"
      ]
     },
     "execution_count": 17,
     "metadata": {},
     "output_type": "execute_result"
    }
   ],
   "source": [
    "orchestrator.messages"
   ]
  },
  {
   "cell_type": "markdown",
   "metadata": {},
   "source": [
    "### Calling multiple agents "
   ]
  },
  {
   "cell_type": "code",
   "execution_count": 18,
   "metadata": {},
   "outputs": [],
   "source": [
    "orchestrator.messages = []"
   ]
  },
  {
   "cell_type": "code",
   "execution_count": null,
   "metadata": {},
   "outputs": [],
   "source": [
    "query = \"Can you do a research on spain? Also help me plan a 7 day trip.\"\n",
    "\n",
    "orchestrator(query)"
   ]
  },
  {
   "cell_type": "markdown",
   "metadata": {},
   "source": [
    "Behind the scenes, the orchestrator will:\n",
    "1. First call the `research_assistant`\n",
    "2. Then call `trip_planning_assistant`\n",
    "3. Combine these specialized responses into a cohesive answer that addresses both the queries"
   ]
  },
  {
   "cell_type": "markdown",
   "metadata": {},
   "source": [
    "### Sequential Agent Communication Pattern\n"
   ]
  },
  {
   "cell_type": "markdown",
   "metadata": {},
   "source": [
    "The agent tool can also combine multiple agents together. In this example we will provide output of `research_agent` to `summary_agent` and return the summarized response."
   ]
  },
  {
   "cell_type": "code",
   "execution_count": null,
   "metadata": {},
   "outputs": [],
   "source": [
    " # define the user query\n",
    "topic = \"generative Ai\"\n",
    "# Create a research agent\n",
    "research_agent = Agent(\n",
    "    system_prompt=RESEARCH_ASSISTANT_PROMPT,\n",
    ")\n",
    "# Create a summarization agent\n",
    "summary_agent = Agent(\n",
    "    system_prompt=\"\"\"\n",
    "    You are a summarization specialist focused on distilling complex information into clear, concise summaries.\n",
    "    Your primary goal is to take detailed information and extract the key points, main arguments, and critical data.\n",
    "    You should maintain the accuracy of the original content while making it more digestible.\n",
    "    Focus on clarity, brevity, and highlighting the most important aspects of the information.\n",
    "    \"\"\",\n",
    ")\n",
    "\n",
    "print(\"Multiple agents created successfully!\")\n",
    "print(f\"\\n🔍 RESEARCH AGENT working on: {topic}\\n\") \n",
    "try:\n",
    "    # Agent 1: Invoke research agent\n",
    "    research_response = research_agent(\n",
    "        f\"Please gather comprehensive information about {topic}.\"\n",
    "    )\n",
    "    research_text = research_response.message.content[0][\"text\"]\n",
    "    print(\"\\n✂️ SUMMARY AGENT distilling the research\\n\")\n",
    "    \n",
    "    # Agent 2: Ask the summary agent to create a concise summary\n",
    "    summary_response = summary_agent(\n",
    "        f\"Please create a concise summary of this research: {research_text}\"\n",
    "    )\n",
    "    summary_text = summary_response.message.content[0][\"text\"]\n",
    "    \n",
    "    print(summary_text)\n",
    "except Exception as e:\n",
    "    print(f\"Error in research assistant: {str(e)}\")"
   ]
  },
  {
   "cell_type": "markdown",
   "metadata": {},
   "source": [
    "## Congrats!\n",
    "\n",
    "You've learned how to use agents as tools in Strands Agents to create more complex agentic applications"
   ]
  }
 ],
 "metadata": {
  "kernelspec": {
   "display_name": "Python 3 (ipykernel)",
   "language": "python",
   "name": "python3"
  },
  "language_info": {
   "codemirror_mode": {
    "name": "ipython",
    "version": 3
   },
   "file_extension": ".py",
   "mimetype": "text/x-python",
   "name": "python",
   "nbconvert_exporter": "python",
   "pygments_lexer": "ipython3",
   "version": "3.11.13"
  }
 },
 "nbformat": 4,
 "nbformat_minor": 4
}
