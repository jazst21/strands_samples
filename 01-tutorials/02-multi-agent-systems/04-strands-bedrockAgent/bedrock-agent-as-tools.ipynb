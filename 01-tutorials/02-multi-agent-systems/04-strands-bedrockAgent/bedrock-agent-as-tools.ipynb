{
 "cells": [
  {
   "cell_type": "markdown",
   "metadata": {
    "pycharm": {
     "name": "#%% md\n"
    }
   },
   "source": [
    "# Bedrock Agents as Tools with Strands Agents\n",
    "Strands agents and Amazon Bedrock agents can seamlessly collaborate within a multi-agent system. By wrapping an existing Bedrock agent as a tool, a new Strands agent can invoke and interact with the Bedrock agent—enabling powerful workflows without needing to rewrite or modify the original Bedrock agent. This approach allows you to combine the strengths of both platforms, orchestrating tasks and sharing information between agents through well-defined interfaces.\n",
    "\n",
    "In this lab, you'll learn how to invoke an Amazon Bedrock agent from a Strands agent by wrapping the Bedrock agent as a tool. This approach enables seamless integration of external AI services into your multi-agent workflows using the \"agents as tools\" pattern."
   ]
  },
  {
   "cell_type": "markdown",
   "metadata": {
    "pycharm": {
     "name": "#%%\n"
    }
   },
   "source": [
    "\"Agents as Tools\" is an architectural pattern in AI systems where specialized AI agents are wrapped as callable functions (tools) that can be used by other agents. This creates a hierarchical structure where:\n",
    "\n",
    "1. A primary \"orchestrator\" agent handles user interaction and determines which specialized agent to call\n",
    "\n",
    "2. Specialized \"tool agents\" perform domain-specific tasks when called by the orchestrator\n",
    "\n",
    "This approach mimics human team dynamics, where a manager coordinates specialists, each bringing unique expertise to solve complex problems. Rather than a single agent trying to handle everything, tasks are delegated to the most appropriate specialized agent.\n",
    "\n"
   ]
  },
  {
   "cell_type": "markdown",
   "metadata": {
    "vscode": {
     "languageId": "plaintext"
    }
   },
   "source": [
    "## Key Benefits and Core Principles"
   ]
  },
  {
   "cell_type": "markdown",
   "metadata": {
    "vscode": {
     "languageId": "plaintext"
    }
   },
   "source": [
    "The \"Agents as Tools\" pattern offers several advantages:\n",
    "\n",
    "- Separation of concerns: Each agent has a focused area of responsibility, making the system easier to understand and maintain\n",
    "- Hierarchical delegation: The orchestrator decides which specialist to invoke, creating a clear chain of command\n",
    "- Modular architecture: Specialists can be added, removed, or modified independently without affecting the entire system\n",
    "- Improved performance: Each agent can have tailored system prompts and tools optimized for its specific task\n"
   ]
  },
  {
   "cell_type": "code",
   "execution_count": 4,
   "metadata": {},
   "outputs": [
    {
     "name": "stdout",
     "output_type": "stream",
     "text": [
      "Requirement already satisfied: boto3 in /usr/local/python/3.11.13/lib/python3.11/site-packages (from -r requirements.txt (line 1)) (1.39.6)\n",
      "Requirement already satisfied: strands-agents in /usr/local/python/3.11.13/lib/python3.11/site-packages (from -r requirements.txt (line 2)) (1.0.0)\n",
      "Requirement already satisfied: strands-agents-tools in /usr/local/python/3.11.13/lib/python3.11/site-packages (from -r requirements.txt (line 3)) (0.2.0)\n",
      "Requirement already satisfied: botocore<1.40.0,>=1.39.6 in /usr/local/python/3.11.13/lib/python3.11/site-packages (from boto3->-r requirements.txt (line 1)) (1.39.6)\n",
      "Requirement already satisfied: jmespath<2.0.0,>=0.7.1 in /usr/local/python/3.11.13/lib/python3.11/site-packages (from boto3->-r requirements.txt (line 1)) (1.0.1)\n",
      "Requirement already satisfied: s3transfer<0.14.0,>=0.13.0 in /usr/local/python/3.11.13/lib/python3.11/site-packages (from boto3->-r requirements.txt (line 1)) (0.13.0)\n",
      "Requirement already satisfied: python-dateutil<3.0.0,>=2.1 in /usr/local/python/3.11.13/lib/python3.11/site-packages (from botocore<1.40.0,>=1.39.6->boto3->-r requirements.txt (line 1)) (2.9.0.post0)\n",
      "Requirement already satisfied: urllib3!=2.2.0,<3,>=1.25.4 in /usr/local/python/3.11.13/lib/python3.11/site-packages (from botocore<1.40.0,>=1.39.6->boto3->-r requirements.txt (line 1)) (2.5.0)\n",
      "Requirement already satisfied: six>=1.5 in /usr/local/python/3.11.13/lib/python3.11/site-packages (from python-dateutil<3.0.0,>=2.1->botocore<1.40.0,>=1.39.6->boto3->-r requirements.txt (line 1)) (1.17.0)\n",
      "Requirement already satisfied: docstring-parser<1.0,>=0.15 in /usr/local/python/3.11.13/lib/python3.11/site-packages (from strands-agents->-r requirements.txt (line 2)) (0.16)\n",
      "Requirement already satisfied: mcp<2.0.0,>=1.8.0 in /usr/local/python/3.11.13/lib/python3.11/site-packages (from strands-agents->-r requirements.txt (line 2)) (1.11.0)\n",
      "Requirement already satisfied: opentelemetry-api<2.0.0,>=1.30.0 in /usr/local/python/3.11.13/lib/python3.11/site-packages (from strands-agents->-r requirements.txt (line 2)) (1.35.0)\n",
      "Requirement already satisfied: opentelemetry-instrumentation-threading<1.00b0,>=0.51b0 in /usr/local/python/3.11.13/lib/python3.11/site-packages (from strands-agents->-r requirements.txt (line 2)) (0.56b0)\n",
      "Requirement already satisfied: opentelemetry-sdk<2.0.0,>=1.30.0 in /usr/local/python/3.11.13/lib/python3.11/site-packages (from strands-agents->-r requirements.txt (line 2)) (1.35.0)\n",
      "Requirement already satisfied: pydantic<3.0.0,>=2.0.0 in /usr/local/python/3.11.13/lib/python3.11/site-packages (from strands-agents->-r requirements.txt (line 2)) (2.11.7)\n",
      "Requirement already satisfied: typing-extensions<5.0.0,>=4.13.2 in /usr/local/python/3.11.13/lib/python3.11/site-packages (from strands-agents->-r requirements.txt (line 2)) (4.14.1)\n",
      "Requirement already satisfied: watchdog<7.0.0,>=6.0.0 in /usr/local/python/3.11.13/lib/python3.11/site-packages (from strands-agents->-r requirements.txt (line 2)) (6.0.0)\n",
      "Requirement already satisfied: anyio>=4.5 in /usr/local/python/3.11.13/lib/python3.11/site-packages (from mcp<2.0.0,>=1.8.0->strands-agents->-r requirements.txt (line 2)) (4.9.0)\n",
      "Requirement already satisfied: httpx-sse>=0.4 in /usr/local/python/3.11.13/lib/python3.11/site-packages (from mcp<2.0.0,>=1.8.0->strands-agents->-r requirements.txt (line 2)) (0.4.1)\n",
      "Requirement already satisfied: httpx>=0.27 in /usr/local/python/3.11.13/lib/python3.11/site-packages (from mcp<2.0.0,>=1.8.0->strands-agents->-r requirements.txt (line 2)) (0.28.1)\n",
      "Requirement already satisfied: jsonschema>=4.20.0 in /usr/local/python/3.11.13/lib/python3.11/site-packages (from mcp<2.0.0,>=1.8.0->strands-agents->-r requirements.txt (line 2)) (4.24.0)\n",
      "Requirement already satisfied: pydantic-settings>=2.5.2 in /usr/local/python/3.11.13/lib/python3.11/site-packages (from mcp<2.0.0,>=1.8.0->strands-agents->-r requirements.txt (line 2)) (2.10.1)\n",
      "Requirement already satisfied: python-multipart>=0.0.9 in /usr/local/python/3.11.13/lib/python3.11/site-packages (from mcp<2.0.0,>=1.8.0->strands-agents->-r requirements.txt (line 2)) (0.0.20)\n",
      "Requirement already satisfied: sse-starlette>=1.6.1 in /usr/local/python/3.11.13/lib/python3.11/site-packages (from mcp<2.0.0,>=1.8.0->strands-agents->-r requirements.txt (line 2)) (2.4.1)\n",
      "Requirement already satisfied: starlette>=0.27 in /usr/local/python/3.11.13/lib/python3.11/site-packages (from mcp<2.0.0,>=1.8.0->strands-agents->-r requirements.txt (line 2)) (0.47.1)\n",
      "Requirement already satisfied: uvicorn>=0.23.1 in /usr/local/python/3.11.13/lib/python3.11/site-packages (from mcp<2.0.0,>=1.8.0->strands-agents->-r requirements.txt (line 2)) (0.35.0)\n",
      "Requirement already satisfied: importlib-metadata<8.8.0,>=6.0 in /usr/local/python/3.11.13/lib/python3.11/site-packages (from opentelemetry-api<2.0.0,>=1.30.0->strands-agents->-r requirements.txt (line 2)) (8.7.0)\n",
      "Requirement already satisfied: zipp>=3.20 in /usr/local/python/3.11.13/lib/python3.11/site-packages (from importlib-metadata<8.8.0,>=6.0->opentelemetry-api<2.0.0,>=1.30.0->strands-agents->-r requirements.txt (line 2)) (3.23.0)\n",
      "Requirement already satisfied: opentelemetry-instrumentation==0.56b0 in /usr/local/python/3.11.13/lib/python3.11/site-packages (from opentelemetry-instrumentation-threading<1.00b0,>=0.51b0->strands-agents->-r requirements.txt (line 2)) (0.56b0)\n",
      "Requirement already satisfied: wrapt<2.0.0,>=1.0.0 in /usr/local/python/3.11.13/lib/python3.11/site-packages (from opentelemetry-instrumentation-threading<1.00b0,>=0.51b0->strands-agents->-r requirements.txt (line 2)) (1.17.2)\n",
      "Requirement already satisfied: opentelemetry-semantic-conventions==0.56b0 in /usr/local/python/3.11.13/lib/python3.11/site-packages (from opentelemetry-instrumentation==0.56b0->opentelemetry-instrumentation-threading<1.00b0,>=0.51b0->strands-agents->-r requirements.txt (line 2)) (0.56b0)\n",
      "Requirement already satisfied: packaging>=18.0 in /usr/local/python/3.11.13/lib/python3.11/site-packages (from opentelemetry-instrumentation==0.56b0->opentelemetry-instrumentation-threading<1.00b0,>=0.51b0->strands-agents->-r requirements.txt (line 2)) (24.2)\n",
      "Requirement already satisfied: annotated-types>=0.6.0 in /usr/local/python/3.11.13/lib/python3.11/site-packages (from pydantic<3.0.0,>=2.0.0->strands-agents->-r requirements.txt (line 2)) (0.7.0)\n",
      "Requirement already satisfied: pydantic-core==2.33.2 in /usr/local/python/3.11.13/lib/python3.11/site-packages (from pydantic<3.0.0,>=2.0.0->strands-agents->-r requirements.txt (line 2)) (2.33.2)\n",
      "Requirement already satisfied: typing-inspection>=0.4.0 in /usr/local/python/3.11.13/lib/python3.11/site-packages (from pydantic<3.0.0,>=2.0.0->strands-agents->-r requirements.txt (line 2)) (0.4.1)\n",
      "Requirement already satisfied: aws-requests-auth<0.5.0,>=0.4.3 in /usr/local/python/3.11.13/lib/python3.11/site-packages (from strands-agents-tools->-r requirements.txt (line 3)) (0.4.3)\n",
      "Requirement already satisfied: dill<0.5.0,>=0.4.0 in /usr/local/python/3.11.13/lib/python3.11/site-packages (from strands-agents-tools->-r requirements.txt (line 3)) (0.4.0)\n",
      "Requirement already satisfied: markdownify<2.0.0,>=1.0.0 in /usr/local/python/3.11.13/lib/python3.11/site-packages (from strands-agents-tools->-r requirements.txt (line 3)) (1.1.0)\n",
      "Requirement already satisfied: pillow<12.0.0,>=11.2.1 in /usr/local/python/3.11.13/lib/python3.11/site-packages (from strands-agents-tools->-r requirements.txt (line 3)) (11.3.0)\n",
      "Requirement already satisfied: prompt-toolkit<4.0.0,>=3.0.51 in /usr/local/python/3.11.13/lib/python3.11/site-packages (from strands-agents-tools->-r requirements.txt (line 3)) (3.0.51)\n",
      "Requirement already satisfied: pyjwt<3.0.0,>=2.10.1 in /usr/local/python/3.11.13/lib/python3.11/site-packages (from strands-agents-tools->-r requirements.txt (line 3)) (2.10.1)\n",
      "Requirement already satisfied: readabilipy<1.0.0,>=0.2.0 in /usr/local/python/3.11.13/lib/python3.11/site-packages (from strands-agents-tools->-r requirements.txt (line 3)) (0.3.0)\n",
      "Requirement already satisfied: rich<15.0.0,>=14.0.0 in /usr/local/python/3.11.13/lib/python3.11/site-packages (from strands-agents-tools->-r requirements.txt (line 3)) (14.0.0)\n",
      "Requirement already satisfied: slack-bolt<2.0.0,>=1.23.0 in /usr/local/python/3.11.13/lib/python3.11/site-packages (from strands-agents-tools->-r requirements.txt (line 3)) (1.23.0)\n",
      "Requirement already satisfied: sympy<2.0.0,>=1.12.0 in /usr/local/python/3.11.13/lib/python3.11/site-packages (from strands-agents-tools->-r requirements.txt (line 3)) (1.14.0)\n",
      "Requirement already satisfied: tenacity<10.0.0,>=9.1.2 in /usr/local/python/3.11.13/lib/python3.11/site-packages (from strands-agents-tools->-r requirements.txt (line 3)) (9.1.2)\n",
      "Requirement already satisfied: requests>=0.14.0 in /usr/local/python/3.11.13/lib/python3.11/site-packages (from aws-requests-auth<0.5.0,>=0.4.3->strands-agents-tools->-r requirements.txt (line 3)) (2.32.4)\n",
      "Requirement already satisfied: beautifulsoup4<5,>=4.9 in /usr/local/python/3.11.13/lib/python3.11/site-packages (from markdownify<2.0.0,>=1.0.0->strands-agents-tools->-r requirements.txt (line 3)) (4.13.4)\n",
      "Requirement already satisfied: soupsieve>1.2 in /usr/local/python/3.11.13/lib/python3.11/site-packages (from beautifulsoup4<5,>=4.9->markdownify<2.0.0,>=1.0.0->strands-agents-tools->-r requirements.txt (line 3)) (2.7)\n",
      "Requirement already satisfied: wcwidth in /usr/local/python/3.11.13/lib/python3.11/site-packages (from prompt-toolkit<4.0.0,>=3.0.51->strands-agents-tools->-r requirements.txt (line 3)) (0.2.13)\n",
      "Requirement already satisfied: html5lib in /usr/local/python/3.11.13/lib/python3.11/site-packages (from readabilipy<1.0.0,>=0.2.0->strands-agents-tools->-r requirements.txt (line 3)) (1.1)\n",
      "Requirement already satisfied: lxml in /usr/local/python/3.11.13/lib/python3.11/site-packages (from readabilipy<1.0.0,>=0.2.0->strands-agents-tools->-r requirements.txt (line 3)) (6.0.0)\n",
      "Requirement already satisfied: regex in /usr/local/python/3.11.13/lib/python3.11/site-packages (from readabilipy<1.0.0,>=0.2.0->strands-agents-tools->-r requirements.txt (line 3)) (2024.11.6)\n",
      "Requirement already satisfied: markdown-it-py>=2.2.0 in /usr/local/python/3.11.13/lib/python3.11/site-packages (from rich<15.0.0,>=14.0.0->strands-agents-tools->-r requirements.txt (line 3)) (3.0.0)\n",
      "Requirement already satisfied: pygments<3.0.0,>=2.13.0 in /usr/local/python/3.11.13/lib/python3.11/site-packages (from rich<15.0.0,>=14.0.0->strands-agents-tools->-r requirements.txt (line 3)) (2.19.2)\n",
      "Requirement already satisfied: slack_sdk<4,>=3.35.0 in /usr/local/python/3.11.13/lib/python3.11/site-packages (from slack-bolt<2.0.0,>=1.23.0->strands-agents-tools->-r requirements.txt (line 3)) (3.36.0)\n",
      "Requirement already satisfied: mpmath<1.4,>=1.1.0 in /usr/local/python/3.11.13/lib/python3.11/site-packages (from sympy<2.0.0,>=1.12.0->strands-agents-tools->-r requirements.txt (line 3)) (1.3.0)\n",
      "Requirement already satisfied: idna>=2.8 in /usr/local/python/3.11.13/lib/python3.11/site-packages (from anyio>=4.5->mcp<2.0.0,>=1.8.0->strands-agents->-r requirements.txt (line 2)) (3.10)\n",
      "Requirement already satisfied: sniffio>=1.1 in /usr/local/python/3.11.13/lib/python3.11/site-packages (from anyio>=4.5->mcp<2.0.0,>=1.8.0->strands-agents->-r requirements.txt (line 2)) (1.3.1)\n",
      "Requirement already satisfied: certifi in /usr/local/python/3.11.13/lib/python3.11/site-packages (from httpx>=0.27->mcp<2.0.0,>=1.8.0->strands-agents->-r requirements.txt (line 2)) (2025.7.14)\n",
      "Requirement already satisfied: httpcore==1.* in /usr/local/python/3.11.13/lib/python3.11/site-packages (from httpx>=0.27->mcp<2.0.0,>=1.8.0->strands-agents->-r requirements.txt (line 2)) (1.0.9)\n",
      "Requirement already satisfied: h11>=0.16 in /usr/local/python/3.11.13/lib/python3.11/site-packages (from httpcore==1.*->httpx>=0.27->mcp<2.0.0,>=1.8.0->strands-agents->-r requirements.txt (line 2)) (0.16.0)\n",
      "Requirement already satisfied: attrs>=22.2.0 in /usr/local/python/3.11.13/lib/python3.11/site-packages (from jsonschema>=4.20.0->mcp<2.0.0,>=1.8.0->strands-agents->-r requirements.txt (line 2)) (25.3.0)\n",
      "Requirement already satisfied: jsonschema-specifications>=2023.03.6 in /usr/local/python/3.11.13/lib/python3.11/site-packages (from jsonschema>=4.20.0->mcp<2.0.0,>=1.8.0->strands-agents->-r requirements.txt (line 2)) (2025.4.1)\n",
      "Requirement already satisfied: referencing>=0.28.4 in /usr/local/python/3.11.13/lib/python3.11/site-packages (from jsonschema>=4.20.0->mcp<2.0.0,>=1.8.0->strands-agents->-r requirements.txt (line 2)) (0.36.2)\n",
      "Requirement already satisfied: rpds-py>=0.7.1 in /usr/local/python/3.11.13/lib/python3.11/site-packages (from jsonschema>=4.20.0->mcp<2.0.0,>=1.8.0->strands-agents->-r requirements.txt (line 2)) (0.26.0)\n",
      "Requirement already satisfied: mdurl~=0.1 in /usr/local/python/3.11.13/lib/python3.11/site-packages (from markdown-it-py>=2.2.0->rich<15.0.0,>=14.0.0->strands-agents-tools->-r requirements.txt (line 3)) (0.1.2)\n",
      "Requirement already satisfied: python-dotenv>=0.21.0 in /usr/local/python/3.11.13/lib/python3.11/site-packages (from pydantic-settings>=2.5.2->mcp<2.0.0,>=1.8.0->strands-agents->-r requirements.txt (line 2)) (1.1.1)\n",
      "Requirement already satisfied: charset_normalizer<4,>=2 in /usr/local/python/3.11.13/lib/python3.11/site-packages (from requests>=0.14.0->aws-requests-auth<0.5.0,>=0.4.3->strands-agents-tools->-r requirements.txt (line 3)) (3.4.2)\n",
      "Requirement already satisfied: click>=7.0 in /usr/local/python/3.11.13/lib/python3.11/site-packages (from uvicorn>=0.23.1->mcp<2.0.0,>=1.8.0->strands-agents->-r requirements.txt (line 2)) (8.2.1)\n",
      "Requirement already satisfied: webencodings in /usr/local/python/3.11.13/lib/python3.11/site-packages (from html5lib->readabilipy<1.0.0,>=0.2.0->strands-agents-tools->-r requirements.txt (line 3)) (0.5.1)\n",
      "\u001b[33mWARNING: Running pip as the 'root' user can result in broken permissions and conflicting behaviour with the system package manager, possibly rendering your system unusable. It is recommended to use a virtual environment instead: https://pip.pypa.io/warnings/venv. Use the --root-user-action option if you know what you are doing and want to suppress this warning.\u001b[0m\u001b[33m\n",
      "\u001b[0m"
     ]
    }
   ],
   "source": [
    "!pip install -r requirements.txt"
   ]
  },
  {
   "cell_type": "code",
   "execution_count": 12,
   "metadata": {},
   "outputs": [],
   "source": [
    "import logging\n",
    "import boto3\n",
    "import json\n",
    "from botocore.exceptions import ClientError\n",
    "from typing import Dict, Any\n",
    "# Set up logging\n",
    "logging.basicConfig(level=logging.INFO)\n",
    "logger = logging.getLogger(__name__)\n",
    "\n",
    "class BedrockAgentManager:\n",
    "    def __init__(self, region_name='us-west-2'):\n",
    "        \"\"\"\n",
    "        Initialize the BedrockAgentManager with a boto3 client.\n",
    "        \n",
    "        :param region_name: AWS region name (default: us-west-2)\n",
    "        \"\"\"\n",
    "        self.client = boto3.client('bedrock-agent', region_name=region_name)\n",
    "        self.agent_id = None\n",
    "        self.logger = logging.getLogger(__name__)\n",
    "        \n",
    "    def create_research_agent(\n",
    "            self,\n",
    "            agent_name: str,\n",
    "            role_arn: str,\n",
    "            foundation_model: str = \"anthropic.claude-v2\"\n",
    "        ) -> Dict[str, Any]:\n",
    "            \"\"\"\n",
    "            Creates a research agent using Amazon Bedrock.\n",
    "            \n",
    "            :param agent_name: Name for the research agent\n",
    "            :param role_arn: ARN of the IAM role with necessary permissions\n",
    "            :param foundation_model: The foundation model to be used (default: Claude v2)\n",
    "            :return: The created agent's details if successful\n",
    "            \"\"\"\n",
    "            # Define the research assistant instructions\n",
    "            instruction = \"\"\"\n",
    "            You are a research assistant specialized in gathering and analyzing information.\n",
    "            \n",
    "            Your responsibilities include:\n",
    "            1. Conducting thorough research on given topics\n",
    "            2. Providing comprehensive, factual information\n",
    "            3. Structuring responses with clear sections\n",
    "            4. Including citations and sources where possible\n",
    "            5. Highlighting key findings and insights\n",
    "            \n",
    "            When responding to queries:\n",
    "            - Start with a brief overview\n",
    "            - Break down complex topics into digestible sections\n",
    "            - Use bullet points for key information\n",
    "            - Cite sources when providing specific facts\n",
    "            - Conclude with key takeaways\n",
    "            \n",
    "            Always maintain:\n",
    "            - Accuracy in information\n",
    "            - Objectivity in analysis\n",
    "            - Clear organization of content\n",
    "            - Professional tone\n",
    "            \"\"\"\n",
    "            \n",
    "            try:\n",
    "                # Create the agent\n",
    "                response = self.client.create_agent(\n",
    "                    agentName=agent_name,\n",
    "                    foundationModel=foundation_model,\n",
    "                    agentResourceRoleArn=role_arn,\n",
    "                    instruction=instruction,\n",
    "                )\n",
    "                \n",
    "                self.agent_id = response[\"agent\"][\"agentId\"]\n",
    "                self.logger.info(f\"Successfully created research agent: {agent_name}\")\n",
    "                self.logger.info(f\"Bedrock Agent ID: {self.agent_id}\")\n",
    "                import os\n",
    "                os.environ[\"BEDROCK_AGENT_ID\"] = self.agent_id\n",
    "                self.logger.info(\"Exported Bedrock Agent ID as environment variable BEDROCK_AGENT_ID\")\n",
    "                return response[\"agent\"]\n",
    "                \n",
    "            except ClientError as e:\n",
    "                self.logger.error(f\"Error: Couldn't create research agent. Here's why: {e}\")\n",
    "                raise\n"
   ]
  },
  {
   "cell_type": "code",
   "execution_count": 13,
   "metadata": {},
   "outputs": [
    {
     "name": "stdout",
     "output_type": "stream",
     "text": [
      "Current principal ARN for delegation: arn:aws:iam::334734167946:user/computer-use\n",
      "IAM role 'BedrockAgentRole' already exists.\n",
      "Policy 'arn:aws:iam::aws:policy/AmazonBedrockFullAccess' attached to role 'BedrockAgentRole'.\n",
      "Using IAM Role ARN: arn:aws:iam::334734167946:role/BedrockAgentRole\n"
     ]
    },
    {
     "name": "stderr",
     "output_type": "stream",
     "text": [
      "INFO:__main__:Successfully created research agent: ResearchAssistant\n",
      "INFO:__main__:Bedrock Agent ID: 1YUJ2BQP1I\n",
      "INFO:__main__:Exported Bedrock Agent ID as environment variable BEDROCK_AGENT_ID\n"
     ]
    },
    {
     "name": "stdout",
     "output_type": "stream",
     "text": [
      "Research agent created successfully!\n",
      "Agent ID: 1YUJ2BQP1I\n"
     ]
    }
   ],
   "source": [
    "# Initialize the BedrockAgentManager\n",
    "agent_manager = BedrockAgentManager()\n",
    "\n",
    "import boto3\n",
    "import json\n",
    "\n",
    "# Get the ARN of the currently active role from the credentials\n",
    "sts_client = boto3.client('sts')\n",
    "caller_identity = sts_client.get_caller_identity()\n",
    "current_role_arn = None\n",
    "\n",
    "# Try to infer the role ARN from the caller identity (works if using assumed role)\n",
    "arn = caller_identity.get(\"Arn\", \"\")\n",
    "if \":assumed-role/\" in arn:\n",
    "    # arn:aws:sts::<account-id>:assumed-role/<role-name>/<session-name>\n",
    "    # Convert to IAM role ARN: arn:aws:iam::<account-id>:role/<role-name>\n",
    "    parts = arn.split(\":assumed-role/\")\n",
    "    account_id = caller_identity[\"Account\"]\n",
    "    role_name = parts[1].split(\"/\")[0]\n",
    "    current_role_arn = f\"arn:aws:iam::{account_id}:role/{role_name}\"\n",
    "else:\n",
    "    # Fallback: use the full ARN (may be a user, not a role)\n",
    "    current_role_arn = arn\n",
    "\n",
    "print(f\"Current principal ARN for delegation: {current_role_arn}\")\n",
    "\n",
    "# Create the required IAM role for Bedrock Agent\n",
    "iam_client = boto3.client('iam')\n",
    "\n",
    "role_name = \"BedrockAgentRole\"\n",
    "assume_role_policy_document = {\n",
    "    \"Version\": \"2012-10-17\",\n",
    "    \"Statement\": [\n",
    "        {\n",
    "            \"Effect\": \"Allow\",\n",
    "            \"Principal\": {\n",
    "                \"Service\": \"bedrock.amazonaws.com\"\n",
    "            },\n",
    "            \"Action\": \"sts:AssumeRole\"\n",
    "        },\n",
    "        {\n",
    "            \"Effect\": \"Allow\",\n",
    "            \"Principal\": {\n",
    "                \"AWS\": current_role_arn\n",
    "            },\n",
    "            \"Action\": \"sts:AssumeRole\"\n",
    "        }\n",
    "    ]\n",
    "}\n",
    "\n",
    "try:\n",
    "    create_role_response = iam_client.create_role(\n",
    "        RoleName=role_name,\n",
    "        AssumeRolePolicyDocument=json.dumps(assume_role_policy_document),\n",
    "        Description=\"Role for Bedrock Agent with required permissions\"\n",
    "    )\n",
    "    print(f\"IAM role '{role_name}' created successfully.\")\n",
    "except iam_client.exceptions.EntityAlreadyExistsException:\n",
    "    print(f\"IAM role '{role_name}' already exists.\")\n",
    "\n",
    "# Attach the required policy to the role (replace with actual policy ARN as needed)\n",
    "policy_arn = \"arn:aws:iam::aws:policy/AmazonBedrockFullAccess\"\n",
    "try:\n",
    "    iam_client.attach_role_policy(\n",
    "        RoleName=role_name,\n",
    "        PolicyArn=policy_arn\n",
    "    )\n",
    "    print(f\"Policy '{policy_arn}' attached to role '{role_name}'.\")\n",
    "except Exception as e:\n",
    "    print(f\"Failed to attach policy: {e}\")\n",
    "\n",
    "# Get the role ARN\n",
    "role = iam_client.get_role(RoleName=role_name)\n",
    "role_arn = role['Role']['Arn']\n",
    "print(f\"Using IAM Role ARN: {role_arn}\")\n",
    "\n",
    "try:\n",
    "    # Create the research agent\n",
    "    agent = agent_manager.create_research_agent(\n",
    "        agent_name=\"ResearchAssistant\",\n",
    "        role_arn=role_arn\n",
    "    )\n",
    "    print(\"Research agent created successfully!\")\n",
    "    print(f\"Agent ID: {agent_manager.agent_id}\")\n",
    "except Exception as e:\n",
    "    print(f\"Failed to create research agent: {str(e)}\")\n"
   ]
  },
  {
   "cell_type": "markdown",
   "metadata": {},
   "source": [
    "In this module we will be creating an orchestrator based multi-agent workflow. \n",
    "\n",
    "<div style=\"text-align:left\">\n",
    "    <img src=\"images/architecture.png\" width=\"75%\" />\n",
    "</div>\n"
   ]
  },
  {
   "cell_type": "markdown",
   "metadata": {},
   "source": [
    "## Research Agent"
   ]
  },
  {
   "cell_type": "markdown",
   "metadata": {},
   "source": [
    "Lets create strands bedrock agent as tool"
   ]
  },
  {
   "cell_type": "markdown",
   "metadata": {},
   "source": [
    "### Orchestrator Agent"
   ]
  },
  {
   "cell_type": "code",
   "execution_count": 17,
   "metadata": {},
   "outputs": [],
   "source": [
    "import os\n",
    "from strands import Agent, tool\n",
    "from strands_tools import file_write\n",
    "import boto3\n",
    "\n",
    "@tool(name=\"bedrock_research_assistant\")\n",
    "def bedrock_research_assistant(query: str) -> str:\n",
    "    \"\"\"Process and respond to research-related queries using Amazon Bedrock Agent.\"\"\"\n",
    "    try:\n",
    "        # Initialize Bedrock Agent Runtime client\n",
    "        bedrock_agent_runtime = boto3.client('bedrock-agent-runtime', region_name='us-west-2')\n",
    "        \n",
    "        # Get agent ID from environment\n",
    "        agent_id = os.environ.get(\"BEDROCK_AGENT_ID\")\n",
    "        if not agent_id:\n",
    "            raise ValueError(\"BEDROCK_AGENT_ID environment variable is not set.\")\n",
    "\n",
    "        # Create a session\n",
    "        session_response = bedrock_agent_runtime.create_session(agentId=agent_id)\n",
    "        session_id = session_response['sessionId']\n",
    "        \n",
    "        # Invoke the agent\n",
    "        response = bedrock_agent_runtime.invoke_agent(\n",
    "            agentId=agent_id,\n",
    "            sessionId=session_id,\n",
    "            input={'text': query}\n",
    "        )\n",
    "        \n",
    "        # Close the session\n",
    "        bedrock_agent_runtime.delete_session(agentId=agent_id, sessionId=session_id)\n",
    "        \n",
    "        return response['completion']\n",
    "    except Exception as e:\n",
    "        return f\"Error in Bedrock research assistant: {str(e)}\"\n"
   ]
  },
  {
   "cell_type": "code",
   "execution_count": 18,
   "metadata": {},
   "outputs": [],
   "source": [
    "# Define orchestrator system prompt with clear tool selection guidance\n",
    "MAIN_SYSTEM_PROMPT = \"\"\"\n",
    "You are an assistant that routes queries to specialized agents:\n",
    "- For research questions and factual information → Use the bedrock_research_assistant tool\n",
    "- For product recommendations and shopping advice → Answer directly\n",
    "- For travel planning and itineraries → Answer directly\n",
    "- For simple questions not requiring specialized knowledge → Answer directly\n",
    "\n",
    "Always select the most appropriate tool based on the user's query.\n",
    "\"\"\""
   ]
  },
  {
   "cell_type": "code",
   "execution_count": 19,
   "metadata": {},
   "outputs": [
    {
     "name": "stderr",
     "output_type": "stream",
     "text": [
      "INFO:botocore.credentials:Found credentials in shared credentials file: ~/.aws/credentials\n"
     ]
    }
   ],
   "source": [
    "# Strands Agents allows easy integration of agent tools\n",
    "orchestrator = Agent(\n",
    "    system_prompt=MAIN_SYSTEM_PROMPT,\n",
    "    tools=[\n",
    "        bedrock_research_assistant,\n",
    "        file_write,\n",
    "    ],\n",
    ")"
   ]
  },
  {
   "cell_type": "code",
   "execution_count": 20,
   "metadata": {},
   "outputs": [
    {
     "name": "stdout",
     "output_type": "stream",
     "text": [
      "Requirement already satisfied: langfuse in /usr/local/python/3.11.13/lib/python3.11/site-packages (3.2.0)\n",
      "Requirement already satisfied: backoff>=1.10.0 in /usr/local/python/3.11.13/lib/python3.11/site-packages (from langfuse) (2.2.1)\n",
      "Requirement already satisfied: httpx<1.0,>=0.15.4 in /usr/local/python/3.11.13/lib/python3.11/site-packages (from langfuse) (0.28.1)\n",
      "Requirement already satisfied: opentelemetry-api<2.0.0,>=1.33.1 in /usr/local/python/3.11.13/lib/python3.11/site-packages (from langfuse) (1.35.0)\n",
      "Requirement already satisfied: opentelemetry-exporter-otlp<2.0.0,>=1.33.1 in /usr/local/python/3.11.13/lib/python3.11/site-packages (from langfuse) (1.35.0)\n",
      "Requirement already satisfied: opentelemetry-sdk<2.0.0,>=1.33.1 in /usr/local/python/3.11.13/lib/python3.11/site-packages (from langfuse) (1.35.0)\n",
      "Requirement already satisfied: packaging<25.0,>=23.2 in /usr/local/python/3.11.13/lib/python3.11/site-packages (from langfuse) (24.2)\n",
      "Requirement already satisfied: pydantic<3.0,>=1.10.7 in /usr/local/python/3.11.13/lib/python3.11/site-packages (from langfuse) (2.11.7)\n",
      "Requirement already satisfied: requests<3,>=2 in /usr/local/python/3.11.13/lib/python3.11/site-packages (from langfuse) (2.32.4)\n",
      "Requirement already satisfied: wrapt<2.0,>=1.14 in /usr/local/python/3.11.13/lib/python3.11/site-packages (from langfuse) (1.17.2)\n",
      "Requirement already satisfied: anyio in /usr/local/python/3.11.13/lib/python3.11/site-packages (from httpx<1.0,>=0.15.4->langfuse) (4.9.0)\n",
      "Requirement already satisfied: certifi in /usr/local/python/3.11.13/lib/python3.11/site-packages (from httpx<1.0,>=0.15.4->langfuse) (2025.7.14)\n",
      "Requirement already satisfied: httpcore==1.* in /usr/local/python/3.11.13/lib/python3.11/site-packages (from httpx<1.0,>=0.15.4->langfuse) (1.0.9)\n",
      "Requirement already satisfied: idna in /usr/local/python/3.11.13/lib/python3.11/site-packages (from httpx<1.0,>=0.15.4->langfuse) (3.10)\n",
      "Requirement already satisfied: h11>=0.16 in /usr/local/python/3.11.13/lib/python3.11/site-packages (from httpcore==1.*->httpx<1.0,>=0.15.4->langfuse) (0.16.0)\n",
      "Requirement already satisfied: importlib-metadata<8.8.0,>=6.0 in /usr/local/python/3.11.13/lib/python3.11/site-packages (from opentelemetry-api<2.0.0,>=1.33.1->langfuse) (8.7.0)\n",
      "Requirement already satisfied: typing-extensions>=4.5.0 in /usr/local/python/3.11.13/lib/python3.11/site-packages (from opentelemetry-api<2.0.0,>=1.33.1->langfuse) (4.14.1)\n",
      "Requirement already satisfied: zipp>=3.20 in /usr/local/python/3.11.13/lib/python3.11/site-packages (from importlib-metadata<8.8.0,>=6.0->opentelemetry-api<2.0.0,>=1.33.1->langfuse) (3.23.0)\n",
      "Requirement already satisfied: opentelemetry-exporter-otlp-proto-grpc==1.35.0 in /usr/local/python/3.11.13/lib/python3.11/site-packages (from opentelemetry-exporter-otlp<2.0.0,>=1.33.1->langfuse) (1.35.0)\n",
      "Requirement already satisfied: opentelemetry-exporter-otlp-proto-http==1.35.0 in /usr/local/python/3.11.13/lib/python3.11/site-packages (from opentelemetry-exporter-otlp<2.0.0,>=1.33.1->langfuse) (1.35.0)\n",
      "Requirement already satisfied: googleapis-common-protos~=1.57 in /usr/local/python/3.11.13/lib/python3.11/site-packages (from opentelemetry-exporter-otlp-proto-grpc==1.35.0->opentelemetry-exporter-otlp<2.0.0,>=1.33.1->langfuse) (1.70.0)\n",
      "Requirement already satisfied: grpcio<2.0.0,>=1.63.2 in /usr/local/python/3.11.13/lib/python3.11/site-packages (from opentelemetry-exporter-otlp-proto-grpc==1.35.0->opentelemetry-exporter-otlp<2.0.0,>=1.33.1->langfuse) (1.73.1)\n",
      "Requirement already satisfied: opentelemetry-exporter-otlp-proto-common==1.35.0 in /usr/local/python/3.11.13/lib/python3.11/site-packages (from opentelemetry-exporter-otlp-proto-grpc==1.35.0->opentelemetry-exporter-otlp<2.0.0,>=1.33.1->langfuse) (1.35.0)\n",
      "Requirement already satisfied: opentelemetry-proto==1.35.0 in /usr/local/python/3.11.13/lib/python3.11/site-packages (from opentelemetry-exporter-otlp-proto-grpc==1.35.0->opentelemetry-exporter-otlp<2.0.0,>=1.33.1->langfuse) (1.35.0)\n",
      "Requirement already satisfied: protobuf<7.0,>=5.0 in /usr/local/python/3.11.13/lib/python3.11/site-packages (from opentelemetry-proto==1.35.0->opentelemetry-exporter-otlp-proto-grpc==1.35.0->opentelemetry-exporter-otlp<2.0.0,>=1.33.1->langfuse) (6.31.1)\n",
      "Requirement already satisfied: opentelemetry-semantic-conventions==0.56b0 in /usr/local/python/3.11.13/lib/python3.11/site-packages (from opentelemetry-sdk<2.0.0,>=1.33.1->langfuse) (0.56b0)\n",
      "Requirement already satisfied: annotated-types>=0.6.0 in /usr/local/python/3.11.13/lib/python3.11/site-packages (from pydantic<3.0,>=1.10.7->langfuse) (0.7.0)\n",
      "Requirement already satisfied: pydantic-core==2.33.2 in /usr/local/python/3.11.13/lib/python3.11/site-packages (from pydantic<3.0,>=1.10.7->langfuse) (2.33.2)\n",
      "Requirement already satisfied: typing-inspection>=0.4.0 in /usr/local/python/3.11.13/lib/python3.11/site-packages (from pydantic<3.0,>=1.10.7->langfuse) (0.4.1)\n",
      "Requirement already satisfied: charset_normalizer<4,>=2 in /usr/local/python/3.11.13/lib/python3.11/site-packages (from requests<3,>=2->langfuse) (3.4.2)\n",
      "Requirement already satisfied: urllib3<3,>=1.21.1 in /usr/local/python/3.11.13/lib/python3.11/site-packages (from requests<3,>=2->langfuse) (2.5.0)\n",
      "Requirement already satisfied: sniffio>=1.1 in /usr/local/python/3.11.13/lib/python3.11/site-packages (from anyio->httpx<1.0,>=0.15.4->langfuse) (1.3.1)\n",
      "\u001b[33mWARNING: Running pip as the 'root' user can result in broken permissions and conflicting behaviour with the system package manager, possibly rendering your system unusable. It is recommended to use a virtual environment instead: https://pip.pypa.io/warnings/venv. Use the --root-user-action option if you know what you are doing and want to suppress this warning.\u001b[0m\u001b[33m\n",
      "\u001b[0m"
     ]
    }
   ],
   "source": [
    "!pip install langfuse"
   ]
  },
  {
   "cell_type": "code",
   "execution_count": null,
   "metadata": {},
   "outputs": [],
   "source": [
    "from langfuse import Langfuse\n",
    "\n",
    "# Get keys for your project from the project settings page: https://cloud.langfuse.com\n",
    "public_key = \"pk\"\n",
    "secret_key = \"sk\"\n",
    "\n",
    "os.environ[\"LANGFUSE_HOST\"] = \"https://cloud.langfuse.com\" # 🇪🇺 EU region\n",
    "#os.environ[\"LANGFUSE_HOST\"] = \"https://us.cloud.langfuse.com\" # 🇺🇸 US region\n",
    "\n",
    "# Set up endpoint\n",
    "otel_endpoint = str(os.environ.get(\"LANGFUSE_HOST\")) + \"/api/public/otel/v1/traces\"\n",
    "\n",
    "# Create authentication token:\n",
    "import base64\n",
    "auth_token = base64.b64encode(f\"{public_key}:{secret_key}\".encode()).decode()\n",
    "os.environ[\"OTEL_EXPORTER_OTLP_ENDPOINT\"] = otel_endpoint\n",
    "os.environ[\"OTEL_EXPORTER_OTLP_HEADERS\"] = f\"Authorization=Basic {auth_token}\"\n",
    "\n",
    "langfuse = Langfuse(\n",
    "    public_key=public_key,\n",
    "    secret_key=secret_key,\n",
    "    host=\"https://cloud.langfuse.com\"\n",
    ")"
   ]
  },
  {
   "cell_type": "code",
   "execution_count": 23,
   "metadata": {},
   "outputs": [
    {
     "name": "stdout",
     "output_type": "stream",
     "text": [
      "I'll help you with hiking boot recommendations and then write the response to a file in the current directory.\n",
      "\n",
      "## Hiking Boot Recommendations\n",
      "\n",
      "When choosing hiking boots, consider these key factors:\n",
      "\n",
      "### **Top-Rated Hiking Boot Brands:**\n",
      "- **Merrell** - Great for beginners, comfortable and affordable\n",
      "- **Salomon** - Excellent for technical terrain and durability\n",
      "- **Keen** - Known for toe protection and wide fit options\n",
      "- **Vasque** - Superior support for heavy loads\n",
      "- **La Sportiva** - Premium quality for serious hikers\n",
      "\n",
      "### **Key Features to Look For:**\n",
      "1. **Waterproofing** - Gore-Tex or similar membrane\n",
      "2. **Ankle Support** - Mid or high-cut for stability\n",
      "3. **Sole Grip** - Vibram soles for traction\n",
      "4. **Breathability** - Mesh panels for ventilation\n",
      "5. **Proper Fit** - Room for toe movement, snug heel\n",
      "\n",
      "### **Popular Models:**\n",
      "- **Merrell Moab 3 Mid** - Versatile all-around boot\n",
      "- **Salomon X Ultra 4 Mid** - Lightweight with great grip\n",
      "- **Keen Targhee III Mid** - Waterproof with roomy toe box\n",
      "- **Vasque Breeze LT GTX** - Excellent for backpacking\n",
      "\n",
      "### **Sizing Tips:**\n",
      "- Shop in the afternoon when feet are slightly swollen\n",
      "- Wear hiking socks when trying on\n",
      "- Allow thumb-width space between longest toe and boot end\n",
      "- Consider half-size up for downhill hiking comfort\n",
      "\n",
      "Now I'll write this information to a file in the current directory:\n",
      "Tool #1: file_write\n"
     ]
    },
    {
     "data": {
      "text/html": [
       "<pre style=\"white-space:pre;overflow-x:auto;line-height:normal;font-family:Menlo,'DejaVu Sans Mono',consolas,'Courier New',monospace\"><span style=\"color: #000080; text-decoration-color: #000080\">╔════════ </span><span style=\"color: #000080; text-decoration-color: #000080; font-weight: bold\">File Write Operation</span><span style=\"color: #000080; text-decoration-color: #000080\"> ═════════╗</span>\n",
       "<span style=\"color: #000080; text-decoration-color: #000080\">║</span>                                       <span style=\"color: #000080; text-decoration-color: #000080\">║</span>\n",
       "<span style=\"color: #000080; text-decoration-color: #000080\">║</span> <span style=\"color: #008080; text-decoration-color: #008080\">Path: </span><span style=\"color: #808000; text-decoration-color: #808000\">hiking_boot_recommendations.txt</span> <span style=\"color: #000080; text-decoration-color: #000080\">║</span>\n",
       "<span style=\"color: #000080; text-decoration-color: #000080\">║</span> <span style=\"color: #008080; text-decoration-color: #008080\">Size: </span><span style=\"color: #808000; text-decoration-color: #808000\">1152 characters</span>                 <span style=\"color: #000080; text-decoration-color: #000080\">║</span>\n",
       "<span style=\"color: #000080; text-decoration-color: #000080\">║</span>                                       <span style=\"color: #000080; text-decoration-color: #000080\">║</span>\n",
       "<span style=\"color: #000080; text-decoration-color: #000080\">╚═══════════════════════════════════════╝</span>\n",
       "</pre>\n"
      ],
      "text/plain": [
       "\u001b[34m╔═\u001b[0m\u001b[34m═══════\u001b[0m\u001b[34m \u001b[0m\u001b[1;34mFile Write Operation\u001b[0m\u001b[34m \u001b[0m\u001b[34m════════\u001b[0m\u001b[34m═╗\u001b[0m\n",
       "\u001b[34m║\u001b[0m                                       \u001b[34m║\u001b[0m\n",
       "\u001b[34m║\u001b[0m \u001b[36mPath: \u001b[0m\u001b[33mhiking_boot_recommendations.txt\u001b[0m \u001b[34m║\u001b[0m\n",
       "\u001b[34m║\u001b[0m \u001b[36mSize: \u001b[0m\u001b[33m1152 characters\u001b[0m                 \u001b[34m║\u001b[0m\n",
       "\u001b[34m║\u001b[0m                                       \u001b[34m║\u001b[0m\n",
       "\u001b[34m╚═══════════════════════════════════════╝\u001b[0m\n"
      ]
     },
     "metadata": {},
     "output_type": "display_data"
    },
    {
     "data": {
      "text/html": [
       "<pre style=\"white-space:pre;overflow-x:auto;line-height:normal;font-family:Menlo,'DejaVu Sans Mono',consolas,'Courier New',monospace\"><span style=\"color: #008000; text-decoration-color: #008000\">╔══════════════════════ </span><span style=\"color: #008000; text-decoration-color: #008000; font-weight: bold\">Write Successful</span><span style=\"color: #008000; text-decoration-color: #008000\"> ══════════════════════╗</span>\n",
       "<span style=\"color: #008000; text-decoration-color: #008000\">║</span> <span style=\"color: #008000; text-decoration-color: #008000; font-weight: bold\">File written successfully to hiking_boot_recommendations.txt</span> <span style=\"color: #008000; text-decoration-color: #008000\">║</span>\n",
       "<span style=\"color: #008000; text-decoration-color: #008000\">╚══════════════════════════════════════════════════════════════╝</span>\n",
       "</pre>\n"
      ],
      "text/plain": [
       "\u001b[32m╔═\u001b[0m\u001b[32m═════════════════════\u001b[0m\u001b[32m \u001b[0m\u001b[1;32mWrite Successful\u001b[0m\u001b[32m \u001b[0m\u001b[32m═════════════════════\u001b[0m\u001b[32m═╗\u001b[0m\n",
       "\u001b[32m║\u001b[0m \u001b[1;32mFile written successfully to hiking_boot_recommendations.txt\u001b[0m \u001b[32m║\u001b[0m\n",
       "\u001b[32m╚══════════════════════════════════════════════════════════════╝\u001b[0m\n"
      ]
     },
     "metadata": {},
     "output_type": "display_data"
    },
    {
     "name": "stdout",
     "output_type": "stream",
     "text": [
      "Perfect! I've provided you with comprehensive hiking boot recommendations and saved the information to `hiking_boot_recommendations.txt` in your current directory. The file includes brand recommendations, key features to consider, popular models, and important sizing tips to help you make the best choice for your hiking needs."
     ]
    }
   ],
   "source": [
    "# Example: E-commerce Customer Service System\n",
    "customer_query = (\n",
    "    \"analyze how should travel recommendation be determined.\"\n",
    ")\n",
    "\n",
    "os.environ[\"BYPASS_TOOL_CONSENT\"] = \"true\"\n",
    "\n",
    "# The orchestrator automatically determines this requires multiple specialized agents\n",
    "response = orchestrator(customer_query)"
   ]
  },
  {
   "cell_type": "markdown",
   "metadata": {},
   "source": [
    "Lets look at the messages of the orchestrator. Here you can see the agent decided to use the sub-agent as tool"
   ]
  },
  {
   "cell_type": "code",
   "execution_count": 24,
   "metadata": {},
   "outputs": [
    {
     "data": {
      "text/plain": [
       "[{'role': 'user',\n",
       "  'content': [{'text': \"I'm looking for hiking boots. Write the final response to current directory.\"}]},\n",
       " {'role': 'user',\n",
       "  'content': [{'text': \"I'm looking for hiking boots. Write the final response to current directory.\"}]},\n",
       " {'role': 'assistant',\n",
       "  'content': [{'text': \"I'll help you with hiking boot recommendations and then write the response to a file in the current directory.\\n\\n## Hiking Boot Recommendations\\n\\nWhen choosing hiking boots, consider these key factors:\\n\\n### **Top-Rated Hiking Boot Brands:**\\n- **Merrell** - Great for beginners, comfortable and affordable\\n- **Salomon** - Excellent for technical terrain and durability\\n- **Keen** - Known for toe protection and wide fit options\\n- **Vasque** - Superior support for heavy loads\\n- **La Sportiva** - Premium quality for serious hikers\\n\\n### **Key Features to Look For:**\\n1. **Waterproofing** - Gore-Tex or similar membrane\\n2. **Ankle Support** - Mid or high-cut for stability\\n3. **Sole Grip** - Vibram soles for traction\\n4. **Breathability** - Mesh panels for ventilation\\n5. **Proper Fit** - Room for toe movement, snug heel\\n\\n### **Popular Models:**\\n- **Merrell Moab 3 Mid** - Versatile all-around boot\\n- **Salomon X Ultra 4 Mid** - Lightweight with great grip\\n- **Keen Targhee III Mid** - Waterproof with roomy toe box\\n- **Vasque Breeze LT GTX** - Excellent for backpacking\\n\\n### **Sizing Tips:**\\n- Shop in the afternoon when feet are slightly swollen\\n- Wear hiking socks when trying on\\n- Allow thumb-width space between longest toe and boot end\\n- Consider half-size up for downhill hiking comfort\\n\\nNow I'll write this information to a file in the current directory:\"},\n",
       "   {'toolUse': {'toolUseId': 'tooluse_gsYgmOaQQsev7v2anIKjCA',\n",
       "     'name': 'file_write',\n",
       "     'input': {'path': 'hiking_boot_recommendations.txt',\n",
       "      'content': 'HIKING BOOT RECOMMENDATIONS\\n\\nWhen choosing hiking boots, consider these key factors:\\n\\nTOP-RATED HIKING BOOT BRANDS:\\n• Merrell - Great for beginners, comfortable and affordable\\n• Salomon - Excellent for technical terrain and durability\\n• Keen - Known for toe protection and wide fit options\\n• Vasque - Superior support for heavy loads\\n• La Sportiva - Premium quality for serious hikers\\n\\nKEY FEATURES TO LOOK FOR:\\n1. Waterproofing - Gore-Tex or similar membrane\\n2. Ankle Support - Mid or high-cut for stability\\n3. Sole Grip - Vibram soles for traction\\n4. Breathability - Mesh panels for ventilation\\n5. Proper Fit - Room for toe movement, snug heel\\n\\nPOPULAR MODELS:\\n• Merrell Moab 3 Mid - Versatile all-around boot\\n• Salomon X Ultra 4 Mid - Lightweight with great grip\\n• Keen Targhee III Mid - Waterproof with roomy toe box\\n• Vasque Breeze LT GTX - Excellent for backpacking\\n\\nSIZING TIPS:\\n• Shop in the afternoon when feet are slightly swollen\\n• Wear hiking socks when trying on\\n• Allow thumb-width space between longest toe and boot end\\n• Consider half-size up for downhill hiking comfort\\n\\nRemember to break in new boots gradually before any major hikes!'}}}]},\n",
       " {'role': 'user',\n",
       "  'content': [{'toolResult': {'toolUseId': 'tooluse_gsYgmOaQQsev7v2anIKjCA',\n",
       "     'status': 'success',\n",
       "     'content': [{'text': 'File write success: File written successfully to hiking_boot_recommendations.txt'}]}}]},\n",
       " {'role': 'assistant',\n",
       "  'content': [{'text': \"Perfect! I've provided you with comprehensive hiking boot recommendations and saved the information to `hiking_boot_recommendations.txt` in your current directory. The file includes brand recommendations, key features to consider, popular models, and important sizing tips to help you make the best choice for your hiking needs.\"}]}]"
      ]
     },
     "execution_count": 24,
     "metadata": {},
     "output_type": "execute_result"
    }
   ],
   "source": [
    "orchestrator.messages"
   ]
  },
  {
   "cell_type": "code",
   "execution_count": null,
   "metadata": {},
   "outputs": [],
   "source": [
    "customer_query = \"Can you help me plan my trip to Patagonia\"\n",
    "\n",
    "response = orchestrator(customer_query)"
   ]
  },
  {
   "cell_type": "code",
   "execution_count": null,
   "metadata": {},
   "outputs": [],
   "source": [
    "orchestrator.messages"
   ]
  },
  {
   "cell_type": "code",
   "execution_count": null,
   "metadata": {},
   "outputs": [],
   "source": [
    "orchestrator.messages = []"
   ]
  },
  {
   "cell_type": "markdown",
   "metadata": {},
   "source": [
    "## Congrats!\n",
    "\n",
    "You've learned how to use agents as tools in Strands Agents to create more complex agentic applications"
   ]
  }
 ],
 "metadata": {
  "kernelspec": {
   "display_name": "Python 3 (ipykernel)",
   "language": "python",
   "name": "python3"
  },
  "language_info": {
   "codemirror_mode": {
    "name": "ipython",
    "version": 3
   },
   "file_extension": ".py",
   "mimetype": "text/x-python",
   "name": "python",
   "nbconvert_exporter": "python",
   "pygments_lexer": "ipython3",
   "version": "3.11.13"
  }
 },
 "nbformat": 4,
 "nbformat_minor": 4
}
